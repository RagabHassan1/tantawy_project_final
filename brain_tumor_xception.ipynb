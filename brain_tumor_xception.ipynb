{
 "cells": [
  {
   "cell_type": "code",
   "execution_count": 1,
   "id": "046278d7",
   "metadata": {
    "_cell_guid": "b1076dfc-b9ad-4769-8c92-a6c4dae69d19",
    "_uuid": "8f2839f25d086af736a60e9eeb907d3b93b6e0e5",
    "execution": {
     "iopub.execute_input": "2024-04-26T19:15:20.219319Z",
     "iopub.status.busy": "2024-04-26T19:15:20.218927Z",
     "iopub.status.idle": "2024-04-26T19:15:21.260151Z",
     "shell.execute_reply": "2024-04-26T19:15:21.259032Z"
    },
    "papermill": {
     "duration": 1.063885,
     "end_time": "2024-04-26T19:15:21.264575",
     "exception": false,
     "start_time": "2024-04-26T19:15:20.200690",
     "status": "completed"
    },
    "tags": []
   },
   "outputs": [
    {
     "name": "stdout",
     "output_type": "stream",
     "text": [
      "/kaggle/input/brain-mri-images-for-brain-tumor-detection/no/34 no.jpg\n",
      "/kaggle/input/brain-mri-images-for-brain-tumor-detection/no/N20.JPG\n",
      "/kaggle/input/brain-mri-images-for-brain-tumor-detection/no/N1.JPG\n",
      "/kaggle/input/brain-mri-images-for-brain-tumor-detection/no/49 no.jpg\n",
      "/kaggle/input/brain-mri-images-for-brain-tumor-detection/no/N15.jpg\n",
      "/kaggle/input/brain-mri-images-for-brain-tumor-detection/no/No18.jpg\n",
      "/kaggle/input/brain-mri-images-for-brain-tumor-detection/no/31 no.jpg\n",
      "/kaggle/input/brain-mri-images-for-brain-tumor-detection/no/no 6.jpg\n",
      "/kaggle/input/brain-mri-images-for-brain-tumor-detection/no/3 no.jpg\n",
      "/kaggle/input/brain-mri-images-for-brain-tumor-detection/no/no 5.jpeg\n",
      "/kaggle/input/brain-mri-images-for-brain-tumor-detection/no/no 1.jpg\n",
      "/kaggle/input/brain-mri-images-for-brain-tumor-detection/no/26 no.jpg\n",
      "/kaggle/input/brain-mri-images-for-brain-tumor-detection/no/N26.JPG\n",
      "/kaggle/input/brain-mri-images-for-brain-tumor-detection/no/N5.jpg\n",
      "/kaggle/input/brain-mri-images-for-brain-tumor-detection/no/6 no.jpg\n",
      "/kaggle/input/brain-mri-images-for-brain-tumor-detection/no/No21.jpg\n",
      "/kaggle/input/brain-mri-images-for-brain-tumor-detection/no/17 no.jpg\n",
      "/kaggle/input/brain-mri-images-for-brain-tumor-detection/no/No22.jpg\n",
      "/kaggle/input/brain-mri-images-for-brain-tumor-detection/no/29 no.jpg\n",
      "/kaggle/input/brain-mri-images-for-brain-tumor-detection/no/46 no.jpg\n",
      "/kaggle/input/brain-mri-images-for-brain-tumor-detection/no/32 no.jpg\n",
      "/kaggle/input/brain-mri-images-for-brain-tumor-detection/no/42 no.jpg\n",
      "/kaggle/input/brain-mri-images-for-brain-tumor-detection/no/no 90.jpg\n",
      "/kaggle/input/brain-mri-images-for-brain-tumor-detection/no/no 94.jpg\n",
      "/kaggle/input/brain-mri-images-for-brain-tumor-detection/no/No19.jpg\n",
      "/kaggle/input/brain-mri-images-for-brain-tumor-detection/no/47 no.jpg\n",
      "/kaggle/input/brain-mri-images-for-brain-tumor-detection/no/N22.JPG\n",
      "/kaggle/input/brain-mri-images-for-brain-tumor-detection/no/No12.jpg\n",
      "/kaggle/input/brain-mri-images-for-brain-tumor-detection/no/15 no.jpg\n",
      "/kaggle/input/brain-mri-images-for-brain-tumor-detection/no/20 no.jpg\n",
      "/kaggle/input/brain-mri-images-for-brain-tumor-detection/no/No13.jpg\n",
      "/kaggle/input/brain-mri-images-for-brain-tumor-detection/no/11 no.jpg\n",
      "/kaggle/input/brain-mri-images-for-brain-tumor-detection/no/N11.jpg\n",
      "/kaggle/input/brain-mri-images-for-brain-tumor-detection/no/No17.jpg\n",
      "/kaggle/input/brain-mri-images-for-brain-tumor-detection/no/no 98.jpg\n",
      "/kaggle/input/brain-mri-images-for-brain-tumor-detection/no/18 no.jpg\n",
      "/kaggle/input/brain-mri-images-for-brain-tumor-detection/no/N19.JPG\n",
      "/kaggle/input/brain-mri-images-for-brain-tumor-detection/no/25 no.jpg\n",
      "/kaggle/input/brain-mri-images-for-brain-tumor-detection/no/24 no.jpg\n",
      "/kaggle/input/brain-mri-images-for-brain-tumor-detection/no/no 91.jpeg\n",
      "/kaggle/input/brain-mri-images-for-brain-tumor-detection/no/45 no.jpg\n",
      "/kaggle/input/brain-mri-images-for-brain-tumor-detection/no/22 no.jpg\n",
      "/kaggle/input/brain-mri-images-for-brain-tumor-detection/no/No16.jpg\n",
      "/kaggle/input/brain-mri-images-for-brain-tumor-detection/no/44no.jpg\n",
      "/kaggle/input/brain-mri-images-for-brain-tumor-detection/no/4 no.jpg\n",
      "/kaggle/input/brain-mri-images-for-brain-tumor-detection/no/36 no.jpg\n",
      "/kaggle/input/brain-mri-images-for-brain-tumor-detection/no/8 no.jpg\n",
      "/kaggle/input/brain-mri-images-for-brain-tumor-detection/no/48 no.jpeg\n",
      "/kaggle/input/brain-mri-images-for-brain-tumor-detection/no/No20.jpg\n",
      "/kaggle/input/brain-mri-images-for-brain-tumor-detection/no/no 2.jpg\n",
      "/kaggle/input/brain-mri-images-for-brain-tumor-detection/no/no 10.jpg\n",
      "/kaggle/input/brain-mri-images-for-brain-tumor-detection/no/7 no.jpg\n",
      "/kaggle/input/brain-mri-images-for-brain-tumor-detection/no/10 no.jpg\n",
      "/kaggle/input/brain-mri-images-for-brain-tumor-detection/no/N17.jpg\n",
      "/kaggle/input/brain-mri-images-for-brain-tumor-detection/no/14 no.jpg\n",
      "/kaggle/input/brain-mri-images-for-brain-tumor-detection/no/no 8.jpg\n",
      "/kaggle/input/brain-mri-images-for-brain-tumor-detection/no/38 no.jpg\n",
      "/kaggle/input/brain-mri-images-for-brain-tumor-detection/no/40 no.jpg\n",
      "/kaggle/input/brain-mri-images-for-brain-tumor-detection/no/no 9.png\n",
      "/kaggle/input/brain-mri-images-for-brain-tumor-detection/no/N3.jpg\n",
      "/kaggle/input/brain-mri-images-for-brain-tumor-detection/no/no 89.jpg\n",
      "/kaggle/input/brain-mri-images-for-brain-tumor-detection/no/19 no.jpg\n",
      "/kaggle/input/brain-mri-images-for-brain-tumor-detection/no/12 no.jpg\n",
      "/kaggle/input/brain-mri-images-for-brain-tumor-detection/no/N2.JPG\n",
      "/kaggle/input/brain-mri-images-for-brain-tumor-detection/no/No11.jpg\n",
      "/kaggle/input/brain-mri-images-for-brain-tumor-detection/no/no 92.jpg\n",
      "/kaggle/input/brain-mri-images-for-brain-tumor-detection/no/No14.jpg\n",
      "/kaggle/input/brain-mri-images-for-brain-tumor-detection/no/39 no.jpg\n",
      "/kaggle/input/brain-mri-images-for-brain-tumor-detection/no/no 7.jpeg\n",
      "/kaggle/input/brain-mri-images-for-brain-tumor-detection/no/27 no.jpg\n",
      "/kaggle/input/brain-mri-images-for-brain-tumor-detection/no/5 no.jpg\n",
      "/kaggle/input/brain-mri-images-for-brain-tumor-detection/no/no 95.jpg\n",
      "/kaggle/input/brain-mri-images-for-brain-tumor-detection/no/no.jpg\n",
      "/kaggle/input/brain-mri-images-for-brain-tumor-detection/no/no 3.jpg\n",
      "/kaggle/input/brain-mri-images-for-brain-tumor-detection/no/No15.jpg\n",
      "/kaggle/input/brain-mri-images-for-brain-tumor-detection/no/no 923.jpg\n",
      "/kaggle/input/brain-mri-images-for-brain-tumor-detection/no/28 no.jpg\n",
      "/kaggle/input/brain-mri-images-for-brain-tumor-detection/no/no 100.jpg\n",
      "/kaggle/input/brain-mri-images-for-brain-tumor-detection/no/23 no.jpg\n",
      "/kaggle/input/brain-mri-images-for-brain-tumor-detection/no/13 no.jpg\n",
      "/kaggle/input/brain-mri-images-for-brain-tumor-detection/no/37 no.jpg\n",
      "/kaggle/input/brain-mri-images-for-brain-tumor-detection/no/21 no.jpg\n",
      "/kaggle/input/brain-mri-images-for-brain-tumor-detection/no/30 no.jpg\n",
      "/kaggle/input/brain-mri-images-for-brain-tumor-detection/no/no 4.jpg\n",
      "/kaggle/input/brain-mri-images-for-brain-tumor-detection/no/9 no.jpg\n",
      "/kaggle/input/brain-mri-images-for-brain-tumor-detection/no/no 99.jpg\n",
      "/kaggle/input/brain-mri-images-for-brain-tumor-detection/no/N21.jpg\n",
      "/kaggle/input/brain-mri-images-for-brain-tumor-detection/no/50 no.jpg\n",
      "/kaggle/input/brain-mri-images-for-brain-tumor-detection/no/43 no.jpg\n",
      "/kaggle/input/brain-mri-images-for-brain-tumor-detection/no/no 96.jpg\n",
      "/kaggle/input/brain-mri-images-for-brain-tumor-detection/no/41 no.jpg\n",
      "/kaggle/input/brain-mri-images-for-brain-tumor-detection/no/N16.jpg\n",
      "/kaggle/input/brain-mri-images-for-brain-tumor-detection/no/no 97.jpg\n",
      "/kaggle/input/brain-mri-images-for-brain-tumor-detection/no/1 no.jpeg\n",
      "/kaggle/input/brain-mri-images-for-brain-tumor-detection/no/2 no.jpeg\n",
      "/kaggle/input/brain-mri-images-for-brain-tumor-detection/no/35 no.jpg\n",
      "/kaggle/input/brain-mri-images-for-brain-tumor-detection/no/N6.jpg\n",
      "/kaggle/input/brain-mri-images-for-brain-tumor-detection/no/33 no.jpg\n",
      "/kaggle/input/brain-mri-images-for-brain-tumor-detection/yes/Y115.JPG\n",
      "/kaggle/input/brain-mri-images-for-brain-tumor-detection/yes/Y192.JPG\n",
      "/kaggle/input/brain-mri-images-for-brain-tumor-detection/yes/Y162.jpg\n",
      "/kaggle/input/brain-mri-images-for-brain-tumor-detection/yes/Y9.jpg\n",
      "/kaggle/input/brain-mri-images-for-brain-tumor-detection/yes/Y108.jpg\n",
      "/kaggle/input/brain-mri-images-for-brain-tumor-detection/yes/Y155.JPG\n",
      "/kaggle/input/brain-mri-images-for-brain-tumor-detection/yes/Y106.jpg\n",
      "/kaggle/input/brain-mri-images-for-brain-tumor-detection/yes/Y258.JPG\n",
      "/kaggle/input/brain-mri-images-for-brain-tumor-detection/yes/Y103.jpg\n",
      "/kaggle/input/brain-mri-images-for-brain-tumor-detection/yes/Y185.jpg\n",
      "/kaggle/input/brain-mri-images-for-brain-tumor-detection/yes/Y180.jpg\n",
      "/kaggle/input/brain-mri-images-for-brain-tumor-detection/yes/Y120.JPG\n",
      "/kaggle/input/brain-mri-images-for-brain-tumor-detection/yes/Y54.jpg\n",
      "/kaggle/input/brain-mri-images-for-brain-tumor-detection/yes/Y165.JPG\n",
      "/kaggle/input/brain-mri-images-for-brain-tumor-detection/yes/Y112.JPG\n",
      "/kaggle/input/brain-mri-images-for-brain-tumor-detection/yes/Y99.JPG\n",
      "/kaggle/input/brain-mri-images-for-brain-tumor-detection/yes/Y3.jpg\n",
      "/kaggle/input/brain-mri-images-for-brain-tumor-detection/yes/Y184.JPG\n",
      "/kaggle/input/brain-mri-images-for-brain-tumor-detection/yes/Y82.jpg\n",
      "/kaggle/input/brain-mri-images-for-brain-tumor-detection/yes/Y169.jpg\n",
      "/kaggle/input/brain-mri-images-for-brain-tumor-detection/yes/Y146.JPG\n",
      "/kaggle/input/brain-mri-images-for-brain-tumor-detection/yes/Y147.JPG\n",
      "/kaggle/input/brain-mri-images-for-brain-tumor-detection/yes/Y116.JPG\n",
      "/kaggle/input/brain-mri-images-for-brain-tumor-detection/yes/Y27.jpg\n",
      "/kaggle/input/brain-mri-images-for-brain-tumor-detection/yes/Y73.jpg\n",
      "/kaggle/input/brain-mri-images-for-brain-tumor-detection/yes/Y181.jpg\n",
      "/kaggle/input/brain-mri-images-for-brain-tumor-detection/yes/Y81.jpg\n",
      "/kaggle/input/brain-mri-images-for-brain-tumor-detection/yes/Y161.JPG\n",
      "/kaggle/input/brain-mri-images-for-brain-tumor-detection/yes/Y17.jpg\n",
      "/kaggle/input/brain-mri-images-for-brain-tumor-detection/yes/Y69.jpg\n",
      "/kaggle/input/brain-mri-images-for-brain-tumor-detection/yes/Y158.JPG\n",
      "/kaggle/input/brain-mri-images-for-brain-tumor-detection/yes/Y32.jpg\n",
      "/kaggle/input/brain-mri-images-for-brain-tumor-detection/yes/Y186.jpg\n",
      "/kaggle/input/brain-mri-images-for-brain-tumor-detection/yes/Y259.JPG\n",
      "/kaggle/input/brain-mri-images-for-brain-tumor-detection/yes/Y42.jpg\n",
      "/kaggle/input/brain-mri-images-for-brain-tumor-detection/yes/Y250.jpg\n",
      "/kaggle/input/brain-mri-images-for-brain-tumor-detection/yes/Y58.JPG\n",
      "/kaggle/input/brain-mri-images-for-brain-tumor-detection/yes/Y60.jpg\n",
      "/kaggle/input/brain-mri-images-for-brain-tumor-detection/yes/Y252.jpg\n",
      "/kaggle/input/brain-mri-images-for-brain-tumor-detection/yes/Y182.JPG\n",
      "/kaggle/input/brain-mri-images-for-brain-tumor-detection/yes/Y154.jpg\n",
      "/kaggle/input/brain-mri-images-for-brain-tumor-detection/yes/Y79.jpg\n",
      "/kaggle/input/brain-mri-images-for-brain-tumor-detection/yes/Y31.jpg\n",
      "/kaggle/input/brain-mri-images-for-brain-tumor-detection/yes/Y98.JPG\n",
      "/kaggle/input/brain-mri-images-for-brain-tumor-detection/yes/Y91.jpg\n",
      "/kaggle/input/brain-mri-images-for-brain-tumor-detection/yes/Y95.jpg\n",
      "/kaggle/input/brain-mri-images-for-brain-tumor-detection/yes/Y22.jpg\n",
      "/kaggle/input/brain-mri-images-for-brain-tumor-detection/yes/Y35.jpg\n",
      "/kaggle/input/brain-mri-images-for-brain-tumor-detection/yes/Y33.jpg\n",
      "/kaggle/input/brain-mri-images-for-brain-tumor-detection/yes/Y247.JPG\n",
      "/kaggle/input/brain-mri-images-for-brain-tumor-detection/yes/Y19.JPG\n",
      "/kaggle/input/brain-mri-images-for-brain-tumor-detection/yes/Y160.JPG\n",
      "/kaggle/input/brain-mri-images-for-brain-tumor-detection/yes/Y13.jpg\n",
      "/kaggle/input/brain-mri-images-for-brain-tumor-detection/yes/Y29.jpg\n",
      "/kaggle/input/brain-mri-images-for-brain-tumor-detection/yes/Y55.jpg\n",
      "/kaggle/input/brain-mri-images-for-brain-tumor-detection/yes/Y4.jpg\n",
      "/kaggle/input/brain-mri-images-for-brain-tumor-detection/yes/Y50.JPG\n",
      "/kaggle/input/brain-mri-images-for-brain-tumor-detection/yes/Y114.JPG\n",
      "/kaggle/input/brain-mri-images-for-brain-tumor-detection/yes/Y26.jpg\n",
      "/kaggle/input/brain-mri-images-for-brain-tumor-detection/yes/Y257.jpg\n",
      "/kaggle/input/brain-mri-images-for-brain-tumor-detection/yes/Y97.JPG\n",
      "/kaggle/input/brain-mri-images-for-brain-tumor-detection/yes/Y14.jpg\n",
      "/kaggle/input/brain-mri-images-for-brain-tumor-detection/yes/Y25.jpg\n",
      "/kaggle/input/brain-mri-images-for-brain-tumor-detection/yes/Y170.JPG\n",
      "/kaggle/input/brain-mri-images-for-brain-tumor-detection/yes/Y51.jpg\n",
      "/kaggle/input/brain-mri-images-for-brain-tumor-detection/yes/Y34.jpg\n",
      "/kaggle/input/brain-mri-images-for-brain-tumor-detection/yes/Y39.jpg\n",
      "/kaggle/input/brain-mri-images-for-brain-tumor-detection/yes/Y15.jpg\n",
      "/kaggle/input/brain-mri-images-for-brain-tumor-detection/yes/Y104.jpg\n",
      "/kaggle/input/brain-mri-images-for-brain-tumor-detection/yes/Y187.jpg\n",
      "/kaggle/input/brain-mri-images-for-brain-tumor-detection/yes/Y167.JPG\n",
      "/kaggle/input/brain-mri-images-for-brain-tumor-detection/yes/Y40.JPG\n",
      "/kaggle/input/brain-mri-images-for-brain-tumor-detection/yes/Y38.jpg\n",
      "/kaggle/input/brain-mri-images-for-brain-tumor-detection/yes/Y111.JPG\n",
      "/kaggle/input/brain-mri-images-for-brain-tumor-detection/yes/Y37.jpg\n",
      "/kaggle/input/brain-mri-images-for-brain-tumor-detection/yes/Y24.jpg\n",
      "/kaggle/input/brain-mri-images-for-brain-tumor-detection/yes/Y157.JPG\n",
      "/kaggle/input/brain-mri-images-for-brain-tumor-detection/yes/Y6.jpg\n",
      "/kaggle/input/brain-mri-images-for-brain-tumor-detection/yes/Y28.jpg\n",
      "/kaggle/input/brain-mri-images-for-brain-tumor-detection/yes/Y164.JPG\n",
      "/kaggle/input/brain-mri-images-for-brain-tumor-detection/yes/Y30.jpg\n",
      "/kaggle/input/brain-mri-images-for-brain-tumor-detection/yes/Y90.jpg\n",
      "/kaggle/input/brain-mri-images-for-brain-tumor-detection/yes/Y92.jpg\n",
      "/kaggle/input/brain-mri-images-for-brain-tumor-detection/yes/Y86.JPG\n",
      "/kaggle/input/brain-mri-images-for-brain-tumor-detection/yes/Y46.jpg\n",
      "/kaggle/input/brain-mri-images-for-brain-tumor-detection/yes/Y248.JPG\n",
      "/kaggle/input/brain-mri-images-for-brain-tumor-detection/yes/Y1.jpg\n",
      "/kaggle/input/brain-mri-images-for-brain-tumor-detection/yes/Y2.jpg\n",
      "/kaggle/input/brain-mri-images-for-brain-tumor-detection/yes/Y62.jpg\n",
      "/kaggle/input/brain-mri-images-for-brain-tumor-detection/yes/Y67.JPG\n",
      "/kaggle/input/brain-mri-images-for-brain-tumor-detection/yes/Y109.JPG\n",
      "/kaggle/input/brain-mri-images-for-brain-tumor-detection/yes/Y117.JPG\n",
      "/kaggle/input/brain-mri-images-for-brain-tumor-detection/yes/Y194.jpg\n",
      "/kaggle/input/brain-mri-images-for-brain-tumor-detection/yes/Y71.JPG\n",
      "/kaggle/input/brain-mri-images-for-brain-tumor-detection/yes/Y7.jpg\n",
      "/kaggle/input/brain-mri-images-for-brain-tumor-detection/yes/Y59.JPG\n",
      "/kaggle/input/brain-mri-images-for-brain-tumor-detection/yes/Y246.JPG\n",
      "/kaggle/input/brain-mri-images-for-brain-tumor-detection/yes/Y66.JPG\n",
      "/kaggle/input/brain-mri-images-for-brain-tumor-detection/yes/Y148.JPG\n",
      "/kaggle/input/brain-mri-images-for-brain-tumor-detection/yes/Y243.JPG\n",
      "/kaggle/input/brain-mri-images-for-brain-tumor-detection/yes/Y56.jpg\n",
      "/kaggle/input/brain-mri-images-for-brain-tumor-detection/yes/Y18.JPG\n",
      "/kaggle/input/brain-mri-images-for-brain-tumor-detection/yes/Y23.JPG\n",
      "/kaggle/input/brain-mri-images-for-brain-tumor-detection/yes/Y96.jpg\n",
      "/kaggle/input/brain-mri-images-for-brain-tumor-detection/yes/Y195.JPG\n",
      "/kaggle/input/brain-mri-images-for-brain-tumor-detection/yes/Y65.JPG\n",
      "/kaggle/input/brain-mri-images-for-brain-tumor-detection/yes/Y16.JPG\n",
      "/kaggle/input/brain-mri-images-for-brain-tumor-detection/yes/Y193.JPG\n",
      "/kaggle/input/brain-mri-images-for-brain-tumor-detection/yes/Y45.JPG\n",
      "/kaggle/input/brain-mri-images-for-brain-tumor-detection/yes/Y53.jpg\n",
      "/kaggle/input/brain-mri-images-for-brain-tumor-detection/yes/Y245.jpg\n",
      "/kaggle/input/brain-mri-images-for-brain-tumor-detection/yes/Y159.JPG\n",
      "/kaggle/input/brain-mri-images-for-brain-tumor-detection/yes/Y12.jpg\n",
      "/kaggle/input/brain-mri-images-for-brain-tumor-detection/yes/Y100.JPG\n",
      "/kaggle/input/brain-mri-images-for-brain-tumor-detection/yes/Y102.jpg\n",
      "/kaggle/input/brain-mri-images-for-brain-tumor-detection/yes/Y75.JPG\n",
      "/kaggle/input/brain-mri-images-for-brain-tumor-detection/yes/Y256.JPG\n",
      "/kaggle/input/brain-mri-images-for-brain-tumor-detection/yes/Y10.jpg\n",
      "/kaggle/input/brain-mri-images-for-brain-tumor-detection/yes/Y253.JPG\n",
      "/kaggle/input/brain-mri-images-for-brain-tumor-detection/yes/Y105.jpg\n",
      "/kaggle/input/brain-mri-images-for-brain-tumor-detection/yes/Y166.JPG\n",
      "/kaggle/input/brain-mri-images-for-brain-tumor-detection/yes/Y61.jpg\n",
      "/kaggle/input/brain-mri-images-for-brain-tumor-detection/yes/Y47.JPG\n",
      "/kaggle/input/brain-mri-images-for-brain-tumor-detection/yes/Y255.JPG\n",
      "/kaggle/input/brain-mri-images-for-brain-tumor-detection/yes/Y70.jpg\n",
      "/kaggle/input/brain-mri-images-for-brain-tumor-detection/yes/Y168.jpg\n",
      "/kaggle/input/brain-mri-images-for-brain-tumor-detection/yes/Y163.JPG\n",
      "/kaggle/input/brain-mri-images-for-brain-tumor-detection/yes/Y188.jpg\n",
      "/kaggle/input/brain-mri-images-for-brain-tumor-detection/yes/Y242.JPG\n",
      "/kaggle/input/brain-mri-images-for-brain-tumor-detection/yes/Y21.jpg\n",
      "/kaggle/input/brain-mri-images-for-brain-tumor-detection/yes/Y36.JPG\n",
      "/kaggle/input/brain-mri-images-for-brain-tumor-detection/yes/Y254.jpg\n",
      "/kaggle/input/brain-mri-images-for-brain-tumor-detection/yes/Y183.jpg\n",
      "/kaggle/input/brain-mri-images-for-brain-tumor-detection/yes/Y74.jpg\n",
      "/kaggle/input/brain-mri-images-for-brain-tumor-detection/yes/Y251.JPG\n",
      "/kaggle/input/brain-mri-images-for-brain-tumor-detection/yes/Y52.jpg\n",
      "/kaggle/input/brain-mri-images-for-brain-tumor-detection/yes/Y153.jpg\n",
      "/kaggle/input/brain-mri-images-for-brain-tumor-detection/yes/Y156.JPG\n",
      "/kaggle/input/brain-mri-images-for-brain-tumor-detection/yes/Y11.jpg\n",
      "/kaggle/input/brain-mri-images-for-brain-tumor-detection/yes/Y77.jpg\n",
      "/kaggle/input/brain-mri-images-for-brain-tumor-detection/yes/Y249.JPG\n",
      "/kaggle/input/brain-mri-images-for-brain-tumor-detection/yes/Y41.jpg\n",
      "/kaggle/input/brain-mri-images-for-brain-tumor-detection/yes/Y76.jpg\n",
      "/kaggle/input/brain-mri-images-for-brain-tumor-detection/yes/Y78.jpg\n",
      "/kaggle/input/brain-mri-images-for-brain-tumor-detection/yes/Y20.jpg\n",
      "/kaggle/input/brain-mri-images-for-brain-tumor-detection/yes/Y85.JPG\n",
      "/kaggle/input/brain-mri-images-for-brain-tumor-detection/yes/Y49.JPG\n",
      "/kaggle/input/brain-mri-images-for-brain-tumor-detection/yes/Y244.JPG\n",
      "/kaggle/input/brain-mri-images-for-brain-tumor-detection/yes/Y8.jpg\n",
      "/kaggle/input/brain-mri-images-for-brain-tumor-detection/yes/Y107.jpg\n",
      "/kaggle/input/brain-mri-images-for-brain-tumor-detection/yes/Y113.JPG\n",
      "/kaggle/input/brain-mri-images-for-brain-tumor-detection/yes/Y101.jpg\n",
      "/kaggle/input/brain-mri-images-for-brain-tumor-detection/yes/Y89.JPG\n",
      "/kaggle/input/brain-mri-images-for-brain-tumor-detection/yes/Y44.JPG\n",
      "/kaggle/input/brain-mri-images-for-brain-tumor-detection/yes/Y92.png\n",
      "/kaggle/input/brain-mri-images-for-brain-tumor-detection/brain_tumor_dataset/no/34 no.jpg\n",
      "/kaggle/input/brain-mri-images-for-brain-tumor-detection/brain_tumor_dataset/no/N20.JPG\n",
      "/kaggle/input/brain-mri-images-for-brain-tumor-detection/brain_tumor_dataset/no/N1.JPG\n",
      "/kaggle/input/brain-mri-images-for-brain-tumor-detection/brain_tumor_dataset/no/49 no.jpg\n",
      "/kaggle/input/brain-mri-images-for-brain-tumor-detection/brain_tumor_dataset/no/N15.jpg\n",
      "/kaggle/input/brain-mri-images-for-brain-tumor-detection/brain_tumor_dataset/no/No18.jpg\n",
      "/kaggle/input/brain-mri-images-for-brain-tumor-detection/brain_tumor_dataset/no/31 no.jpg\n",
      "/kaggle/input/brain-mri-images-for-brain-tumor-detection/brain_tumor_dataset/no/no 6.jpg\n",
      "/kaggle/input/brain-mri-images-for-brain-tumor-detection/brain_tumor_dataset/no/3 no.jpg\n",
      "/kaggle/input/brain-mri-images-for-brain-tumor-detection/brain_tumor_dataset/no/no 5.jpeg\n",
      "/kaggle/input/brain-mri-images-for-brain-tumor-detection/brain_tumor_dataset/no/no 1.jpg\n",
      "/kaggle/input/brain-mri-images-for-brain-tumor-detection/brain_tumor_dataset/no/26 no.jpg\n",
      "/kaggle/input/brain-mri-images-for-brain-tumor-detection/brain_tumor_dataset/no/N26.JPG\n",
      "/kaggle/input/brain-mri-images-for-brain-tumor-detection/brain_tumor_dataset/no/N5.jpg\n",
      "/kaggle/input/brain-mri-images-for-brain-tumor-detection/brain_tumor_dataset/no/6 no.jpg\n",
      "/kaggle/input/brain-mri-images-for-brain-tumor-detection/brain_tumor_dataset/no/No21.jpg\n",
      "/kaggle/input/brain-mri-images-for-brain-tumor-detection/brain_tumor_dataset/no/17 no.jpg\n",
      "/kaggle/input/brain-mri-images-for-brain-tumor-detection/brain_tumor_dataset/no/No22.jpg\n",
      "/kaggle/input/brain-mri-images-for-brain-tumor-detection/brain_tumor_dataset/no/29 no.jpg\n",
      "/kaggle/input/brain-mri-images-for-brain-tumor-detection/brain_tumor_dataset/no/46 no.jpg\n",
      "/kaggle/input/brain-mri-images-for-brain-tumor-detection/brain_tumor_dataset/no/32 no.jpg\n",
      "/kaggle/input/brain-mri-images-for-brain-tumor-detection/brain_tumor_dataset/no/42 no.jpg\n",
      "/kaggle/input/brain-mri-images-for-brain-tumor-detection/brain_tumor_dataset/no/no 90.jpg\n",
      "/kaggle/input/brain-mri-images-for-brain-tumor-detection/brain_tumor_dataset/no/no 94.jpg\n",
      "/kaggle/input/brain-mri-images-for-brain-tumor-detection/brain_tumor_dataset/no/No19.jpg\n",
      "/kaggle/input/brain-mri-images-for-brain-tumor-detection/brain_tumor_dataset/no/47 no.jpg\n",
      "/kaggle/input/brain-mri-images-for-brain-tumor-detection/brain_tumor_dataset/no/N22.JPG\n",
      "/kaggle/input/brain-mri-images-for-brain-tumor-detection/brain_tumor_dataset/no/No12.jpg\n",
      "/kaggle/input/brain-mri-images-for-brain-tumor-detection/brain_tumor_dataset/no/15 no.jpg\n",
      "/kaggle/input/brain-mri-images-for-brain-tumor-detection/brain_tumor_dataset/no/20 no.jpg\n",
      "/kaggle/input/brain-mri-images-for-brain-tumor-detection/brain_tumor_dataset/no/No13.jpg\n",
      "/kaggle/input/brain-mri-images-for-brain-tumor-detection/brain_tumor_dataset/no/11 no.jpg\n",
      "/kaggle/input/brain-mri-images-for-brain-tumor-detection/brain_tumor_dataset/no/N11.jpg\n",
      "/kaggle/input/brain-mri-images-for-brain-tumor-detection/brain_tumor_dataset/no/No17.jpg\n",
      "/kaggle/input/brain-mri-images-for-brain-tumor-detection/brain_tumor_dataset/no/no 98.jpg\n",
      "/kaggle/input/brain-mri-images-for-brain-tumor-detection/brain_tumor_dataset/no/18 no.jpg\n",
      "/kaggle/input/brain-mri-images-for-brain-tumor-detection/brain_tumor_dataset/no/N19.JPG\n",
      "/kaggle/input/brain-mri-images-for-brain-tumor-detection/brain_tumor_dataset/no/25 no.jpg\n",
      "/kaggle/input/brain-mri-images-for-brain-tumor-detection/brain_tumor_dataset/no/24 no.jpg\n",
      "/kaggle/input/brain-mri-images-for-brain-tumor-detection/brain_tumor_dataset/no/no 91.jpeg\n",
      "/kaggle/input/brain-mri-images-for-brain-tumor-detection/brain_tumor_dataset/no/45 no.jpg\n",
      "/kaggle/input/brain-mri-images-for-brain-tumor-detection/brain_tumor_dataset/no/22 no.jpg\n",
      "/kaggle/input/brain-mri-images-for-brain-tumor-detection/brain_tumor_dataset/no/No16.jpg\n",
      "/kaggle/input/brain-mri-images-for-brain-tumor-detection/brain_tumor_dataset/no/44no.jpg\n",
      "/kaggle/input/brain-mri-images-for-brain-tumor-detection/brain_tumor_dataset/no/4 no.jpg\n",
      "/kaggle/input/brain-mri-images-for-brain-tumor-detection/brain_tumor_dataset/no/36 no.jpg\n",
      "/kaggle/input/brain-mri-images-for-brain-tumor-detection/brain_tumor_dataset/no/8 no.jpg\n",
      "/kaggle/input/brain-mri-images-for-brain-tumor-detection/brain_tumor_dataset/no/48 no.jpeg\n",
      "/kaggle/input/brain-mri-images-for-brain-tumor-detection/brain_tumor_dataset/no/No20.jpg\n",
      "/kaggle/input/brain-mri-images-for-brain-tumor-detection/brain_tumor_dataset/no/no 2.jpg\n",
      "/kaggle/input/brain-mri-images-for-brain-tumor-detection/brain_tumor_dataset/no/no 10.jpg\n",
      "/kaggle/input/brain-mri-images-for-brain-tumor-detection/brain_tumor_dataset/no/7 no.jpg\n",
      "/kaggle/input/brain-mri-images-for-brain-tumor-detection/brain_tumor_dataset/no/10 no.jpg\n",
      "/kaggle/input/brain-mri-images-for-brain-tumor-detection/brain_tumor_dataset/no/N17.jpg\n",
      "/kaggle/input/brain-mri-images-for-brain-tumor-detection/brain_tumor_dataset/no/14 no.jpg\n",
      "/kaggle/input/brain-mri-images-for-brain-tumor-detection/brain_tumor_dataset/no/no 8.jpg\n",
      "/kaggle/input/brain-mri-images-for-brain-tumor-detection/brain_tumor_dataset/no/38 no.jpg\n",
      "/kaggle/input/brain-mri-images-for-brain-tumor-detection/brain_tumor_dataset/no/40 no.jpg\n",
      "/kaggle/input/brain-mri-images-for-brain-tumor-detection/brain_tumor_dataset/no/no 9.png\n",
      "/kaggle/input/brain-mri-images-for-brain-tumor-detection/brain_tumor_dataset/no/N3.jpg\n",
      "/kaggle/input/brain-mri-images-for-brain-tumor-detection/brain_tumor_dataset/no/no 89.jpg\n",
      "/kaggle/input/brain-mri-images-for-brain-tumor-detection/brain_tumor_dataset/no/19 no.jpg\n",
      "/kaggle/input/brain-mri-images-for-brain-tumor-detection/brain_tumor_dataset/no/12 no.jpg\n",
      "/kaggle/input/brain-mri-images-for-brain-tumor-detection/brain_tumor_dataset/no/N2.JPG\n",
      "/kaggle/input/brain-mri-images-for-brain-tumor-detection/brain_tumor_dataset/no/No11.jpg\n",
      "/kaggle/input/brain-mri-images-for-brain-tumor-detection/brain_tumor_dataset/no/no 92.jpg\n",
      "/kaggle/input/brain-mri-images-for-brain-tumor-detection/brain_tumor_dataset/no/No14.jpg\n",
      "/kaggle/input/brain-mri-images-for-brain-tumor-detection/brain_tumor_dataset/no/39 no.jpg\n",
      "/kaggle/input/brain-mri-images-for-brain-tumor-detection/brain_tumor_dataset/no/no 7.jpeg\n",
      "/kaggle/input/brain-mri-images-for-brain-tumor-detection/brain_tumor_dataset/no/27 no.jpg\n",
      "/kaggle/input/brain-mri-images-for-brain-tumor-detection/brain_tumor_dataset/no/5 no.jpg\n",
      "/kaggle/input/brain-mri-images-for-brain-tumor-detection/brain_tumor_dataset/no/no 95.jpg\n",
      "/kaggle/input/brain-mri-images-for-brain-tumor-detection/brain_tumor_dataset/no/no.jpg\n",
      "/kaggle/input/brain-mri-images-for-brain-tumor-detection/brain_tumor_dataset/no/no 3.jpg\n",
      "/kaggle/input/brain-mri-images-for-brain-tumor-detection/brain_tumor_dataset/no/No15.jpg\n",
      "/kaggle/input/brain-mri-images-for-brain-tumor-detection/brain_tumor_dataset/no/no 923.jpg\n",
      "/kaggle/input/brain-mri-images-for-brain-tumor-detection/brain_tumor_dataset/no/28 no.jpg\n",
      "/kaggle/input/brain-mri-images-for-brain-tumor-detection/brain_tumor_dataset/no/no 100.jpg\n",
      "/kaggle/input/brain-mri-images-for-brain-tumor-detection/brain_tumor_dataset/no/23 no.jpg\n",
      "/kaggle/input/brain-mri-images-for-brain-tumor-detection/brain_tumor_dataset/no/13 no.jpg\n",
      "/kaggle/input/brain-mri-images-for-brain-tumor-detection/brain_tumor_dataset/no/37 no.jpg\n",
      "/kaggle/input/brain-mri-images-for-brain-tumor-detection/brain_tumor_dataset/no/21 no.jpg\n",
      "/kaggle/input/brain-mri-images-for-brain-tumor-detection/brain_tumor_dataset/no/30 no.jpg\n",
      "/kaggle/input/brain-mri-images-for-brain-tumor-detection/brain_tumor_dataset/no/no 4.jpg\n",
      "/kaggle/input/brain-mri-images-for-brain-tumor-detection/brain_tumor_dataset/no/9 no.jpg\n",
      "/kaggle/input/brain-mri-images-for-brain-tumor-detection/brain_tumor_dataset/no/no 99.jpg\n",
      "/kaggle/input/brain-mri-images-for-brain-tumor-detection/brain_tumor_dataset/no/N21.jpg\n",
      "/kaggle/input/brain-mri-images-for-brain-tumor-detection/brain_tumor_dataset/no/50 no.jpg\n",
      "/kaggle/input/brain-mri-images-for-brain-tumor-detection/brain_tumor_dataset/no/43 no.jpg\n",
      "/kaggle/input/brain-mri-images-for-brain-tumor-detection/brain_tumor_dataset/no/no 96.jpg\n",
      "/kaggle/input/brain-mri-images-for-brain-tumor-detection/brain_tumor_dataset/no/41 no.jpg\n",
      "/kaggle/input/brain-mri-images-for-brain-tumor-detection/brain_tumor_dataset/no/N16.jpg\n",
      "/kaggle/input/brain-mri-images-for-brain-tumor-detection/brain_tumor_dataset/no/no 97.jpg\n",
      "/kaggle/input/brain-mri-images-for-brain-tumor-detection/brain_tumor_dataset/no/1 no.jpeg\n",
      "/kaggle/input/brain-mri-images-for-brain-tumor-detection/brain_tumor_dataset/no/2 no.jpeg\n",
      "/kaggle/input/brain-mri-images-for-brain-tumor-detection/brain_tumor_dataset/no/35 no.jpg\n",
      "/kaggle/input/brain-mri-images-for-brain-tumor-detection/brain_tumor_dataset/no/N6.jpg\n",
      "/kaggle/input/brain-mri-images-for-brain-tumor-detection/brain_tumor_dataset/no/33 no.jpg\n",
      "/kaggle/input/brain-mri-images-for-brain-tumor-detection/brain_tumor_dataset/yes/Y115.JPG\n",
      "/kaggle/input/brain-mri-images-for-brain-tumor-detection/brain_tumor_dataset/yes/Y192.JPG\n",
      "/kaggle/input/brain-mri-images-for-brain-tumor-detection/brain_tumor_dataset/yes/Y162.jpg\n",
      "/kaggle/input/brain-mri-images-for-brain-tumor-detection/brain_tumor_dataset/yes/Y9.jpg\n",
      "/kaggle/input/brain-mri-images-for-brain-tumor-detection/brain_tumor_dataset/yes/Y108.jpg\n",
      "/kaggle/input/brain-mri-images-for-brain-tumor-detection/brain_tumor_dataset/yes/Y155.JPG\n",
      "/kaggle/input/brain-mri-images-for-brain-tumor-detection/brain_tumor_dataset/yes/Y106.jpg\n",
      "/kaggle/input/brain-mri-images-for-brain-tumor-detection/brain_tumor_dataset/yes/Y258.JPG\n",
      "/kaggle/input/brain-mri-images-for-brain-tumor-detection/brain_tumor_dataset/yes/Y103.jpg\n",
      "/kaggle/input/brain-mri-images-for-brain-tumor-detection/brain_tumor_dataset/yes/Y185.jpg\n",
      "/kaggle/input/brain-mri-images-for-brain-tumor-detection/brain_tumor_dataset/yes/Y180.jpg\n",
      "/kaggle/input/brain-mri-images-for-brain-tumor-detection/brain_tumor_dataset/yes/Y120.JPG\n",
      "/kaggle/input/brain-mri-images-for-brain-tumor-detection/brain_tumor_dataset/yes/Y54.jpg\n",
      "/kaggle/input/brain-mri-images-for-brain-tumor-detection/brain_tumor_dataset/yes/Y165.JPG\n",
      "/kaggle/input/brain-mri-images-for-brain-tumor-detection/brain_tumor_dataset/yes/Y112.JPG\n",
      "/kaggle/input/brain-mri-images-for-brain-tumor-detection/brain_tumor_dataset/yes/Y99.JPG\n",
      "/kaggle/input/brain-mri-images-for-brain-tumor-detection/brain_tumor_dataset/yes/Y3.jpg\n",
      "/kaggle/input/brain-mri-images-for-brain-tumor-detection/brain_tumor_dataset/yes/Y184.JPG\n",
      "/kaggle/input/brain-mri-images-for-brain-tumor-detection/brain_tumor_dataset/yes/Y82.jpg\n",
      "/kaggle/input/brain-mri-images-for-brain-tumor-detection/brain_tumor_dataset/yes/Y169.jpg\n",
      "/kaggle/input/brain-mri-images-for-brain-tumor-detection/brain_tumor_dataset/yes/Y146.JPG\n",
      "/kaggle/input/brain-mri-images-for-brain-tumor-detection/brain_tumor_dataset/yes/Y147.JPG\n",
      "/kaggle/input/brain-mri-images-for-brain-tumor-detection/brain_tumor_dataset/yes/Y116.JPG\n",
      "/kaggle/input/brain-mri-images-for-brain-tumor-detection/brain_tumor_dataset/yes/Y27.jpg\n",
      "/kaggle/input/brain-mri-images-for-brain-tumor-detection/brain_tumor_dataset/yes/Y73.jpg\n",
      "/kaggle/input/brain-mri-images-for-brain-tumor-detection/brain_tumor_dataset/yes/Y181.jpg\n",
      "/kaggle/input/brain-mri-images-for-brain-tumor-detection/brain_tumor_dataset/yes/Y81.jpg\n",
      "/kaggle/input/brain-mri-images-for-brain-tumor-detection/brain_tumor_dataset/yes/Y161.JPG\n",
      "/kaggle/input/brain-mri-images-for-brain-tumor-detection/brain_tumor_dataset/yes/Y17.jpg\n",
      "/kaggle/input/brain-mri-images-for-brain-tumor-detection/brain_tumor_dataset/yes/Y69.jpg\n",
      "/kaggle/input/brain-mri-images-for-brain-tumor-detection/brain_tumor_dataset/yes/Y158.JPG\n",
      "/kaggle/input/brain-mri-images-for-brain-tumor-detection/brain_tumor_dataset/yes/Y32.jpg\n",
      "/kaggle/input/brain-mri-images-for-brain-tumor-detection/brain_tumor_dataset/yes/Y186.jpg\n",
      "/kaggle/input/brain-mri-images-for-brain-tumor-detection/brain_tumor_dataset/yes/Y259.JPG\n",
      "/kaggle/input/brain-mri-images-for-brain-tumor-detection/brain_tumor_dataset/yes/Y42.jpg\n",
      "/kaggle/input/brain-mri-images-for-brain-tumor-detection/brain_tumor_dataset/yes/Y250.jpg\n",
      "/kaggle/input/brain-mri-images-for-brain-tumor-detection/brain_tumor_dataset/yes/Y58.JPG\n",
      "/kaggle/input/brain-mri-images-for-brain-tumor-detection/brain_tumor_dataset/yes/Y60.jpg\n",
      "/kaggle/input/brain-mri-images-for-brain-tumor-detection/brain_tumor_dataset/yes/Y252.jpg\n",
      "/kaggle/input/brain-mri-images-for-brain-tumor-detection/brain_tumor_dataset/yes/Y182.JPG\n",
      "/kaggle/input/brain-mri-images-for-brain-tumor-detection/brain_tumor_dataset/yes/Y154.jpg\n",
      "/kaggle/input/brain-mri-images-for-brain-tumor-detection/brain_tumor_dataset/yes/Y79.jpg\n",
      "/kaggle/input/brain-mri-images-for-brain-tumor-detection/brain_tumor_dataset/yes/Y31.jpg\n",
      "/kaggle/input/brain-mri-images-for-brain-tumor-detection/brain_tumor_dataset/yes/Y98.JPG\n",
      "/kaggle/input/brain-mri-images-for-brain-tumor-detection/brain_tumor_dataset/yes/Y91.jpg\n",
      "/kaggle/input/brain-mri-images-for-brain-tumor-detection/brain_tumor_dataset/yes/Y95.jpg\n",
      "/kaggle/input/brain-mri-images-for-brain-tumor-detection/brain_tumor_dataset/yes/Y22.jpg\n",
      "/kaggle/input/brain-mri-images-for-brain-tumor-detection/brain_tumor_dataset/yes/Y35.jpg\n",
      "/kaggle/input/brain-mri-images-for-brain-tumor-detection/brain_tumor_dataset/yes/Y33.jpg\n",
      "/kaggle/input/brain-mri-images-for-brain-tumor-detection/brain_tumor_dataset/yes/Y247.JPG\n",
      "/kaggle/input/brain-mri-images-for-brain-tumor-detection/brain_tumor_dataset/yes/Y19.JPG\n",
      "/kaggle/input/brain-mri-images-for-brain-tumor-detection/brain_tumor_dataset/yes/Y160.JPG\n",
      "/kaggle/input/brain-mri-images-for-brain-tumor-detection/brain_tumor_dataset/yes/Y13.jpg\n",
      "/kaggle/input/brain-mri-images-for-brain-tumor-detection/brain_tumor_dataset/yes/Y29.jpg\n",
      "/kaggle/input/brain-mri-images-for-brain-tumor-detection/brain_tumor_dataset/yes/Y55.jpg\n",
      "/kaggle/input/brain-mri-images-for-brain-tumor-detection/brain_tumor_dataset/yes/Y4.jpg\n",
      "/kaggle/input/brain-mri-images-for-brain-tumor-detection/brain_tumor_dataset/yes/Y50.JPG\n",
      "/kaggle/input/brain-mri-images-for-brain-tumor-detection/brain_tumor_dataset/yes/Y114.JPG\n",
      "/kaggle/input/brain-mri-images-for-brain-tumor-detection/brain_tumor_dataset/yes/Y26.jpg\n",
      "/kaggle/input/brain-mri-images-for-brain-tumor-detection/brain_tumor_dataset/yes/Y257.jpg\n",
      "/kaggle/input/brain-mri-images-for-brain-tumor-detection/brain_tumor_dataset/yes/Y97.JPG\n",
      "/kaggle/input/brain-mri-images-for-brain-tumor-detection/brain_tumor_dataset/yes/Y14.jpg\n",
      "/kaggle/input/brain-mri-images-for-brain-tumor-detection/brain_tumor_dataset/yes/Y25.jpg\n",
      "/kaggle/input/brain-mri-images-for-brain-tumor-detection/brain_tumor_dataset/yes/Y170.JPG\n",
      "/kaggle/input/brain-mri-images-for-brain-tumor-detection/brain_tumor_dataset/yes/Y51.jpg\n",
      "/kaggle/input/brain-mri-images-for-brain-tumor-detection/brain_tumor_dataset/yes/Y34.jpg\n",
      "/kaggle/input/brain-mri-images-for-brain-tumor-detection/brain_tumor_dataset/yes/Y39.jpg\n",
      "/kaggle/input/brain-mri-images-for-brain-tumor-detection/brain_tumor_dataset/yes/Y15.jpg\n",
      "/kaggle/input/brain-mri-images-for-brain-tumor-detection/brain_tumor_dataset/yes/Y104.jpg\n",
      "/kaggle/input/brain-mri-images-for-brain-tumor-detection/brain_tumor_dataset/yes/Y187.jpg\n",
      "/kaggle/input/brain-mri-images-for-brain-tumor-detection/brain_tumor_dataset/yes/Y167.JPG\n",
      "/kaggle/input/brain-mri-images-for-brain-tumor-detection/brain_tumor_dataset/yes/Y40.JPG\n",
      "/kaggle/input/brain-mri-images-for-brain-tumor-detection/brain_tumor_dataset/yes/Y38.jpg\n",
      "/kaggle/input/brain-mri-images-for-brain-tumor-detection/brain_tumor_dataset/yes/Y111.JPG\n",
      "/kaggle/input/brain-mri-images-for-brain-tumor-detection/brain_tumor_dataset/yes/Y37.jpg\n",
      "/kaggle/input/brain-mri-images-for-brain-tumor-detection/brain_tumor_dataset/yes/Y24.jpg\n",
      "/kaggle/input/brain-mri-images-for-brain-tumor-detection/brain_tumor_dataset/yes/Y157.JPG\n",
      "/kaggle/input/brain-mri-images-for-brain-tumor-detection/brain_tumor_dataset/yes/Y6.jpg\n",
      "/kaggle/input/brain-mri-images-for-brain-tumor-detection/brain_tumor_dataset/yes/Y28.jpg\n",
      "/kaggle/input/brain-mri-images-for-brain-tumor-detection/brain_tumor_dataset/yes/Y164.JPG\n",
      "/kaggle/input/brain-mri-images-for-brain-tumor-detection/brain_tumor_dataset/yes/Y30.jpg\n",
      "/kaggle/input/brain-mri-images-for-brain-tumor-detection/brain_tumor_dataset/yes/Y90.jpg\n",
      "/kaggle/input/brain-mri-images-for-brain-tumor-detection/brain_tumor_dataset/yes/Y92.jpg\n",
      "/kaggle/input/brain-mri-images-for-brain-tumor-detection/brain_tumor_dataset/yes/Y86.JPG\n",
      "/kaggle/input/brain-mri-images-for-brain-tumor-detection/brain_tumor_dataset/yes/Y46.jpg\n",
      "/kaggle/input/brain-mri-images-for-brain-tumor-detection/brain_tumor_dataset/yes/Y248.JPG\n",
      "/kaggle/input/brain-mri-images-for-brain-tumor-detection/brain_tumor_dataset/yes/Y1.jpg\n",
      "/kaggle/input/brain-mri-images-for-brain-tumor-detection/brain_tumor_dataset/yes/Y2.jpg\n",
      "/kaggle/input/brain-mri-images-for-brain-tumor-detection/brain_tumor_dataset/yes/Y62.jpg\n",
      "/kaggle/input/brain-mri-images-for-brain-tumor-detection/brain_tumor_dataset/yes/Y67.JPG\n",
      "/kaggle/input/brain-mri-images-for-brain-tumor-detection/brain_tumor_dataset/yes/Y109.JPG\n",
      "/kaggle/input/brain-mri-images-for-brain-tumor-detection/brain_tumor_dataset/yes/Y117.JPG\n",
      "/kaggle/input/brain-mri-images-for-brain-tumor-detection/brain_tumor_dataset/yes/Y194.jpg\n",
      "/kaggle/input/brain-mri-images-for-brain-tumor-detection/brain_tumor_dataset/yes/Y71.JPG\n",
      "/kaggle/input/brain-mri-images-for-brain-tumor-detection/brain_tumor_dataset/yes/Y7.jpg\n",
      "/kaggle/input/brain-mri-images-for-brain-tumor-detection/brain_tumor_dataset/yes/Y59.JPG\n",
      "/kaggle/input/brain-mri-images-for-brain-tumor-detection/brain_tumor_dataset/yes/Y246.JPG\n",
      "/kaggle/input/brain-mri-images-for-brain-tumor-detection/brain_tumor_dataset/yes/Y66.JPG\n",
      "/kaggle/input/brain-mri-images-for-brain-tumor-detection/brain_tumor_dataset/yes/Y148.JPG\n",
      "/kaggle/input/brain-mri-images-for-brain-tumor-detection/brain_tumor_dataset/yes/Y243.JPG\n",
      "/kaggle/input/brain-mri-images-for-brain-tumor-detection/brain_tumor_dataset/yes/Y56.jpg\n",
      "/kaggle/input/brain-mri-images-for-brain-tumor-detection/brain_tumor_dataset/yes/Y18.JPG\n",
      "/kaggle/input/brain-mri-images-for-brain-tumor-detection/brain_tumor_dataset/yes/Y23.JPG\n",
      "/kaggle/input/brain-mri-images-for-brain-tumor-detection/brain_tumor_dataset/yes/Y96.jpg\n",
      "/kaggle/input/brain-mri-images-for-brain-tumor-detection/brain_tumor_dataset/yes/Y195.JPG\n",
      "/kaggle/input/brain-mri-images-for-brain-tumor-detection/brain_tumor_dataset/yes/Y65.JPG\n",
      "/kaggle/input/brain-mri-images-for-brain-tumor-detection/brain_tumor_dataset/yes/Y16.JPG\n",
      "/kaggle/input/brain-mri-images-for-brain-tumor-detection/brain_tumor_dataset/yes/Y193.JPG\n",
      "/kaggle/input/brain-mri-images-for-brain-tumor-detection/brain_tumor_dataset/yes/Y45.JPG\n",
      "/kaggle/input/brain-mri-images-for-brain-tumor-detection/brain_tumor_dataset/yes/Y53.jpg\n",
      "/kaggle/input/brain-mri-images-for-brain-tumor-detection/brain_tumor_dataset/yes/Y245.jpg\n",
      "/kaggle/input/brain-mri-images-for-brain-tumor-detection/brain_tumor_dataset/yes/Y159.JPG\n",
      "/kaggle/input/brain-mri-images-for-brain-tumor-detection/brain_tumor_dataset/yes/Y12.jpg\n",
      "/kaggle/input/brain-mri-images-for-brain-tumor-detection/brain_tumor_dataset/yes/Y100.JPG\n",
      "/kaggle/input/brain-mri-images-for-brain-tumor-detection/brain_tumor_dataset/yes/Y102.jpg\n",
      "/kaggle/input/brain-mri-images-for-brain-tumor-detection/brain_tumor_dataset/yes/Y75.JPG\n",
      "/kaggle/input/brain-mri-images-for-brain-tumor-detection/brain_tumor_dataset/yes/Y256.JPG\n",
      "/kaggle/input/brain-mri-images-for-brain-tumor-detection/brain_tumor_dataset/yes/Y10.jpg\n",
      "/kaggle/input/brain-mri-images-for-brain-tumor-detection/brain_tumor_dataset/yes/Y253.JPG\n",
      "/kaggle/input/brain-mri-images-for-brain-tumor-detection/brain_tumor_dataset/yes/Y105.jpg\n",
      "/kaggle/input/brain-mri-images-for-brain-tumor-detection/brain_tumor_dataset/yes/Y166.JPG\n",
      "/kaggle/input/brain-mri-images-for-brain-tumor-detection/brain_tumor_dataset/yes/Y61.jpg\n",
      "/kaggle/input/brain-mri-images-for-brain-tumor-detection/brain_tumor_dataset/yes/Y47.JPG\n",
      "/kaggle/input/brain-mri-images-for-brain-tumor-detection/brain_tumor_dataset/yes/Y255.JPG\n",
      "/kaggle/input/brain-mri-images-for-brain-tumor-detection/brain_tumor_dataset/yes/Y70.jpg\n",
      "/kaggle/input/brain-mri-images-for-brain-tumor-detection/brain_tumor_dataset/yes/Y168.jpg\n",
      "/kaggle/input/brain-mri-images-for-brain-tumor-detection/brain_tumor_dataset/yes/Y163.JPG\n",
      "/kaggle/input/brain-mri-images-for-brain-tumor-detection/brain_tumor_dataset/yes/Y188.jpg\n",
      "/kaggle/input/brain-mri-images-for-brain-tumor-detection/brain_tumor_dataset/yes/Y242.JPG\n",
      "/kaggle/input/brain-mri-images-for-brain-tumor-detection/brain_tumor_dataset/yes/Y21.jpg\n",
      "/kaggle/input/brain-mri-images-for-brain-tumor-detection/brain_tumor_dataset/yes/Y36.JPG\n",
      "/kaggle/input/brain-mri-images-for-brain-tumor-detection/brain_tumor_dataset/yes/Y254.jpg\n",
      "/kaggle/input/brain-mri-images-for-brain-tumor-detection/brain_tumor_dataset/yes/Y183.jpg\n",
      "/kaggle/input/brain-mri-images-for-brain-tumor-detection/brain_tumor_dataset/yes/Y74.jpg\n",
      "/kaggle/input/brain-mri-images-for-brain-tumor-detection/brain_tumor_dataset/yes/Y251.JPG\n",
      "/kaggle/input/brain-mri-images-for-brain-tumor-detection/brain_tumor_dataset/yes/Y52.jpg\n",
      "/kaggle/input/brain-mri-images-for-brain-tumor-detection/brain_tumor_dataset/yes/Y153.jpg\n",
      "/kaggle/input/brain-mri-images-for-brain-tumor-detection/brain_tumor_dataset/yes/Y156.JPG\n",
      "/kaggle/input/brain-mri-images-for-brain-tumor-detection/brain_tumor_dataset/yes/Y11.jpg\n",
      "/kaggle/input/brain-mri-images-for-brain-tumor-detection/brain_tumor_dataset/yes/Y77.jpg\n",
      "/kaggle/input/brain-mri-images-for-brain-tumor-detection/brain_tumor_dataset/yes/Y249.JPG\n",
      "/kaggle/input/brain-mri-images-for-brain-tumor-detection/brain_tumor_dataset/yes/Y41.jpg\n",
      "/kaggle/input/brain-mri-images-for-brain-tumor-detection/brain_tumor_dataset/yes/Y76.jpg\n",
      "/kaggle/input/brain-mri-images-for-brain-tumor-detection/brain_tumor_dataset/yes/Y78.jpg\n",
      "/kaggle/input/brain-mri-images-for-brain-tumor-detection/brain_tumor_dataset/yes/Y20.jpg\n",
      "/kaggle/input/brain-mri-images-for-brain-tumor-detection/brain_tumor_dataset/yes/Y85.JPG\n",
      "/kaggle/input/brain-mri-images-for-brain-tumor-detection/brain_tumor_dataset/yes/Y49.JPG\n",
      "/kaggle/input/brain-mri-images-for-brain-tumor-detection/brain_tumor_dataset/yes/Y244.JPG\n",
      "/kaggle/input/brain-mri-images-for-brain-tumor-detection/brain_tumor_dataset/yes/Y8.jpg\n",
      "/kaggle/input/brain-mri-images-for-brain-tumor-detection/brain_tumor_dataset/yes/Y107.jpg\n",
      "/kaggle/input/brain-mri-images-for-brain-tumor-detection/brain_tumor_dataset/yes/Y113.JPG\n",
      "/kaggle/input/brain-mri-images-for-brain-tumor-detection/brain_tumor_dataset/yes/Y101.jpg\n",
      "/kaggle/input/brain-mri-images-for-brain-tumor-detection/brain_tumor_dataset/yes/Y89.JPG\n",
      "/kaggle/input/brain-mri-images-for-brain-tumor-detection/brain_tumor_dataset/yes/Y44.JPG\n",
      "/kaggle/input/brain-mri-images-for-brain-tumor-detection/brain_tumor_dataset/yes/Y92.png\n"
     ]
    }
   ],
   "source": [
    "# This Python 3 environment comes with many helpful analytics libraries installed\n",
    "# It is defined by the kaggle/python Docker image: https://github.com/kaggle/docker-python\n",
    "# For example, here's several helpful packages to load\n",
    "\n",
    "import numpy as np # linear algebra\n",
    "import pandas as pd # data processing, CSV file I/O (e.g. pd.read_csv)\n",
    "\n",
    "# Input data files are available in the read-only \"../input/\" directory\n",
    "# For example, running this (by clicking run or pressing Shift+Enter) will list all files under the input directory\n",
    "\n",
    "import os\n",
    "for dirname, _, filenames in os.walk('/kaggle/input'):\n",
    "    for filename in filenames:\n",
    "        print(os.path.join(dirname, filename))\n",
    "\n",
    "# You can write up to 20GB to the current directory (/kaggle/working/) that gets preserved as output when you create a version using \"Save & Run All\" \n",
    "# You can also write temporary files to /kaggle/temp/, but they won't be saved outside of the current session"
   ]
  },
  {
   "cell_type": "code",
   "execution_count": 2,
   "id": "e2ed3900",
   "metadata": {
    "execution": {
     "iopub.execute_input": "2024-04-26T19:15:21.302435Z",
     "iopub.status.busy": "2024-04-26T19:15:21.301697Z",
     "iopub.status.idle": "2024-04-26T19:15:36.021619Z",
     "shell.execute_reply": "2024-04-26T19:15:36.020535Z"
    },
    "papermill": {
     "duration": 14.741569,
     "end_time": "2024-04-26T19:15:36.024319",
     "exception": false,
     "start_time": "2024-04-26T19:15:21.282750",
     "status": "completed"
    },
    "tags": []
   },
   "outputs": [
    {
     "name": "stderr",
     "output_type": "stream",
     "text": [
      "2024-04-26 19:15:24.763899: E external/local_xla/xla/stream_executor/cuda/cuda_dnn.cc:9261] Unable to register cuDNN factory: Attempting to register factory for plugin cuDNN when one has already been registered\n",
      "2024-04-26 19:15:24.764031: E external/local_xla/xla/stream_executor/cuda/cuda_fft.cc:607] Unable to register cuFFT factory: Attempting to register factory for plugin cuFFT when one has already been registered\n",
      "2024-04-26 19:15:24.903767: E external/local_xla/xla/stream_executor/cuda/cuda_blas.cc:1515] Unable to register cuBLAS factory: Attempting to register factory for plugin cuBLAS when one has already been registered\n"
     ]
    }
   ],
   "source": [
    "import cv2\n",
    "import matplotlib.pyplot as plt\n",
    "import matplotlib.image as mpimg\n",
    "import os\n",
    "import pandas as pd\n",
    "import numpy as np\n",
    "\n",
    "from sklearn.model_selection import train_test_split\n",
    "\n",
    "\n",
    "from tensorflow.keras.applications import VGG19,VGG16,Xception\n",
    "from tensorflow.keras.preprocessing.image import ImageDataGenerator\n",
    "from PIL import Image\n",
    "\n",
    "from tensorflow.keras.layers import Dense, Flatten\n",
    "from tensorflow.keras.models import Model\n",
    "from tensorflow.keras.optimizers import Adam\n",
    "from tensorflow.keras.callbacks import EarlyStopping\n",
    "from keras.models import Sequential\n",
    "from keras.layers import Conv2D, MaxPooling2D, Dropout\n"
   ]
  },
  {
   "cell_type": "code",
   "execution_count": 3,
   "id": "5acb55e9",
   "metadata": {
    "execution": {
     "iopub.execute_input": "2024-04-26T19:15:36.061332Z",
     "iopub.status.busy": "2024-04-26T19:15:36.060300Z",
     "iopub.status.idle": "2024-04-26T19:15:36.065678Z",
     "shell.execute_reply": "2024-04-26T19:15:36.064629Z"
    },
    "papermill": {
     "duration": 0.026145,
     "end_time": "2024-04-26T19:15:36.068002",
     "exception": false,
     "start_time": "2024-04-26T19:15:36.041857",
     "status": "completed"
    },
    "tags": []
   },
   "outputs": [],
   "source": [
    "no_dir='/kaggle/input/brain-mri-images-for-brain-tumor-detection/no'\n",
    "yes_dir='/kaggle/input/brain-mri-images-for-brain-tumor-detection/yes'"
   ]
  },
  {
   "cell_type": "code",
   "execution_count": 4,
   "id": "f6d4b4be",
   "metadata": {
    "execution": {
     "iopub.execute_input": "2024-04-26T19:15:36.104181Z",
     "iopub.status.busy": "2024-04-26T19:15:36.103835Z",
     "iopub.status.idle": "2024-04-26T19:15:36.110759Z",
     "shell.execute_reply": "2024-04-26T19:15:36.109353Z"
    },
    "papermill": {
     "duration": 0.028555,
     "end_time": "2024-04-26T19:15:36.114067",
     "exception": false,
     "start_time": "2024-04-26T19:15:36.085512",
     "status": "completed"
    },
    "tags": []
   },
   "outputs": [],
   "source": [
    "def create_class_dataframe(class_dir, class_name):\n",
    "    files = os.listdir(class_dir)\n",
    "    image_files = [file for file in files if file.lower().endswith(('.jpg', '.jpeg', '.png', '.gif', '.bmp'))]\n",
    "    data = {'image_path': [os.path.join(class_dir, file) for file in image_files],\n",
    "            'label': [class_name] * len(image_files)}\n",
    "    return pd.DataFrame(data)"
   ]
  },
  {
   "cell_type": "code",
   "execution_count": 5,
   "id": "4a5705bd",
   "metadata": {
    "execution": {
     "iopub.execute_input": "2024-04-26T19:15:36.150197Z",
     "iopub.status.busy": "2024-04-26T19:15:36.149561Z",
     "iopub.status.idle": "2024-04-26T19:15:36.160245Z",
     "shell.execute_reply": "2024-04-26T19:15:36.159399Z"
    },
    "papermill": {
     "duration": 0.031306,
     "end_time": "2024-04-26T19:15:36.162732",
     "exception": false,
     "start_time": "2024-04-26T19:15:36.131426",
     "status": "completed"
    },
    "tags": []
   },
   "outputs": [],
   "source": [
    "no_df=create_class_dataframe(no_dir, '0')\n",
    "yes_df=create_class_dataframe(yes_dir, '1')"
   ]
  },
  {
   "cell_type": "code",
   "execution_count": 6,
   "id": "da1a5047",
   "metadata": {
    "execution": {
     "iopub.execute_input": "2024-04-26T19:15:36.199171Z",
     "iopub.status.busy": "2024-04-26T19:15:36.198790Z",
     "iopub.status.idle": "2024-04-26T19:15:36.204919Z",
     "shell.execute_reply": "2024-04-26T19:15:36.203858Z"
    },
    "papermill": {
     "duration": 0.027465,
     "end_time": "2024-04-26T19:15:36.207590",
     "exception": false,
     "start_time": "2024-04-26T19:15:36.180125",
     "status": "completed"
    },
    "tags": []
   },
   "outputs": [],
   "source": [
    "df = pd.concat([no_df,yes_df], ignore_index=True)"
   ]
  },
  {
   "cell_type": "code",
   "execution_count": 7,
   "id": "f6e424f2",
   "metadata": {
    "execution": {
     "iopub.execute_input": "2024-04-26T19:15:36.244007Z",
     "iopub.status.busy": "2024-04-26T19:15:36.243608Z",
     "iopub.status.idle": "2024-04-26T19:15:36.255998Z",
     "shell.execute_reply": "2024-04-26T19:15:36.254965Z"
    },
    "papermill": {
     "duration": 0.033364,
     "end_time": "2024-04-26T19:15:36.258298",
     "exception": false,
     "start_time": "2024-04-26T19:15:36.224934",
     "status": "completed"
    },
    "tags": []
   },
   "outputs": [],
   "source": [
    "def shuffle_dataframe(df):\n",
    "    shuffled_df = df.sample(frac=1).reset_index(drop=True)\n",
    "    return shuffled_df\n",
    "\n",
    "df=shuffle_dataframe(df)"
   ]
  },
  {
   "cell_type": "code",
   "execution_count": 8,
   "id": "e51cd179",
   "metadata": {
    "execution": {
     "iopub.execute_input": "2024-04-26T19:15:36.294287Z",
     "iopub.status.busy": "2024-04-26T19:15:36.293636Z",
     "iopub.status.idle": "2024-04-26T19:15:36.313774Z",
     "shell.execute_reply": "2024-04-26T19:15:36.312645Z"
    },
    "papermill": {
     "duration": 0.040774,
     "end_time": "2024-04-26T19:15:36.316197",
     "exception": false,
     "start_time": "2024-04-26T19:15:36.275423",
     "status": "completed"
    },
    "tags": []
   },
   "outputs": [
    {
     "data": {
      "text/html": [
       "<div>\n",
       "<style scoped>\n",
       "    .dataframe tbody tr th:only-of-type {\n",
       "        vertical-align: middle;\n",
       "    }\n",
       "\n",
       "    .dataframe tbody tr th {\n",
       "        vertical-align: top;\n",
       "    }\n",
       "\n",
       "    .dataframe thead th {\n",
       "        text-align: right;\n",
       "    }\n",
       "</style>\n",
       "<table border=\"1\" class=\"dataframe\">\n",
       "  <thead>\n",
       "    <tr style=\"text-align: right;\">\n",
       "      <th></th>\n",
       "      <th>image_path</th>\n",
       "      <th>label</th>\n",
       "    </tr>\n",
       "  </thead>\n",
       "  <tbody>\n",
       "    <tr>\n",
       "      <th>0</th>\n",
       "      <td>/kaggle/input/brain-mri-images-for-brain-tumor...</td>\n",
       "      <td>0</td>\n",
       "    </tr>\n",
       "    <tr>\n",
       "      <th>1</th>\n",
       "      <td>/kaggle/input/brain-mri-images-for-brain-tumor...</td>\n",
       "      <td>1</td>\n",
       "    </tr>\n",
       "    <tr>\n",
       "      <th>2</th>\n",
       "      <td>/kaggle/input/brain-mri-images-for-brain-tumor...</td>\n",
       "      <td>0</td>\n",
       "    </tr>\n",
       "    <tr>\n",
       "      <th>3</th>\n",
       "      <td>/kaggle/input/brain-mri-images-for-brain-tumor...</td>\n",
       "      <td>1</td>\n",
       "    </tr>\n",
       "    <tr>\n",
       "      <th>4</th>\n",
       "      <td>/kaggle/input/brain-mri-images-for-brain-tumor...</td>\n",
       "      <td>1</td>\n",
       "    </tr>\n",
       "  </tbody>\n",
       "</table>\n",
       "</div>"
      ],
      "text/plain": [
       "                                          image_path label\n",
       "0  /kaggle/input/brain-mri-images-for-brain-tumor...     0\n",
       "1  /kaggle/input/brain-mri-images-for-brain-tumor...     1\n",
       "2  /kaggle/input/brain-mri-images-for-brain-tumor...     0\n",
       "3  /kaggle/input/brain-mri-images-for-brain-tumor...     1\n",
       "4  /kaggle/input/brain-mri-images-for-brain-tumor...     1"
      ]
     },
     "execution_count": 8,
     "metadata": {},
     "output_type": "execute_result"
    }
   ],
   "source": [
    "df.head()"
   ]
  },
  {
   "cell_type": "code",
   "execution_count": 9,
   "id": "2e82a015",
   "metadata": {
    "execution": {
     "iopub.execute_input": "2024-04-26T19:15:36.352680Z",
     "iopub.status.busy": "2024-04-26T19:15:36.352303Z",
     "iopub.status.idle": "2024-04-26T19:15:36.366458Z",
     "shell.execute_reply": "2024-04-26T19:15:36.365423Z"
    },
    "papermill": {
     "duration": 0.035086,
     "end_time": "2024-04-26T19:15:36.368792",
     "exception": false,
     "start_time": "2024-04-26T19:15:36.333706",
     "status": "completed"
    },
    "tags": []
   },
   "outputs": [
    {
     "data": {
      "text/plain": [
       "label\n",
       "1    155\n",
       "0     98\n",
       "Name: count, dtype: int64"
      ]
     },
     "execution_count": 9,
     "metadata": {},
     "output_type": "execute_result"
    }
   ],
   "source": [
    "df.label.value_counts()"
   ]
  },
  {
   "cell_type": "code",
   "execution_count": 10,
   "id": "5e5565ae",
   "metadata": {
    "execution": {
     "iopub.execute_input": "2024-04-26T19:15:36.405712Z",
     "iopub.status.busy": "2024-04-26T19:15:36.405327Z",
     "iopub.status.idle": "2024-04-26T19:15:36.709343Z",
     "shell.execute_reply": "2024-04-26T19:15:36.708352Z"
    },
    "papermill": {
     "duration": 0.325042,
     "end_time": "2024-04-26T19:15:36.711660",
     "exception": false,
     "start_time": "2024-04-26T19:15:36.386618",
     "status": "completed"
    },
    "tags": []
   },
   "outputs": [
    {
     "data": {
      "text/plain": [
       "<Axes: xlabel='label'>"
      ]
     },
     "execution_count": 10,
     "metadata": {},
     "output_type": "execute_result"
    },
    {
     "data": {
      "image/png": "[encoded data removed]",
      "text/plain": [
       "<Figure size 640x480 with 1 Axes>"
      ]
     },
     "metadata": {},
     "output_type": "display_data"
    }
   ],
   "source": [
    "df.label.value_counts().plot(kind='bar')"
   ]
  },
  {
   "cell_type": "code",
   "execution_count": 11,
   "id": "1bea1c43",
   "metadata": {
    "execution": {
     "iopub.execute_input": "2024-04-26T19:15:36.749797Z",
     "iopub.status.busy": "2024-04-26T19:15:36.749407Z",
     "iopub.status.idle": "2024-04-26T19:15:36.758204Z",
     "shell.execute_reply": "2024-04-26T19:15:36.756992Z"
    },
    "papermill": {
     "duration": 0.030474,
     "end_time": "2024-04-26T19:15:36.760550",
     "exception": false,
     "start_time": "2024-04-26T19:15:36.730076",
     "status": "completed"
    },
    "tags": []
   },
   "outputs": [
    {
     "name": "stdout",
     "output_type": "stream",
     "text": [
      "Class Proportions:\n",
      "Class 1: 61.26%\n",
      "Class 0: 38.74%\n"
     ]
    }
   ],
   "source": [
    "def print_class_proportions(labels):\n",
    "    # Count the occurrences of each class label\n",
    "    class_counts = labels.value_counts()\n",
    "    \n",
    "    # Calculate proportions\n",
    "    total_samples = len(labels)\n",
    "    class_proportions = class_counts / total_samples\n",
    "    \n",
    "    # Print class proportions\n",
    "    print(\"Class Proportions:\")\n",
    "    for class_label, proportion in class_proportions.items():\n",
    "        print(f\"Class {class_label}: {proportion:.2%}\")\n",
    "\n",
    "# Example usage:\n",
    "# Assuming 'labels' is a Pandas Series containing class \n",
    "\n",
    "print_class_proportions(df['label'])"
   ]
  },
  {
   "cell_type": "code",
   "execution_count": 12,
   "id": "b4ebd539",
   "metadata": {
    "execution": {
     "iopub.execute_input": "2024-04-26T19:15:36.798502Z",
     "iopub.status.busy": "2024-04-26T19:15:36.798079Z",
     "iopub.status.idle": "2024-04-26T19:15:36.986003Z",
     "shell.execute_reply": "2024-04-26T19:15:36.984565Z"
    },
    "papermill": {
     "duration": 0.213375,
     "end_time": "2024-04-26T19:15:36.992003",
     "exception": false,
     "start_time": "2024-04-26T19:15:36.778628",
     "status": "completed"
    },
    "tags": []
   },
   "outputs": [
    {
     "data": {
      "image/png": "[encoded data removed]",
      "text/plain": [
       "<Figure size 640x480 with 1 Axes>"
      ]
     },
     "metadata": {},
     "output_type": "display_data"
    }
   ],
   "source": [
    "#img=cv2.imread(df['Image_Path'].values[0])\n",
    "img = mpimg.imread(df['image_path'].values[0])\n",
    "\n",
    "plt.imshow(img)\n",
    "plt.axis('off')  \n",
    "plt.show()"
   ]
  },
  {
   "cell_type": "code",
   "execution_count": 13,
   "id": "7c674d67",
   "metadata": {
    "execution": {
     "iopub.execute_input": "2024-04-26T19:15:37.036348Z",
     "iopub.status.busy": "2024-04-26T19:15:37.035981Z",
     "iopub.status.idle": "2024-04-26T19:15:37.065440Z",
     "shell.execute_reply": "2024-04-26T19:15:37.064258Z"
    },
    "papermill": {
     "duration": 0.052091,
     "end_time": "2024-04-26T19:15:37.067754",
     "exception": false,
     "start_time": "2024-04-26T19:15:37.015663",
     "status": "completed"
    },
    "tags": []
   },
   "outputs": [
    {
     "name": "stdout",
     "output_type": "stream",
     "text": [
      "The image is RGB.\n"
     ]
    }
   ],
   "source": [
    "\n",
    "def is_grayscale(image_path):\n",
    "    # Read the image\n",
    "    image = cv2.imread(image_path)\n",
    "\n",
    "    # Check if image is None\n",
    "    if image is None:\n",
    "        print(\"Error: Unable to read the image.\")\n",
    "        return False\n",
    "\n",
    "    # Get the number of channels in the image\n",
    "    num_channels = image.shape[2] if len(image.shape) == 3 else 1\n",
    "\n",
    "    # Return True if the image has only 1 channel (grayscale), False otherwise\n",
    "    return num_channels == 1\n",
    "\n",
    "# Example usage\n",
    "image_path = df['image_path'].values[0]\n",
    "if is_grayscale(image_path):\n",
    "    print(\"The image is grayscale.\")\n",
    "else:\n",
    "    print(\"The image is RGB.\")\n"
   ]
  },
  {
   "cell_type": "code",
   "execution_count": 14,
   "id": "b559a783",
   "metadata": {
    "execution": {
     "iopub.execute_input": "2024-04-26T19:15:37.107209Z",
     "iopub.status.busy": "2024-04-26T19:15:37.106305Z",
     "iopub.status.idle": "2024-04-26T19:15:37.421909Z",
     "shell.execute_reply": "2024-04-26T19:15:37.420383Z"
    },
    "papermill": {
     "duration": 0.337832,
     "end_time": "2024-04-26T19:15:37.424687",
     "exception": false,
     "start_time": "2024-04-26T19:15:37.086855",
     "status": "completed"
    },
    "tags": []
   },
   "outputs": [],
   "source": [
    "from sklearn.metrics import confusion_matrix, precision_score, recall_score, f1_score, accuracy_score\n",
    "import seaborn as sns\n",
    "\n",
    "def evaluate_classification(y_true, y_pred, classes):\n",
    "    # Calculate accuracy\n",
    "    accuracy = accuracy_score(y_true, y_pred)\n",
    "    \n",
    "    # Calculate precision, recall, and F1-score\n",
    "    precision = precision_score(y_true, y_pred, average=None)\n",
    "    recall = recall_score(y_true, y_pred, average=None)\n",
    "    f1 = f1_score(y_true, y_pred, average=None)\n",
    "    \n",
    "    # Calculate confusion matrix\n",
    "    cm = confusion_matrix(y_true, y_pred)\n",
    "    \n",
    "    # Plot confusion matrix\n",
    "    plt.figure(figsize=(8, 6))\n",
    "    sns.heatmap(cm, annot=True, fmt='d', cmap='Blues', xticklabels=classes, yticklabels=classes)\n",
    "    plt.xlabel('Predicted')\n",
    "    plt.ylabel('True')\n",
    "    plt.title('Confusion Matrix')\n",
    "    plt.show()\n",
    "    \n",
    "    # Print evaluation metrics\n",
    "    print(\"Accuracy:\", accuracy)\n",
    "    print(\"Precision:\", precision)\n",
    "    print(\"Recall:\", recall)\n",
    "    print(\"F1-score:\", f1)\n"
   ]
  },
  {
   "cell_type": "markdown",
   "id": "eb7f61b9",
   "metadata": {
    "papermill": {
     "duration": 0.019079,
     "end_time": "2024-04-26T19:15:37.463640",
     "exception": false,
     "start_time": "2024-04-26T19:15:37.444561",
     "status": "completed"
    },
    "tags": []
   },
   "source": [
    "# test"
   ]
  },
  {
   "cell_type": "code",
   "execution_count": 15,
   "id": "d6bbd027",
   "metadata": {
    "execution": {
     "iopub.execute_input": "2024-04-26T19:15:37.504104Z",
     "iopub.status.busy": "2024-04-26T19:15:37.503291Z",
     "iopub.status.idle": "2024-04-26T19:15:37.517386Z",
     "shell.execute_reply": "2024-04-26T19:15:37.516242Z"
    },
    "papermill": {
     "duration": 0.036945,
     "end_time": "2024-04-26T19:15:37.519682",
     "exception": false,
     "start_time": "2024-04-26T19:15:37.482737",
     "status": "completed"
    },
    "tags": []
   },
   "outputs": [],
   "source": [
    "df_0=df.query('label==\"0\"').iloc[:10,:]\n",
    "df_1=df.query('label==\"1\"').iloc[:20,:]\n",
    "\n",
    "\n",
    "df_test = pd.concat([df_0,df_1], ignore_index=True)\n"
   ]
  },
  {
   "cell_type": "code",
   "execution_count": 16,
   "id": "c64f202c",
   "metadata": {
    "execution": {
     "iopub.execute_input": "2024-04-26T19:15:37.561823Z",
     "iopub.status.busy": "2024-04-26T19:15:37.561377Z",
     "iopub.status.idle": "2024-04-26T19:15:37.573239Z",
     "shell.execute_reply": "2024-04-26T19:15:37.572243Z"
    },
    "papermill": {
     "duration": 0.035903,
     "end_time": "2024-04-26T19:15:37.575429",
     "exception": false,
     "start_time": "2024-04-26T19:15:37.539526",
     "status": "completed"
    },
    "tags": []
   },
   "outputs": [
    {
     "data": {
      "text/html": [
       "<div>\n",
       "<style scoped>\n",
       "    .dataframe tbody tr th:only-of-type {\n",
       "        vertical-align: middle;\n",
       "    }\n",
       "\n",
       "    .dataframe tbody tr th {\n",
       "        vertical-align: top;\n",
       "    }\n",
       "\n",
       "    .dataframe thead th {\n",
       "        text-align: right;\n",
       "    }\n",
       "</style>\n",
       "<table border=\"1\" class=\"dataframe\">\n",
       "  <thead>\n",
       "    <tr style=\"text-align: right;\">\n",
       "      <th></th>\n",
       "      <th>image_path</th>\n",
       "      <th>label</th>\n",
       "    </tr>\n",
       "  </thead>\n",
       "  <tbody>\n",
       "    <tr>\n",
       "      <th>0</th>\n",
       "      <td>/kaggle/input/brain-mri-images-for-brain-tumor...</td>\n",
       "      <td>1</td>\n",
       "    </tr>\n",
       "    <tr>\n",
       "      <th>1</th>\n",
       "      <td>/kaggle/input/brain-mri-images-for-brain-tumor...</td>\n",
       "      <td>1</td>\n",
       "    </tr>\n",
       "    <tr>\n",
       "      <th>2</th>\n",
       "      <td>/kaggle/input/brain-mri-images-for-brain-tumor...</td>\n",
       "      <td>1</td>\n",
       "    </tr>\n",
       "    <tr>\n",
       "      <th>3</th>\n",
       "      <td>/kaggle/input/brain-mri-images-for-brain-tumor...</td>\n",
       "      <td>0</td>\n",
       "    </tr>\n",
       "    <tr>\n",
       "      <th>4</th>\n",
       "      <td>/kaggle/input/brain-mri-images-for-brain-tumor...</td>\n",
       "      <td>1</td>\n",
       "    </tr>\n",
       "  </tbody>\n",
       "</table>\n",
       "</div>"
      ],
      "text/plain": [
       "                                          image_path label\n",
       "0  /kaggle/input/brain-mri-images-for-brain-tumor...     1\n",
       "1  /kaggle/input/brain-mri-images-for-brain-tumor...     1\n",
       "2  /kaggle/input/brain-mri-images-for-brain-tumor...     1\n",
       "3  /kaggle/input/brain-mri-images-for-brain-tumor...     0\n",
       "4  /kaggle/input/brain-mri-images-for-brain-tumor...     1"
      ]
     },
     "execution_count": 16,
     "metadata": {},
     "output_type": "execute_result"
    }
   ],
   "source": [
    "df_test=shuffle_dataframe(df_test)\n",
    "df_test.head()"
   ]
  },
  {
   "cell_type": "code",
   "execution_count": 17,
   "id": "789e26e9",
   "metadata": {
    "execution": {
     "iopub.execute_input": "2024-04-26T19:15:37.616752Z",
     "iopub.status.busy": "2024-04-26T19:15:37.615822Z",
     "iopub.status.idle": "2024-04-26T19:15:37.622504Z",
     "shell.execute_reply": "2024-04-26T19:15:37.621506Z"
    },
    "papermill": {
     "duration": 0.02956,
     "end_time": "2024-04-26T19:15:37.624682",
     "exception": false,
     "start_time": "2024-04-26T19:15:37.595122",
     "status": "completed"
    },
    "tags": []
   },
   "outputs": [
    {
     "data": {
      "text/plain": [
       "(30, 2)"
      ]
     },
     "execution_count": 17,
     "metadata": {},
     "output_type": "execute_result"
    }
   ],
   "source": [
    "df_test.shape"
   ]
  },
  {
   "cell_type": "code",
   "execution_count": 18,
   "id": "1baa189a",
   "metadata": {
    "execution": {
     "iopub.execute_input": "2024-04-26T19:15:37.665853Z",
     "iopub.status.busy": "2024-04-26T19:15:37.664816Z",
     "iopub.status.idle": "2024-04-26T19:15:37.695196Z",
     "shell.execute_reply": "2024-04-26T19:15:37.693887Z"
    },
    "papermill": {
     "duration": 0.053464,
     "end_time": "2024-04-26T19:15:37.697734",
     "exception": false,
     "start_time": "2024-04-26T19:15:37.644270",
     "status": "completed"
    },
    "tags": []
   },
   "outputs": [
    {
     "name": "stdout",
     "output_type": "stream",
     "text": [
      "(223, 2)\n"
     ]
    }
   ],
   "source": [
    "\n",
    "# Merge the DataFrames with indicator\n",
    "merged_df = df.merge(df_test, how='outer', indicator=True)\n",
    "\n",
    "# Keep only the records that exist in df1 but not in df2\n",
    "result_df = merged_df[merged_df['_merge'] == 'left_only']\n",
    "\n",
    "# Drop the '_merge' column if needed\n",
    "result_df = result_df.drop(columns=['_merge'])\n",
    "\n",
    "print(result_df.shape)\n"
   ]
  },
  {
   "cell_type": "code",
   "execution_count": 19,
   "id": "a35de34b",
   "metadata": {
    "execution": {
     "iopub.execute_input": "2024-04-26T19:15:37.739032Z",
     "iopub.status.busy": "2024-04-26T19:15:37.738668Z",
     "iopub.status.idle": "2024-04-26T19:15:37.745740Z",
     "shell.execute_reply": "2024-04-26T19:15:37.744733Z"
    },
    "papermill": {
     "duration": 0.030741,
     "end_time": "2024-04-26T19:15:37.748128",
     "exception": false,
     "start_time": "2024-04-26T19:15:37.717387",
     "status": "completed"
    },
    "tags": []
   },
   "outputs": [
    {
     "data": {
      "text/plain": [
       "((223, 2), (253, 2), (30, 2))"
      ]
     },
     "execution_count": 19,
     "metadata": {},
     "output_type": "execute_result"
    }
   ],
   "source": [
    "result_df.shape,df.shape,df_test.shape"
   ]
  },
  {
   "cell_type": "code",
   "execution_count": 20,
   "id": "25d7b7eb",
   "metadata": {
    "execution": {
     "iopub.execute_input": "2024-04-26T19:15:37.790378Z",
     "iopub.status.busy": "2024-04-26T19:15:37.790018Z",
     "iopub.status.idle": "2024-04-26T19:15:37.802076Z",
     "shell.execute_reply": "2024-04-26T19:15:37.801014Z"
    },
    "papermill": {
     "duration": 0.036059,
     "end_time": "2024-04-26T19:15:37.804246",
     "exception": false,
     "start_time": "2024-04-26T19:15:37.768187",
     "status": "completed"
    },
    "tags": []
   },
   "outputs": [
    {
     "data": {
      "text/html": [
       "<div>\n",
       "<style scoped>\n",
       "    .dataframe tbody tr th:only-of-type {\n",
       "        vertical-align: middle;\n",
       "    }\n",
       "\n",
       "    .dataframe tbody tr th {\n",
       "        vertical-align: top;\n",
       "    }\n",
       "\n",
       "    .dataframe thead th {\n",
       "        text-align: right;\n",
       "    }\n",
       "</style>\n",
       "<table border=\"1\" class=\"dataframe\">\n",
       "  <thead>\n",
       "    <tr style=\"text-align: right;\">\n",
       "      <th></th>\n",
       "      <th>image_path</th>\n",
       "      <th>label</th>\n",
       "    </tr>\n",
       "  </thead>\n",
       "  <tbody>\n",
       "    <tr>\n",
       "      <th>0</th>\n",
       "      <td>/kaggle/input/brain-mri-images-for-brain-tumor...</td>\n",
       "      <td>1</td>\n",
       "    </tr>\n",
       "    <tr>\n",
       "      <th>1</th>\n",
       "      <td>/kaggle/input/brain-mri-images-for-brain-tumor...</td>\n",
       "      <td>0</td>\n",
       "    </tr>\n",
       "    <tr>\n",
       "      <th>2</th>\n",
       "      <td>/kaggle/input/brain-mri-images-for-brain-tumor...</td>\n",
       "      <td>0</td>\n",
       "    </tr>\n",
       "    <tr>\n",
       "      <th>3</th>\n",
       "      <td>/kaggle/input/brain-mri-images-for-brain-tumor...</td>\n",
       "      <td>0</td>\n",
       "    </tr>\n",
       "    <tr>\n",
       "      <th>4</th>\n",
       "      <td>/kaggle/input/brain-mri-images-for-brain-tumor...</td>\n",
       "      <td>1</td>\n",
       "    </tr>\n",
       "  </tbody>\n",
       "</table>\n",
       "</div>"
      ],
      "text/plain": [
       "                                          image_path label\n",
       "0  /kaggle/input/brain-mri-images-for-brain-tumor...     1\n",
       "1  /kaggle/input/brain-mri-images-for-brain-tumor...     0\n",
       "2  /kaggle/input/brain-mri-images-for-brain-tumor...     0\n",
       "3  /kaggle/input/brain-mri-images-for-brain-tumor...     0\n",
       "4  /kaggle/input/brain-mri-images-for-brain-tumor...     1"
      ]
     },
     "execution_count": 20,
     "metadata": {},
     "output_type": "execute_result"
    }
   ],
   "source": [
    "result_df=shuffle_dataframe(result_df)\n",
    "result_df.head()"
   ]
  },
  {
   "cell_type": "code",
   "execution_count": 21,
   "id": "d45ad2df",
   "metadata": {
    "execution": {
     "iopub.execute_input": "2024-04-26T19:15:37.895381Z",
     "iopub.status.busy": "2024-04-26T19:15:37.895003Z",
     "iopub.status.idle": "2024-04-26T19:15:37.906286Z",
     "shell.execute_reply": "2024-04-26T19:15:37.904742Z"
    },
    "papermill": {
     "duration": 0.085629,
     "end_time": "2024-04-26T19:15:37.910043",
     "exception": false,
     "start_time": "2024-04-26T19:15:37.824414",
     "status": "completed"
    },
    "tags": []
   },
   "outputs": [
    {
     "data": {
      "text/html": [
       "<div>\n",
       "<style scoped>\n",
       "    .dataframe tbody tr th:only-of-type {\n",
       "        vertical-align: middle;\n",
       "    }\n",
       "\n",
       "    .dataframe tbody tr th {\n",
       "        vertical-align: top;\n",
       "    }\n",
       "\n",
       "    .dataframe thead th {\n",
       "        text-align: right;\n",
       "    }\n",
       "</style>\n",
       "<table border=\"1\" class=\"dataframe\">\n",
       "  <thead>\n",
       "    <tr style=\"text-align: right;\">\n",
       "      <th></th>\n",
       "      <th>image_path</th>\n",
       "      <th>label</th>\n",
       "    </tr>\n",
       "  </thead>\n",
       "  <tbody>\n",
       "    <tr>\n",
       "      <th>0</th>\n",
       "      <td>/kaggle/input/brain-mri-images-for-brain-tumor...</td>\n",
       "      <td>1</td>\n",
       "    </tr>\n",
       "    <tr>\n",
       "      <th>1</th>\n",
       "      <td>/kaggle/input/brain-mri-images-for-brain-tumor...</td>\n",
       "      <td>0</td>\n",
       "    </tr>\n",
       "    <tr>\n",
       "      <th>2</th>\n",
       "      <td>/kaggle/input/brain-mri-images-for-brain-tumor...</td>\n",
       "      <td>0</td>\n",
       "    </tr>\n",
       "    <tr>\n",
       "      <th>3</th>\n",
       "      <td>/kaggle/input/brain-mri-images-for-brain-tumor...</td>\n",
       "      <td>0</td>\n",
       "    </tr>\n",
       "    <tr>\n",
       "      <th>4</th>\n",
       "      <td>/kaggle/input/brain-mri-images-for-brain-tumor...</td>\n",
       "      <td>1</td>\n",
       "    </tr>\n",
       "  </tbody>\n",
       "</table>\n",
       "</div>"
      ],
      "text/plain": [
       "                                          image_path label\n",
       "0  /kaggle/input/brain-mri-images-for-brain-tumor...     1\n",
       "1  /kaggle/input/brain-mri-images-for-brain-tumor...     0\n",
       "2  /kaggle/input/brain-mri-images-for-brain-tumor...     0\n",
       "3  /kaggle/input/brain-mri-images-for-brain-tumor...     0\n",
       "4  /kaggle/input/brain-mri-images-for-brain-tumor...     1"
      ]
     },
     "execution_count": 21,
     "metadata": {},
     "output_type": "execute_result"
    }
   ],
   "source": [
    "result_df.head()"
   ]
  },
  {
   "cell_type": "code",
   "execution_count": 22,
   "id": "b4c3e458",
   "metadata": {
    "execution": {
     "iopub.execute_input": "2024-04-26T19:15:37.953536Z",
     "iopub.status.busy": "2024-04-26T19:15:37.953165Z",
     "iopub.status.idle": "2024-04-26T19:15:37.961332Z",
     "shell.execute_reply": "2024-04-26T19:15:37.960249Z"
    },
    "papermill": {
     "duration": 0.031541,
     "end_time": "2024-04-26T19:15:37.963590",
     "exception": false,
     "start_time": "2024-04-26T19:15:37.932049",
     "status": "completed"
    },
    "tags": []
   },
   "outputs": [],
   "source": [
    "def preprocess_image(image_path, target_size=(224, 224), grayscale=False):\n",
    "    \n",
    "    image = cv2.resize(image_path, target_size)\n",
    "    \n",
    "    if grayscale:\n",
    "        image = cv2.cvtColor(image, cv2.COLOR_BGR2GRAY)\n",
    "    \n",
    "    image = image.astype('float32') / 255.0\n",
    "    \n",
    "    return image\n",
    "\n",
    "def load_and_preprocess_images(image_series, label_series):\n",
    "    images = []\n",
    "    labels = []\n",
    "\n",
    "    for img_path, label in zip(image_series, label_series):\n",
    "        img = cv2.imread(img_path)\n",
    "        img = preprocess_image(img)\n",
    "        images.append(img)\n",
    "        labels.append(label)\n",
    "\n",
    "    images = np.array(images)\n",
    "    labels = np.array(labels)\n",
    "\n",
    "    return images, labels"
   ]
  },
  {
   "cell_type": "code",
   "execution_count": 23,
   "id": "a6600f79",
   "metadata": {
    "execution": {
     "iopub.execute_input": "2024-04-26T19:15:38.004816Z",
     "iopub.status.busy": "2024-04-26T19:15:38.003926Z",
     "iopub.status.idle": "2024-04-26T19:15:38.285908Z",
     "shell.execute_reply": "2024-04-26T19:15:38.284654Z"
    },
    "papermill": {
     "duration": 0.305371,
     "end_time": "2024-04-26T19:15:38.288795",
     "exception": false,
     "start_time": "2024-04-26T19:15:37.983424",
     "status": "completed"
    },
    "tags": []
   },
   "outputs": [],
   "source": [
    "test_image,test_label=load_and_preprocess_images(df_test['image_path'], df_test['label'])"
   ]
  },
  {
   "cell_type": "code",
   "execution_count": null,
   "id": "6156a68f",
   "metadata": {
    "papermill": {
     "duration": 0.020434,
     "end_time": "2024-04-26T19:15:38.330531",
     "exception": false,
     "start_time": "2024-04-26T19:15:38.310097",
     "status": "completed"
    },
    "tags": []
   },
   "outputs": [],
   "source": []
  },
  {
   "cell_type": "markdown",
   "id": "d6832321",
   "metadata": {
    "papermill": {
     "duration": 0.020393,
     "end_time": "2024-04-26T19:15:38.372221",
     "exception": false,
     "start_time": "2024-04-26T19:15:38.351828",
     "status": "completed"
    },
    "tags": []
   },
   "source": [
    "# Augmentation"
   ]
  },
  {
   "cell_type": "code",
   "execution_count": null,
   "id": "db6f128b",
   "metadata": {
    "papermill": {
     "duration": 0.023951,
     "end_time": "2024-04-26T19:15:38.424784",
     "exception": false,
     "start_time": "2024-04-26T19:15:38.400833",
     "status": "completed"
    },
    "tags": []
   },
   "outputs": [],
   "source": []
  },
  {
   "cell_type": "code",
   "execution_count": 24,
   "id": "9d4d3b53",
   "metadata": {
    "execution": {
     "iopub.execute_input": "2024-04-26T19:15:38.467677Z",
     "iopub.status.busy": "2024-04-26T19:15:38.467249Z",
     "iopub.status.idle": "2024-04-26T19:15:38.476321Z",
     "shell.execute_reply": "2024-04-26T19:15:38.475132Z"
    },
    "papermill": {
     "duration": 0.033408,
     "end_time": "2024-04-26T19:15:38.478848",
     "exception": false,
     "start_time": "2024-04-26T19:15:38.445440",
     "status": "completed"
    },
    "tags": []
   },
   "outputs": [],
   "source": [
    "train_df, valid_df = train_test_split(result_df, stratify=result_df['label'],test_size=0.2, random_state=42)\n"
   ]
  },
  {
   "cell_type": "code",
   "execution_count": 25,
   "id": "ad18171a",
   "metadata": {
    "execution": {
     "iopub.execute_input": "2024-04-26T19:15:38.523310Z",
     "iopub.status.busy": "2024-04-26T19:15:38.522345Z",
     "iopub.status.idle": "2024-04-26T19:15:38.689990Z",
     "shell.execute_reply": "2024-04-26T19:15:38.688447Z"
    },
    "papermill": {
     "duration": 0.192002,
     "end_time": "2024-04-26T19:15:38.692616",
     "exception": false,
     "start_time": "2024-04-26T19:15:38.500614",
     "status": "completed"
    },
    "tags": []
   },
   "outputs": [
    {
     "name": "stdout",
     "output_type": "stream",
     "text": [
      "Found 178 validated image filenames belonging to 2 classes.\n",
      "Found 45 validated image filenames belonging to 2 classes.\n"
     ]
    }
   ],
   "source": [
    "\n",
    "datagen = ImageDataGenerator(\n",
    "    rotation_range=30,  \n",
    "    shear_range=0.2,  \n",
    "    zoom_range=0.1,  \n",
    "    horizontal_flip=True,\n",
    "        vertical_flip=True,\n",
    "    #brightness_range=[0.4,0.6],\n",
    "     \n",
    "        rescale=1.0/255,\n",
    "\n",
    "    \n",
    "    fill_mode='nearest'  # Strategy used for filling in newly created pixels\n",
    ")\n",
    "\n",
    "train_generator = datagen.flow_from_dataframe(\n",
    "    dataframe=train_df,\n",
    "    x_col='image_path',\n",
    "    y_col='label',\n",
    "   target_size=(224, 224),\n",
    "    batch_size=64,\n",
    "     color_mode=\"rgb\",\n",
    "    class_mode='binary'\n",
    ")\n",
    "\n",
    "valid_generator = datagen.flow_from_dataframe(\n",
    "    dataframe=valid_df,\n",
    "    x_col='image_path',\n",
    "    y_col='label',\n",
    "    target_size=(224, 224),\n",
    "    batch_size=64,\n",
    "     color_mode=\"rgb\",\n",
    "    class_mode='binary'\n",
    ")\n"
   ]
  },
  {
   "cell_type": "markdown",
   "id": "37518752",
   "metadata": {
    "papermill": {
     "duration": 0.021509,
     "end_time": "2024-04-26T19:15:38.736880",
     "exception": false,
     "start_time": "2024-04-26T19:15:38.715371",
     "status": "completed"
    },
    "tags": []
   },
   "source": [
    "# model"
   ]
  },
  {
   "cell_type": "code",
   "execution_count": 26,
   "id": "a721955e",
   "metadata": {
    "execution": {
     "iopub.execute_input": "2024-04-26T19:15:38.782320Z",
     "iopub.status.busy": "2024-04-26T19:15:38.781217Z",
     "iopub.status.idle": "2024-04-26T19:15:38.786826Z",
     "shell.execute_reply": "2024-04-26T19:15:38.785713Z"
    },
    "papermill": {
     "duration": 0.031048,
     "end_time": "2024-04-26T19:15:38.789262",
     "exception": false,
     "start_time": "2024-04-26T19:15:38.758214",
     "status": "completed"
    },
    "tags": []
   },
   "outputs": [],
   "source": [
    "batch_size=8\n",
    "epochs=30"
   ]
  },
  {
   "cell_type": "code",
   "execution_count": 27,
   "id": "c75fb0b2",
   "metadata": {
    "execution": {
     "iopub.execute_input": "2024-04-26T19:15:38.835620Z",
     "iopub.status.busy": "2024-04-26T19:15:38.834165Z",
     "iopub.status.idle": "2024-04-26T19:15:44.951851Z",
     "shell.execute_reply": "2024-04-26T19:15:44.950852Z"
    },
    "papermill": {
     "duration": 6.143379,
     "end_time": "2024-04-26T19:15:44.954418",
     "exception": false,
     "start_time": "2024-04-26T19:15:38.811039",
     "status": "completed"
    },
    "tags": []
   },
   "outputs": [],
   "source": [
    "import tensorflow as tf\n",
    "import keras_cv\n",
    "from tensorflow.keras.models import Model\n",
    "from tensorflow.keras.layers import Dense, GlobalAveragePooling2D, Softmax\n",
    "from tensorflow.keras.optimizers import Adam\n",
    "from tensorflow.keras.preprocessing.image import ImageDataGenerator\n",
    "\n",
    "# Check and set GPU memory growth\n",
    "physical_devices = tf.config.list_physical_devices('GPU')\n",
    "if len(physical_devices) > 0:\n",
    "    for device in physical_devices:\n",
    "        tf.config.experimental.set_memory_growth(device, True)"
   ]
  },
  {
   "cell_type": "code",
   "execution_count": 28,
   "id": "3556d112",
   "metadata": {
    "execution": {
     "iopub.execute_input": "2024-04-26T19:15:44.998115Z",
     "iopub.status.busy": "2024-04-26T19:15:44.997415Z",
     "iopub.status.idle": "2024-04-26T19:15:45.002584Z",
     "shell.execute_reply": "2024-04-26T19:15:45.001550Z"
    },
    "papermill": {
     "duration": 0.029309,
     "end_time": "2024-04-26T19:15:45.004753",
     "exception": false,
     "start_time": "2024-04-26T19:15:44.975444",
     "status": "completed"
    },
    "tags": []
   },
   "outputs": [],
   "source": [
    "input_shape=(224,224,3)\n"
   ]
  },
  {
   "cell_type": "code",
   "execution_count": 29,
   "id": "4981a373",
   "metadata": {
    "execution": {
     "iopub.execute_input": "2024-04-26T19:15:45.048302Z",
     "iopub.status.busy": "2024-04-26T19:15:45.047912Z",
     "iopub.status.idle": "2024-04-26T19:15:45.055601Z",
     "shell.execute_reply": "2024-04-26T19:15:45.054500Z"
    },
    "papermill": {
     "duration": 0.03229,
     "end_time": "2024-04-26T19:15:45.057837",
     "exception": false,
     "start_time": "2024-04-26T19:15:45.025547",
     "status": "completed"
    },
    "tags": []
   },
   "outputs": [],
   "source": [
    "def create_cnn_model(input_shape, num_classes):\n",
    "    model = Sequential([\n",
    "        Conv2D(128, (3, 3), activation='relu', input_shape=input_shape),\n",
    "        MaxPooling2D((2, 2)),\n",
    "        #Dropout(.2),\n",
    "\n",
    "        Conv2D(64, (3, 3), activation='relu'),\n",
    "        MaxPooling2D((2, 2)),\n",
    "        # Dropout(.2),\n",
    "        Conv2D(32, (3, 3), activation='relu'),\n",
    "        MaxPooling2D((2, 2)),\n",
    "\n",
    "        Flatten(),\n",
    "        Dense(128, activation='relu'),\n",
    "        \n",
    "        \n",
    "        #Dropout(.2),\n",
    "         #Dense(64, activation='relu'), \n",
    "         #Dropout(.2),\n",
    "        Dense(16, activation='relu'),\n",
    "      #Dropout(0.2),\n",
    "        Dense(num_classes, activation='sigmoid')\n",
    "    ])\n",
    "    \n",
    "    return model\n"
   ]
  },
  {
   "cell_type": "code",
   "execution_count": 30,
   "id": "bd60e33d",
   "metadata": {
    "execution": {
     "iopub.execute_input": "2024-04-26T19:15:45.102071Z",
     "iopub.status.busy": "2024-04-26T19:15:45.101114Z",
     "iopub.status.idle": "2024-04-26T19:15:45.381268Z",
     "shell.execute_reply": "2024-04-26T19:15:45.380201Z"
    },
    "papermill": {
     "duration": 0.304836,
     "end_time": "2024-04-26T19:15:45.383874",
     "exception": false,
     "start_time": "2024-04-26T19:15:45.079038",
     "status": "completed"
    },
    "tags": []
   },
   "outputs": [
    {
     "name": "stderr",
     "output_type": "stream",
     "text": [
      "/opt/conda/lib/python3.10/site-packages/keras/src/layers/convolutional/base_conv.py:99: UserWarning: Do not pass an `input_shape`/`input_dim` argument to a layer. When using Sequential models, prefer using an `Input(shape)` object as the first layer in the model instead.\n",
      "  super().__init__(\n"
     ]
    }
   ],
   "source": [
    "model=create_cnn_model((224,224,3),1)\n",
    "# Compile the model\n",
    "model.compile(optimizer='adam',\n",
    "              loss='binary_crossentropy',\n",
    "              metrics=['accuracy'])\n",
    "#early_stopping = EarlyStopping(monitor='val_loss', patience=5, restore_best_weights=True)"
   ]
  },
  {
   "cell_type": "code",
   "execution_count": 31,
   "id": "5315d0c5",
   "metadata": {
    "execution": {
     "iopub.execute_input": "2024-04-26T19:15:45.426816Z",
     "iopub.status.busy": "2024-04-26T19:15:45.426128Z",
     "iopub.status.idle": "2024-04-26T19:18:06.198279Z",
     "shell.execute_reply": "2024-04-26T19:18:06.197167Z"
    },
    "papermill": {
     "duration": 140.796946,
     "end_time": "2024-04-26T19:18:06.201591",
     "exception": false,
     "start_time": "2024-04-26T19:15:45.404645",
     "status": "completed"
    },
    "tags": []
   },
   "outputs": [
    {
     "name": "stdout",
     "output_type": "stream",
     "text": [
      "Epoch 1/30\n"
     ]
    },
    {
     "name": "stderr",
     "output_type": "stream",
     "text": [
      "/opt/conda/lib/python3.10/site-packages/keras/src/trainers/data_adapters/py_dataset_adapter.py:120: UserWarning: Your `PyDataset` class should call `super().__init__(**kwargs)` in its constructor. `**kwargs` can include `workers`, `use_multiprocessing`, `max_queue_size`. Do not pass these arguments to `fit()`, as they will be ignored.\n",
      "  self._warn_if_super_not_called()\n"
     ]
    },
    {
     "name": "stdout",
     "output_type": "stream",
     "text": [
      "\u001b[1m 1/22\u001b[0m \u001b[37m━━━━━━━━━━━━━━━━━━━━\u001b[0m \u001b[1m7:04\u001b[0m 20s/step - accuracy: 0.5938 - loss: 0.6888"
     ]
    },
    {
     "name": "stderr",
     "output_type": "stream",
     "text": [
      "WARNING: All log messages before absl::InitializeLog() is called are written to STDERR\n",
      "I0000 00:00:1714158967.957937      72 device_compiler.h:186] Compiled cluster using XLA!  This line is logged at most once for the lifetime of the process.\n"
     ]
    },
    {
     "name": "stdout",
     "output_type": "stream",
     "text": [
      "\u001b[1m 3/22\u001b[0m \u001b[32m━━\u001b[0m\u001b[37m━━━━━━━━━━━━━━━━━━\u001b[0m \u001b[1m1:45\u001b[0m 6s/step - accuracy: 0.5976 - loss: 0.7308 "
     ]
    },
    {
     "name": "stderr",
     "output_type": "stream",
     "text": [
      "/opt/conda/lib/python3.10/contextlib.py:153: UserWarning: Your input ran out of data; interrupting training. Make sure that your dataset or generator can generate at least `steps_per_epoch * epochs` batches. You may need to use the `.repeat()` function when building your dataset.\n",
      "  self.gen.throw(typ, value, traceback)\n"
     ]
    },
    {
     "name": "stdout",
     "output_type": "stream",
     "text": [
      "\u001b[1m22/22\u001b[0m \u001b[32m━━━━━━━━━━━━━━━━━━━━\u001b[0m\u001b[37m\u001b[0m \u001b[1m37s\u001b[0m 791ms/step - accuracy: 0.5715 - loss: 0.7379 - val_accuracy: 0.4000 - val_loss: 0.7867\n",
      "Epoch 2/30\n",
      "\u001b[1m22/22\u001b[0m \u001b[32m━━━━━━━━━━━━━━━━━━━━\u001b[0m\u001b[37m\u001b[0m \u001b[1m4s\u001b[0m 42ms/step - accuracy: 0.4690 - loss: 0.7322 - val_accuracy: 0.6000 - val_loss: 0.6534\n",
      "Epoch 3/30\n",
      "\u001b[1m22/22\u001b[0m \u001b[32m━━━━━━━━━━━━━━━━━━━━\u001b[0m\u001b[37m\u001b[0m \u001b[1m3s\u001b[0m 41ms/step - accuracy: 0.6095 - loss: 0.6568 - val_accuracy: 0.6000 - val_loss: 0.6510\n",
      "Epoch 4/30\n",
      "\u001b[1m22/22\u001b[0m \u001b[32m━━━━━━━━━━━━━━━━━━━━\u001b[0m\u001b[37m\u001b[0m \u001b[1m3s\u001b[0m 40ms/step - accuracy: 0.6523 - loss: 0.6037 - val_accuracy: 0.6444 - val_loss: 0.6033\n",
      "Epoch 5/30\n",
      "\u001b[1m22/22\u001b[0m \u001b[32m━━━━━━━━━━━━━━━━━━━━\u001b[0m\u001b[37m\u001b[0m \u001b[1m4s\u001b[0m 43ms/step - accuracy: 0.7048 - loss: 0.5830 - val_accuracy: 0.6444 - val_loss: 0.6269\n",
      "Epoch 6/30\n",
      "\u001b[1m22/22\u001b[0m \u001b[32m━━━━━━━━━━━━━━━━━━━━\u001b[0m\u001b[37m\u001b[0m \u001b[1m4s\u001b[0m 41ms/step - accuracy: 0.7329 - loss: 0.5452 - val_accuracy: 0.7111 - val_loss: 0.5688\n",
      "Epoch 7/30\n",
      "\u001b[1m22/22\u001b[0m \u001b[32m━━━━━━━━━━━━━━━━━━━━\u001b[0m\u001b[37m\u001b[0m \u001b[1m4s\u001b[0m 43ms/step - accuracy: 0.7187 - loss: 0.5708 - val_accuracy: 0.7333 - val_loss: 0.6469\n",
      "Epoch 8/30\n",
      "\u001b[1m22/22\u001b[0m \u001b[32m━━━━━━━━━━━━━━━━━━━━\u001b[0m\u001b[37m\u001b[0m \u001b[1m4s\u001b[0m 43ms/step - accuracy: 0.7064 - loss: 0.5992 - val_accuracy: 0.7111 - val_loss: 0.5880\n",
      "Epoch 9/30\n",
      "\u001b[1m22/22\u001b[0m \u001b[32m━━━━━━━━━━━━━━━━━━━━\u001b[0m\u001b[37m\u001b[0m \u001b[1m4s\u001b[0m 42ms/step - accuracy: 0.7187 - loss: 0.5375 - val_accuracy: 0.6444 - val_loss: 0.6540\n",
      "Epoch 10/30\n",
      "\u001b[1m22/22\u001b[0m \u001b[32m━━━━━━━━━━━━━━━━━━━━\u001b[0m\u001b[37m\u001b[0m \u001b[1m3s\u001b[0m 38ms/step - accuracy: 0.7365 - loss: 0.5291 - val_accuracy: 0.7111 - val_loss: 0.5633\n",
      "Epoch 11/30\n",
      "\u001b[1m22/22\u001b[0m \u001b[32m━━━━━━━━━━━━━━━━━━━━\u001b[0m\u001b[37m\u001b[0m \u001b[1m4s\u001b[0m 41ms/step - accuracy: 0.6699 - loss: 0.5708 - val_accuracy: 0.6889 - val_loss: 0.5899\n",
      "Epoch 12/30\n",
      "\u001b[1m22/22\u001b[0m \u001b[32m━━━━━━━━━━━━━━━━━━━━\u001b[0m\u001b[37m\u001b[0m \u001b[1m4s\u001b[0m 41ms/step - accuracy: 0.7340 - loss: 0.5370 - val_accuracy: 0.6889 - val_loss: 0.6460\n",
      "Epoch 13/30\n",
      "\u001b[1m22/22\u001b[0m \u001b[32m━━━━━━━━━━━━━━━━━━━━\u001b[0m\u001b[37m\u001b[0m \u001b[1m3s\u001b[0m 41ms/step - accuracy: 0.7476 - loss: 0.5223 - val_accuracy: 0.7111 - val_loss: 0.5783\n",
      "Epoch 14/30\n",
      "\u001b[1m22/22\u001b[0m \u001b[32m━━━━━━━━━━━━━━━━━━━━\u001b[0m\u001b[37m\u001b[0m \u001b[1m3s\u001b[0m 40ms/step - accuracy: 0.7407 - loss: 0.5289 - val_accuracy: 0.6889 - val_loss: 0.6281\n",
      "Epoch 15/30\n",
      "\u001b[1m22/22\u001b[0m \u001b[32m━━━━━━━━━━━━━━━━━━━━\u001b[0m\u001b[37m\u001b[0m \u001b[1m4s\u001b[0m 44ms/step - accuracy: 0.7697 - loss: 0.4924 - val_accuracy: 0.6444 - val_loss: 0.6746\n",
      "Epoch 16/30\n",
      "\u001b[1m22/22\u001b[0m \u001b[32m━━━━━━━━━━━━━━━━━━━━\u001b[0m\u001b[37m\u001b[0m \u001b[1m3s\u001b[0m 41ms/step - accuracy: 0.7328 - loss: 0.5240 - val_accuracy: 0.7333 - val_loss: 0.5465\n",
      "Epoch 17/30\n",
      "\u001b[1m22/22\u001b[0m \u001b[32m━━━━━━━━━━━━━━━━━━━━\u001b[0m\u001b[37m\u001b[0m \u001b[1m3s\u001b[0m 41ms/step - accuracy: 0.7277 - loss: 0.5126 - val_accuracy: 0.7333 - val_loss: 0.5592\n",
      "Epoch 18/30\n",
      "\u001b[1m22/22\u001b[0m \u001b[32m━━━━━━━━━━━━━━━━━━━━\u001b[0m\u001b[37m\u001b[0m \u001b[1m4s\u001b[0m 41ms/step - accuracy: 0.7491 - loss: 0.5354 - val_accuracy: 0.7556 - val_loss: 0.4669\n",
      "Epoch 19/30\n",
      "\u001b[1m22/22\u001b[0m \u001b[32m━━━━━━━━━━━━━━━━━━━━\u001b[0m\u001b[37m\u001b[0m \u001b[1m3s\u001b[0m 39ms/step - accuracy: 0.7537 - loss: 0.5031 - val_accuracy: 0.6889 - val_loss: 0.6144\n",
      "Epoch 20/30\n",
      "\u001b[1m22/22\u001b[0m \u001b[32m━━━━━━━━━━━━━━━━━━━━\u001b[0m\u001b[37m\u001b[0m \u001b[1m3s\u001b[0m 42ms/step - accuracy: 0.7361 - loss: 0.5261 - val_accuracy: 0.6889 - val_loss: 0.5398\n",
      "Epoch 21/30\n",
      "\u001b[1m22/22\u001b[0m \u001b[32m━━━━━━━━━━━━━━━━━━━━\u001b[0m\u001b[37m\u001b[0m \u001b[1m3s\u001b[0m 40ms/step - accuracy: 0.7624 - loss: 0.5407 - val_accuracy: 0.7333 - val_loss: 0.5505\n",
      "Epoch 22/30\n",
      "\u001b[1m22/22\u001b[0m \u001b[32m━━━━━━━━━━━━━━━━━━━━\u001b[0m\u001b[37m\u001b[0m \u001b[1m3s\u001b[0m 41ms/step - accuracy: 0.7359 - loss: 0.4969 - val_accuracy: 0.7111 - val_loss: 0.5305\n",
      "Epoch 23/30\n",
      "\u001b[1m22/22\u001b[0m \u001b[32m━━━━━━━━━━━━━━━━━━━━\u001b[0m\u001b[37m\u001b[0m \u001b[1m3s\u001b[0m 39ms/step - accuracy: 0.7525 - loss: 0.4847 - val_accuracy: 0.7556 - val_loss: 0.5718\n",
      "Epoch 24/30\n",
      "\u001b[1m22/22\u001b[0m \u001b[32m━━━━━━━━━━━━━━━━━━━━\u001b[0m\u001b[37m\u001b[0m \u001b[1m3s\u001b[0m 40ms/step - accuracy: 0.7770 - loss: 0.4918 - val_accuracy: 0.7333 - val_loss: 0.5062\n",
      "Epoch 25/30\n",
      "\u001b[1m22/22\u001b[0m \u001b[32m━━━━━━━━━━━━━━━━━━━━\u001b[0m\u001b[37m\u001b[0m \u001b[1m3s\u001b[0m 39ms/step - accuracy: 0.7737 - loss: 0.4765 - val_accuracy: 0.7333 - val_loss: 0.5495\n",
      "Epoch 26/30\n",
      "\u001b[1m22/22\u001b[0m \u001b[32m━━━━━━━━━━━━━━━━━━━━\u001b[0m\u001b[37m\u001b[0m \u001b[1m3s\u001b[0m 39ms/step - accuracy: 0.7509 - loss: 0.4844 - val_accuracy: 0.7556 - val_loss: 0.5627\n",
      "Epoch 27/30\n",
      "\u001b[1m22/22\u001b[0m \u001b[32m━━━━━━━━━━━━━━━━━━━━\u001b[0m\u001b[37m\u001b[0m \u001b[1m3s\u001b[0m 40ms/step - accuracy: 0.7942 - loss: 0.4492 - val_accuracy: 0.8000 - val_loss: 0.5255\n",
      "Epoch 28/30\n",
      "\u001b[1m22/22\u001b[0m \u001b[32m━━━━━━━━━━━━━━━━━━━━\u001b[0m\u001b[37m\u001b[0m \u001b[1m3s\u001b[0m 41ms/step - accuracy: 0.8085 - loss: 0.4420 - val_accuracy: 0.7333 - val_loss: 0.5544\n",
      "Epoch 29/30\n",
      "\u001b[1m22/22\u001b[0m \u001b[32m━━━━━━━━━━━━━━━━━━━━\u001b[0m\u001b[37m\u001b[0m \u001b[1m3s\u001b[0m 42ms/step - accuracy: 0.7827 - loss: 0.4379 - val_accuracy: 0.7556 - val_loss: 0.5889\n",
      "Epoch 30/30\n",
      "\u001b[1m22/22\u001b[0m \u001b[32m━━━━━━━━━━━━━━━━━━━━\u001b[0m\u001b[37m\u001b[0m \u001b[1m3s\u001b[0m 42ms/step - accuracy: 0.7860 - loss: 0.4602 - val_accuracy: 0.7333 - val_loss: 0.5229\n"
     ]
    },
    {
     "data": {
      "image/png": "[encoded data removed]",
      "text/plain": [
       "<Figure size 640x480 with 1 Axes>"
      ]
     },
     "metadata": {},
     "output_type": "display_data"
    }
   ],
   "source": [
    "history = model.fit(\n",
    "    train_generator,\n",
    "    batch_size=batch_size,    epochs=epochs,\n",
    "    steps_per_epoch=train_generator.samples // batch_size,\n",
    "    validation_data=valid_generator,\n",
    "    validation_steps=valid_generator.samples //batch_size)\n",
    "         #,callbacks=[early_stopping])\n",
    "\n",
    "# Optionally, you can plot training history\n",
    "plt.plot(history.history['accuracy'], label='Training Accuracy')\n",
    "plt.plot(history.history['val_accuracy'], label='Validation Accuracy')\n",
    "plt.xlabel('Epoch')\n",
    "plt.ylabel('Accuracy')\n",
    "plt.title('Training and Validation Accuracies')\n",
    "plt.legend()\n",
    "plt.show()"
   ]
  },
  {
   "cell_type": "code",
   "execution_count": null,
   "id": "30b58db5",
   "metadata": {
    "papermill": {
     "duration": 0.03564,
     "end_time": "2024-04-26T19:18:06.276288",
     "exception": false,
     "start_time": "2024-04-26T19:18:06.240648",
     "status": "completed"
    },
    "tags": []
   },
   "outputs": [],
   "source": []
  },
  {
   "cell_type": "code",
   "execution_count": 32,
   "id": "95f470fb",
   "metadata": {
    "execution": {
     "iopub.execute_input": "2024-04-26T19:18:06.350094Z",
     "iopub.status.busy": "2024-04-26T19:18:06.349135Z",
     "iopub.status.idle": "2024-04-26T19:20:49.008780Z",
     "shell.execute_reply": "2024-04-26T19:20:49.007643Z"
    },
    "papermill": {
     "duration": 162.699076,
     "end_time": "2024-04-26T19:20:49.011168",
     "exception": false,
     "start_time": "2024-04-26T19:18:06.312092",
     "status": "completed"
    },
    "tags": []
   },
   "outputs": [
    {
     "name": "stdout",
     "output_type": "stream",
     "text": [
      "Downloading data from https://storage.googleapis.com/tensorflow/keras-applications/xception/xception_weights_tf_dim_ordering_tf_kernels_notop.h5\n",
      "\u001b[1m83683744/83683744\u001b[0m \u001b[32m━━━━━━━━━━━━━━━━━━━━\u001b[0m\u001b[37m\u001b[0m \u001b[1m0s\u001b[0m 0us/step\n",
      "Epoch 1/30\n",
      "\u001b[1m22/22\u001b[0m \u001b[32m━━━━━━━━━━━━━━━━━━━━\u001b[0m\u001b[37m\u001b[0m \u001b[1m51s\u001b[0m 1s/step - accuracy: 0.5095 - loss: 1.8237 - val_accuracy: 0.6000 - val_loss: 3.3348\n",
      "Epoch 2/30\n",
      "\u001b[1m22/22\u001b[0m \u001b[32m━━━━━━━━━━━━━━━━━━━━\u001b[0m\u001b[37m\u001b[0m \u001b[1m4s\u001b[0m 47ms/step - accuracy: 0.6787 - loss: 2.0906 - val_accuracy: 0.6444 - val_loss: 1.8812\n",
      "Epoch 3/30\n",
      "\u001b[1m22/22\u001b[0m \u001b[32m━━━━━━━━━━━━━━━━━━━━\u001b[0m\u001b[37m\u001b[0m \u001b[1m4s\u001b[0m 47ms/step - accuracy: 0.5821 - loss: 2.3752 - val_accuracy: 0.7556 - val_loss: 1.3657\n",
      "Epoch 4/30\n",
      "\u001b[1m22/22\u001b[0m \u001b[32m━━━━━━━━━━━━━━━━━━━━\u001b[0m\u001b[37m\u001b[0m \u001b[1m4s\u001b[0m 50ms/step - accuracy: 0.7642 - loss: 1.4259 - val_accuracy: 0.7778 - val_loss: 0.7446\n",
      "Epoch 5/30\n",
      "\u001b[1m22/22\u001b[0m \u001b[32m━━━━━━━━━━━━━━━━━━━━\u001b[0m\u001b[37m\u001b[0m \u001b[1m4s\u001b[0m 49ms/step - accuracy: 0.7565 - loss: 1.0951 - val_accuracy: 0.8222 - val_loss: 0.8051\n",
      "Epoch 6/30\n",
      "\u001b[1m22/22\u001b[0m \u001b[32m━━━━━━━━━━━━━━━━━━━━\u001b[0m\u001b[37m\u001b[0m \u001b[1m4s\u001b[0m 49ms/step - accuracy: 0.8244 - loss: 0.9477 - val_accuracy: 0.8000 - val_loss: 1.0268\n",
      "Epoch 7/30\n",
      "\u001b[1m22/22\u001b[0m \u001b[32m━━━━━━━━━━━━━━━━━━━━\u001b[0m\u001b[37m\u001b[0m \u001b[1m4s\u001b[0m 48ms/step - accuracy: 0.8372 - loss: 0.6334 - val_accuracy: 0.8222 - val_loss: 0.4996\n",
      "Epoch 8/30\n",
      "\u001b[1m22/22\u001b[0m \u001b[32m━━━━━━━━━━━━━━━━━━━━\u001b[0m\u001b[37m\u001b[0m \u001b[1m4s\u001b[0m 47ms/step - accuracy: 0.8339 - loss: 0.8069 - val_accuracy: 0.8667 - val_loss: 0.5181\n",
      "Epoch 9/30\n",
      "\u001b[1m22/22\u001b[0m \u001b[32m━━━━━━━━━━━━━━━━━━━━\u001b[0m\u001b[37m\u001b[0m \u001b[1m4s\u001b[0m 48ms/step - accuracy: 0.8392 - loss: 0.6134 - val_accuracy: 0.9111 - val_loss: 0.2808\n",
      "Epoch 10/30\n",
      "\u001b[1m22/22\u001b[0m \u001b[32m━━━━━━━━━━━━━━━━━━━━\u001b[0m\u001b[37m\u001b[0m \u001b[1m4s\u001b[0m 50ms/step - accuracy: 0.8515 - loss: 0.5300 - val_accuracy: 0.8667 - val_loss: 0.4286\n",
      "Epoch 11/30\n",
      "\u001b[1m22/22\u001b[0m \u001b[32m━━━━━━━━━━━━━━━━━━━━\u001b[0m\u001b[37m\u001b[0m \u001b[1m4s\u001b[0m 50ms/step - accuracy: 0.8546 - loss: 0.3854 - val_accuracy: 0.9111 - val_loss: 0.4853\n",
      "Epoch 12/30\n",
      "\u001b[1m22/22\u001b[0m \u001b[32m━━━━━━━━━━━━━━━━━━━━\u001b[0m\u001b[37m\u001b[0m \u001b[1m4s\u001b[0m 49ms/step - accuracy: 0.8763 - loss: 0.2511 - val_accuracy: 0.9333 - val_loss: 0.2023\n",
      "Epoch 13/30\n",
      "\u001b[1m22/22\u001b[0m \u001b[32m━━━━━━━━━━━━━━━━━━━━\u001b[0m\u001b[37m\u001b[0m \u001b[1m4s\u001b[0m 49ms/step - accuracy: 0.8775 - loss: 0.2728 - val_accuracy: 0.8444 - val_loss: 0.4366\n",
      "Epoch 14/30\n",
      "\u001b[1m22/22\u001b[0m \u001b[32m━━━━━━━━━━━━━━━━━━━━\u001b[0m\u001b[37m\u001b[0m \u001b[1m4s\u001b[0m 46ms/step - accuracy: 0.9140 - loss: 0.2259 - val_accuracy: 0.8889 - val_loss: 0.3879\n",
      "Epoch 15/30\n",
      "\u001b[1m22/22\u001b[0m \u001b[32m━━━━━━━━━━━━━━━━━━━━\u001b[0m\u001b[37m\u001b[0m \u001b[1m4s\u001b[0m 47ms/step - accuracy: 0.9276 - loss: 0.1952 - val_accuracy: 0.7778 - val_loss: 0.6003\n",
      "Epoch 16/30\n",
      "\u001b[1m22/22\u001b[0m \u001b[32m━━━━━━━━━━━━━━━━━━━━\u001b[0m\u001b[37m\u001b[0m \u001b[1m4s\u001b[0m 49ms/step - accuracy: 0.8847 - loss: 0.2351 - val_accuracy: 0.9111 - val_loss: 0.3061\n",
      "Epoch 17/30\n",
      "\u001b[1m22/22\u001b[0m \u001b[32m━━━━━━━━━━━━━━━━━━━━\u001b[0m\u001b[37m\u001b[0m \u001b[1m4s\u001b[0m 46ms/step - accuracy: 0.8949 - loss: 0.3012 - val_accuracy: 0.8667 - val_loss: 0.6242\n",
      "Epoch 18/30\n",
      "\u001b[1m22/22\u001b[0m \u001b[32m━━━━━━━━━━━━━━━━━━━━\u001b[0m\u001b[37m\u001b[0m \u001b[1m4s\u001b[0m 48ms/step - accuracy: 0.9269 - loss: 0.2086 - val_accuracy: 0.8889 - val_loss: 0.5445\n",
      "Epoch 19/30\n",
      "\u001b[1m22/22\u001b[0m \u001b[32m━━━━━━━━━━━━━━━━━━━━\u001b[0m\u001b[37m\u001b[0m \u001b[1m4s\u001b[0m 47ms/step - accuracy: 0.9338 - loss: 0.1735 - val_accuracy: 0.9111 - val_loss: 0.2961\n",
      "Epoch 20/30\n",
      "\u001b[1m22/22\u001b[0m \u001b[32m━━━━━━━━━━━━━━━━━━━━\u001b[0m\u001b[37m\u001b[0m \u001b[1m4s\u001b[0m 47ms/step - accuracy: 0.9089 - loss: 0.2559 - val_accuracy: 0.8889 - val_loss: 0.3990\n",
      "Epoch 21/30\n",
      "\u001b[1m22/22\u001b[0m \u001b[32m━━━━━━━━━━━━━━━━━━━━\u001b[0m\u001b[37m\u001b[0m \u001b[1m4s\u001b[0m 47ms/step - accuracy: 0.8916 - loss: 0.1981 - val_accuracy: 0.8889 - val_loss: 0.3973\n",
      "Epoch 22/30\n",
      "\u001b[1m22/22\u001b[0m \u001b[32m━━━━━━━━━━━━━━━━━━━━\u001b[0m\u001b[37m\u001b[0m \u001b[1m4s\u001b[0m 49ms/step - accuracy: 0.9542 - loss: 0.1625 - val_accuracy: 0.9556 - val_loss: 0.3021\n",
      "Epoch 23/30\n",
      "\u001b[1m22/22\u001b[0m \u001b[32m━━━━━━━━━━━━━━━━━━━━\u001b[0m\u001b[37m\u001b[0m \u001b[1m4s\u001b[0m 50ms/step - accuracy: 0.9235 - loss: 0.1725 - val_accuracy: 0.9333 - val_loss: 0.5219\n",
      "Epoch 24/30\n",
      "\u001b[1m22/22\u001b[0m \u001b[32m━━━━━━━━━━━━━━━━━━━━\u001b[0m\u001b[37m\u001b[0m \u001b[1m4s\u001b[0m 49ms/step - accuracy: 0.9238 - loss: 0.1888 - val_accuracy: 0.9333 - val_loss: 0.3899\n",
      "Epoch 25/30\n",
      "\u001b[1m22/22\u001b[0m \u001b[32m━━━━━━━━━━━━━━━━━━━━\u001b[0m\u001b[37m\u001b[0m \u001b[1m4s\u001b[0m 47ms/step - accuracy: 0.9462 - loss: 0.1701 - val_accuracy: 0.9333 - val_loss: 0.4596\n",
      "Epoch 26/30\n",
      "\u001b[1m22/22\u001b[0m \u001b[32m━━━━━━━━━━━━━━━━━━━━\u001b[0m\u001b[37m\u001b[0m \u001b[1m4s\u001b[0m 48ms/step - accuracy: 0.9229 - loss: 0.1621 - val_accuracy: 0.9333 - val_loss: 0.3117\n",
      "Epoch 27/30\n",
      "\u001b[1m22/22\u001b[0m \u001b[32m━━━━━━━━━━━━━━━━━━━━\u001b[0m\u001b[37m\u001b[0m \u001b[1m4s\u001b[0m 47ms/step - accuracy: 0.9324 - loss: 0.1652 - val_accuracy: 0.9333 - val_loss: 0.2499\n",
      "Epoch 28/30\n",
      "\u001b[1m22/22\u001b[0m \u001b[32m━━━━━━━━━━━━━━━━━━━━\u001b[0m\u001b[37m\u001b[0m \u001b[1m4s\u001b[0m 46ms/step - accuracy: 0.9334 - loss: 0.1500 - val_accuracy: 0.8889 - val_loss: 0.4576\n",
      "Epoch 29/30\n",
      "\u001b[1m22/22\u001b[0m \u001b[32m━━━━━━━━━━━━━━━━━━━━\u001b[0m\u001b[37m\u001b[0m \u001b[1m4s\u001b[0m 48ms/step - accuracy: 0.9412 - loss: 0.2104 - val_accuracy: 0.9111 - val_loss: 0.3363\n",
      "Epoch 30/30\n",
      "\u001b[1m22/22\u001b[0m \u001b[32m━━━━━━━━━━━━━━━━━━━━\u001b[0m\u001b[37m\u001b[0m \u001b[1m4s\u001b[0m 47ms/step - accuracy: 0.9508 - loss: 0.1329 - val_accuracy: 0.9333 - val_loss: 0.1881\n"
     ]
    },
    {
     "data": {
      "image/png": "[encoded data removed]",
      "text/plain": [
       "<Figure size 640x480 with 1 Axes>"
      ]
     },
     "metadata": {},
     "output_type": "display_data"
    }
   ],
   "source": [
    "base_model = Xception(weights='imagenet', include_top=False, input_shape=(224, 224, 3))\n",
    "# Freeze convolutional layers\n",
    "for layer in base_model.layers:\n",
    "    layer.trainable = False\n",
    "# Add custom classification layers\n",
    "x = Flatten()(base_model.output)\n",
    "x = Dense(64, activation='relu')(x)\n",
    "x = Dropout(.2)(x)\n",
    "\n",
    "x = Dense(64, activation='relu')(x)\n",
    "#x = Dropout(.2)(x)\n",
    "\n",
    "#x = Dense(32, activation='relu')(x)\n",
    "#x = Dropout(.2)(x)\n",
    "\n",
    "#x = Dense(16, activation='relu')(x)\n",
    "#x = Dense(8, activation='relu')(x)\n",
    "\n",
    "predictions = Dense(1, activation='sigmoid')(x)\n",
    "# Create final model\n",
    "model_Xception = Model(inputs=base_model.input, outputs=predictions)\n",
    "# Compile the model\n",
    "model_Xception.compile(optimizer=Adam(), loss='binary_crossentropy', metrics=['accuracy'])\n",
    "\n",
    "#early_stopping = EarlyStopping(monitor='val_loss', patience=5, restore_best_weights=True)\n",
    "\n",
    "history = model_Xception.fit(train_generator, \n",
    "                       steps_per_epoch=train_generator.samples // batch_size,\n",
    "                       epochs=epochs,\n",
    "                       batch_size=batch_size,\n",
    "                       validation_data=valid_generator,\n",
    "                      validation_steps=valid_generator.samples //batch_size)\n",
    "                     #  ,callbacks=[early_stopping])\n",
    "# Plot training and validation accuracies\n",
    "plt.plot(history.history['accuracy'], label='Training Accuracy')\n",
    "plt.plot(history.history['val_accuracy'], label='Validation Accuracy')\n",
    "plt.xlabel('Epoch')\n",
    "plt.ylabel('Accuracy')\n",
    "plt.title('Model Training and Validation Accuracy')\n",
    "plt.legend()\n",
    "plt.show()"
   ]
  },
  {
   "cell_type": "code",
   "execution_count": 33,
   "id": "e3f745cc",
   "metadata": {
    "execution": {
     "iopub.execute_input": "2024-04-26T19:20:49.116152Z",
     "iopub.status.busy": "2024-04-26T19:20:49.115395Z",
     "iopub.status.idle": "2024-04-26T19:21:00.783649Z",
     "shell.execute_reply": "2024-04-26T19:21:00.782442Z"
    },
    "papermill": {
     "duration": 11.7227,
     "end_time": "2024-04-26T19:21:00.785953",
     "exception": false,
     "start_time": "2024-04-26T19:20:49.063253",
     "status": "completed"
    },
    "tags": []
   },
   "outputs": [
    {
     "name": "stdout",
     "output_type": "stream",
     "text": [
      "\u001b[1m1/1\u001b[0m \u001b[32m━━━━━━━━━━━━━━━━━━━━\u001b[0m\u001b[37m\u001b[0m \u001b[1m9s\u001b[0m 9s/step - accuracy: 0.8333 - loss: 0.4643\n"
     ]
    },
    {
     "data": {
      "text/plain": [
       "(0.4643235504627228, 0.8333333134651184)"
      ]
     },
     "execution_count": 33,
     "metadata": {},
     "output_type": "execute_result"
    }
   ],
   "source": [
    "loss,acc=model_Xception.evaluate(test_image,test_label.astype('int'))\n",
    "loss,acc"
   ]
  },
  {
   "cell_type": "code",
   "execution_count": 34,
   "id": "dbe73516",
   "metadata": {
    "execution": {
     "iopub.execute_input": "2024-04-26T19:21:00.893336Z",
     "iopub.status.busy": "2024-04-26T19:21:00.892329Z",
     "iopub.status.idle": "2024-04-26T19:21:01.433893Z",
     "shell.execute_reply": "2024-04-26T19:21:01.432801Z"
    },
    "papermill": {
     "duration": 0.597981,
     "end_time": "2024-04-26T19:21:01.436651",
     "exception": false,
     "start_time": "2024-04-26T19:21:00.838670",
     "status": "completed"
    },
    "tags": []
   },
   "outputs": [],
   "source": [
    "model_Xception.save('brain_tumor.h5')"
   ]
  },
  {
   "cell_type": "code",
   "execution_count": 35,
   "id": "36721db0",
   "metadata": {
    "execution": {
     "iopub.execute_input": "2024-04-26T19:21:01.542641Z",
     "iopub.status.busy": "2024-04-26T19:21:01.542207Z",
     "iopub.status.idle": "2024-04-26T19:21:01.764950Z",
     "shell.execute_reply": "2024-04-26T19:21:01.763904Z"
    },
    "papermill": {
     "duration": 0.28295,
     "end_time": "2024-04-26T19:21:01.771814",
     "exception": false,
     "start_time": "2024-04-26T19:21:01.488864",
     "status": "completed"
    },
    "tags": []
   },
   "outputs": [
    {
     "data": {
      "text/html": [
       "<pre style=\"white-space:pre;overflow-x:auto;line-height:normal;font-family:Menlo,'DejaVu Sans Mono',consolas,'Courier New',monospace\"><span style=\"font-weight: bold\">Model: \"functional_2\"</span>\n",
       "</pre>\n"
      ],
      "text/plain": [
       "\u001b[1mModel: \"functional_2\"\u001b[0m\n"
      ]
     },
     "metadata": {},
     "output_type": "display_data"
    },
    {
     "data": {
      "text/html": [
       "<pre style=\"white-space:pre;overflow-x:auto;line-height:normal;font-family:Menlo,'DejaVu Sans Mono',consolas,'Courier New',monospace\">┏━━━━━━━━━━━━━━━━━━━━━┳━━━━━━━━━━━━━━━━━━━┳━━━━━━━━━━━━┳━━━━━━━━━━━━━━━━━━━┓\n",
       "┃<span style=\"font-weight: bold\"> Layer (type)        </span>┃<span style=\"font-weight: bold\"> Output Shape      </span>┃<span style=\"font-weight: bold\">    Param # </span>┃<span style=\"font-weight: bold\"> Connected to      </span>┃\n",
       "┡━━━━━━━━━━━━━━━━━━━━━╇━━━━━━━━━━━━━━━━━━━╇━━━━━━━━━━━━╇━━━━━━━━━━━━━━━━━━━┩\n",
       "│ input_layer_1       │ (<span style=\"color: #00d7ff; text-decoration-color: #00d7ff\">None</span>, <span style=\"color: #00af00; text-decoration-color: #00af00\">224</span>, <span style=\"color: #00af00; text-decoration-color: #00af00\">224</span>,  │          <span style=\"color: #00af00; text-decoration-color: #00af00\">0</span> │ -                 │\n",
       "│ (<span style=\"color: #0087ff; text-decoration-color: #0087ff\">InputLayer</span>)        │ <span style=\"color: #00af00; text-decoration-color: #00af00\">3</span>)                │            │                   │\n",
       "├─────────────────────┼───────────────────┼────────────┼───────────────────┤\n",
       "│ block1_conv1        │ (<span style=\"color: #00d7ff; text-decoration-color: #00d7ff\">None</span>, <span style=\"color: #00af00; text-decoration-color: #00af00\">111</span>, <span style=\"color: #00af00; text-decoration-color: #00af00\">111</span>,  │        <span style=\"color: #00af00; text-decoration-color: #00af00\">864</span> │ input_layer_1[<span style=\"color: #00af00; text-decoration-color: #00af00\">0</span>]… │\n",
       "│ (<span style=\"color: #0087ff; text-decoration-color: #0087ff\">Conv2D</span>)            │ <span style=\"color: #00af00; text-decoration-color: #00af00\">32</span>)               │            │                   │\n",
       "├─────────────────────┼───────────────────┼────────────┼───────────────────┤\n",
       "│ block1_conv1_bn     │ (<span style=\"color: #00d7ff; text-decoration-color: #00d7ff\">None</span>, <span style=\"color: #00af00; text-decoration-color: #00af00\">111</span>, <span style=\"color: #00af00; text-decoration-color: #00af00\">111</span>,  │        <span style=\"color: #00af00; text-decoration-color: #00af00\">128</span> │ block1_conv1[<span style=\"color: #00af00; text-decoration-color: #00af00\">0</span>][<span style=\"color: #00af00; text-decoration-color: #00af00\">…</span> │\n",
       "│ (<span style=\"color: #0087ff; text-decoration-color: #0087ff\">BatchNormalizatio…</span> │ <span style=\"color: #00af00; text-decoration-color: #00af00\">32</span>)               │            │                   │\n",
       "├─────────────────────┼───────────────────┼────────────┼───────────────────┤\n",
       "│ block1_conv1_act    │ (<span style=\"color: #00d7ff; text-decoration-color: #00d7ff\">None</span>, <span style=\"color: #00af00; text-decoration-color: #00af00\">111</span>, <span style=\"color: #00af00; text-decoration-color: #00af00\">111</span>,  │          <span style=\"color: #00af00; text-decoration-color: #00af00\">0</span> │ block1_conv1_bn[<span style=\"color: #00af00; text-decoration-color: #00af00\">…</span> │\n",
       "│ (<span style=\"color: #0087ff; text-decoration-color: #0087ff\">Activation</span>)        │ <span style=\"color: #00af00; text-decoration-color: #00af00\">32</span>)               │            │                   │\n",
       "├─────────────────────┼───────────────────┼────────────┼───────────────────┤\n",
       "│ block1_conv2        │ (<span style=\"color: #00d7ff; text-decoration-color: #00d7ff\">None</span>, <span style=\"color: #00af00; text-decoration-color: #00af00\">109</span>, <span style=\"color: #00af00; text-decoration-color: #00af00\">109</span>,  │     <span style=\"color: #00af00; text-decoration-color: #00af00\">18,432</span> │ block1_conv1_act… │\n",
       "│ (<span style=\"color: #0087ff; text-decoration-color: #0087ff\">Conv2D</span>)            │ <span style=\"color: #00af00; text-decoration-color: #00af00\">64</span>)               │            │                   │\n",
       "├─────────────────────┼───────────────────┼────────────┼───────────────────┤\n",
       "│ block1_conv2_bn     │ (<span style=\"color: #00d7ff; text-decoration-color: #00d7ff\">None</span>, <span style=\"color: #00af00; text-decoration-color: #00af00\">109</span>, <span style=\"color: #00af00; text-decoration-color: #00af00\">109</span>,  │        <span style=\"color: #00af00; text-decoration-color: #00af00\">256</span> │ block1_conv2[<span style=\"color: #00af00; text-decoration-color: #00af00\">0</span>][<span style=\"color: #00af00; text-decoration-color: #00af00\">…</span> │\n",
       "│ (<span style=\"color: #0087ff; text-decoration-color: #0087ff\">BatchNormalizatio…</span> │ <span style=\"color: #00af00; text-decoration-color: #00af00\">64</span>)               │            │                   │\n",
       "├─────────────────────┼───────────────────┼────────────┼───────────────────┤\n",
       "│ block1_conv2_act    │ (<span style=\"color: #00d7ff; text-decoration-color: #00d7ff\">None</span>, <span style=\"color: #00af00; text-decoration-color: #00af00\">109</span>, <span style=\"color: #00af00; text-decoration-color: #00af00\">109</span>,  │          <span style=\"color: #00af00; text-decoration-color: #00af00\">0</span> │ block1_conv2_bn[<span style=\"color: #00af00; text-decoration-color: #00af00\">…</span> │\n",
       "│ (<span style=\"color: #0087ff; text-decoration-color: #0087ff\">Activation</span>)        │ <span style=\"color: #00af00; text-decoration-color: #00af00\">64</span>)               │            │                   │\n",
       "├─────────────────────┼───────────────────┼────────────┼───────────────────┤\n",
       "│ block2_sepconv1     │ (<span style=\"color: #00d7ff; text-decoration-color: #00d7ff\">None</span>, <span style=\"color: #00af00; text-decoration-color: #00af00\">109</span>, <span style=\"color: #00af00; text-decoration-color: #00af00\">109</span>,  │      <span style=\"color: #00af00; text-decoration-color: #00af00\">8,768</span> │ block1_conv2_act… │\n",
       "│ (<span style=\"color: #0087ff; text-decoration-color: #0087ff\">SeparableConv2D</span>)   │ <span style=\"color: #00af00; text-decoration-color: #00af00\">128</span>)              │            │                   │\n",
       "├─────────────────────┼───────────────────┼────────────┼───────────────────┤\n",
       "│ block2_sepconv1_bn  │ (<span style=\"color: #00d7ff; text-decoration-color: #00d7ff\">None</span>, <span style=\"color: #00af00; text-decoration-color: #00af00\">109</span>, <span style=\"color: #00af00; text-decoration-color: #00af00\">109</span>,  │        <span style=\"color: #00af00; text-decoration-color: #00af00\">512</span> │ block2_sepconv1[<span style=\"color: #00af00; text-decoration-color: #00af00\">…</span> │\n",
       "│ (<span style=\"color: #0087ff; text-decoration-color: #0087ff\">BatchNormalizatio…</span> │ <span style=\"color: #00af00; text-decoration-color: #00af00\">128</span>)              │            │                   │\n",
       "├─────────────────────┼───────────────────┼────────────┼───────────────────┤\n",
       "│ block2_sepconv2_act │ (<span style=\"color: #00d7ff; text-decoration-color: #00d7ff\">None</span>, <span style=\"color: #00af00; text-decoration-color: #00af00\">109</span>, <span style=\"color: #00af00; text-decoration-color: #00af00\">109</span>,  │          <span style=\"color: #00af00; text-decoration-color: #00af00\">0</span> │ block2_sepconv1_… │\n",
       "│ (<span style=\"color: #0087ff; text-decoration-color: #0087ff\">Activation</span>)        │ <span style=\"color: #00af00; text-decoration-color: #00af00\">128</span>)              │            │                   │\n",
       "├─────────────────────┼───────────────────┼────────────┼───────────────────┤\n",
       "│ block2_sepconv2     │ (<span style=\"color: #00d7ff; text-decoration-color: #00d7ff\">None</span>, <span style=\"color: #00af00; text-decoration-color: #00af00\">109</span>, <span style=\"color: #00af00; text-decoration-color: #00af00\">109</span>,  │     <span style=\"color: #00af00; text-decoration-color: #00af00\">17,536</span> │ block2_sepconv2_… │\n",
       "│ (<span style=\"color: #0087ff; text-decoration-color: #0087ff\">SeparableConv2D</span>)   │ <span style=\"color: #00af00; text-decoration-color: #00af00\">128</span>)              │            │                   │\n",
       "├─────────────────────┼───────────────────┼────────────┼───────────────────┤\n",
       "│ block2_sepconv2_bn  │ (<span style=\"color: #00d7ff; text-decoration-color: #00d7ff\">None</span>, <span style=\"color: #00af00; text-decoration-color: #00af00\">109</span>, <span style=\"color: #00af00; text-decoration-color: #00af00\">109</span>,  │        <span style=\"color: #00af00; text-decoration-color: #00af00\">512</span> │ block2_sepconv2[<span style=\"color: #00af00; text-decoration-color: #00af00\">…</span> │\n",
       "│ (<span style=\"color: #0087ff; text-decoration-color: #0087ff\">BatchNormalizatio…</span> │ <span style=\"color: #00af00; text-decoration-color: #00af00\">128</span>)              │            │                   │\n",
       "├─────────────────────┼───────────────────┼────────────┼───────────────────┤\n",
       "│ conv2d_3 (<span style=\"color: #0087ff; text-decoration-color: #0087ff\">Conv2D</span>)   │ (<span style=\"color: #00d7ff; text-decoration-color: #00d7ff\">None</span>, <span style=\"color: #00af00; text-decoration-color: #00af00\">55</span>, <span style=\"color: #00af00; text-decoration-color: #00af00\">55</span>,    │      <span style=\"color: #00af00; text-decoration-color: #00af00\">8,192</span> │ block1_conv2_act… │\n",
       "│                     │ <span style=\"color: #00af00; text-decoration-color: #00af00\">128</span>)              │            │                   │\n",
       "├─────────────────────┼───────────────────┼────────────┼───────────────────┤\n",
       "│ block2_pool         │ (<span style=\"color: #00d7ff; text-decoration-color: #00d7ff\">None</span>, <span style=\"color: #00af00; text-decoration-color: #00af00\">55</span>, <span style=\"color: #00af00; text-decoration-color: #00af00\">55</span>,    │          <span style=\"color: #00af00; text-decoration-color: #00af00\">0</span> │ block2_sepconv2_… │\n",
       "│ (<span style=\"color: #0087ff; text-decoration-color: #0087ff\">MaxPooling2D</span>)      │ <span style=\"color: #00af00; text-decoration-color: #00af00\">128</span>)              │            │                   │\n",
       "├─────────────────────┼───────────────────┼────────────┼───────────────────┤\n",
       "│ batch_normalization │ (<span style=\"color: #00d7ff; text-decoration-color: #00d7ff\">None</span>, <span style=\"color: #00af00; text-decoration-color: #00af00\">55</span>, <span style=\"color: #00af00; text-decoration-color: #00af00\">55</span>,    │        <span style=\"color: #00af00; text-decoration-color: #00af00\">512</span> │ conv2d_3[<span style=\"color: #00af00; text-decoration-color: #00af00\">0</span>][<span style=\"color: #00af00; text-decoration-color: #00af00\">0</span>]    │\n",
       "│ (<span style=\"color: #0087ff; text-decoration-color: #0087ff\">BatchNormalizatio…</span> │ <span style=\"color: #00af00; text-decoration-color: #00af00\">128</span>)              │            │                   │\n",
       "├─────────────────────┼───────────────────┼────────────┼───────────────────┤\n",
       "│ add (<span style=\"color: #0087ff; text-decoration-color: #0087ff\">Add</span>)           │ (<span style=\"color: #00d7ff; text-decoration-color: #00d7ff\">None</span>, <span style=\"color: #00af00; text-decoration-color: #00af00\">55</span>, <span style=\"color: #00af00; text-decoration-color: #00af00\">55</span>,    │          <span style=\"color: #00af00; text-decoration-color: #00af00\">0</span> │ block2_pool[<span style=\"color: #00af00; text-decoration-color: #00af00\">0</span>][<span style=\"color: #00af00; text-decoration-color: #00af00\">0</span>… │\n",
       "│                     │ <span style=\"color: #00af00; text-decoration-color: #00af00\">128</span>)              │            │ batch_normalizat… │\n",
       "├─────────────────────┼───────────────────┼────────────┼───────────────────┤\n",
       "│ block3_sepconv1_act │ (<span style=\"color: #00d7ff; text-decoration-color: #00d7ff\">None</span>, <span style=\"color: #00af00; text-decoration-color: #00af00\">55</span>, <span style=\"color: #00af00; text-decoration-color: #00af00\">55</span>,    │          <span style=\"color: #00af00; text-decoration-color: #00af00\">0</span> │ add[<span style=\"color: #00af00; text-decoration-color: #00af00\">0</span>][<span style=\"color: #00af00; text-decoration-color: #00af00\">0</span>]         │\n",
       "│ (<span style=\"color: #0087ff; text-decoration-color: #0087ff\">Activation</span>)        │ <span style=\"color: #00af00; text-decoration-color: #00af00\">128</span>)              │            │                   │\n",
       "├─────────────────────┼───────────────────┼────────────┼───────────────────┤\n",
       "│ block3_sepconv1     │ (<span style=\"color: #00d7ff; text-decoration-color: #00d7ff\">None</span>, <span style=\"color: #00af00; text-decoration-color: #00af00\">55</span>, <span style=\"color: #00af00; text-decoration-color: #00af00\">55</span>,    │     <span style=\"color: #00af00; text-decoration-color: #00af00\">33,920</span> │ block3_sepconv1_… │\n",
       "│ (<span style=\"color: #0087ff; text-decoration-color: #0087ff\">SeparableConv2D</span>)   │ <span style=\"color: #00af00; text-decoration-color: #00af00\">256</span>)              │            │                   │\n",
       "├─────────────────────┼───────────────────┼────────────┼───────────────────┤\n",
       "│ block3_sepconv1_bn  │ (<span style=\"color: #00d7ff; text-decoration-color: #00d7ff\">None</span>, <span style=\"color: #00af00; text-decoration-color: #00af00\">55</span>, <span style=\"color: #00af00; text-decoration-color: #00af00\">55</span>,    │      <span style=\"color: #00af00; text-decoration-color: #00af00\">1,024</span> │ block3_sepconv1[<span style=\"color: #00af00; text-decoration-color: #00af00\">…</span> │\n",
       "│ (<span style=\"color: #0087ff; text-decoration-color: #0087ff\">BatchNormalizatio…</span> │ <span style=\"color: #00af00; text-decoration-color: #00af00\">256</span>)              │            │                   │\n",
       "├─────────────────────┼───────────────────┼────────────┼───────────────────┤\n",
       "│ block3_sepconv2_act │ (<span style=\"color: #00d7ff; text-decoration-color: #00d7ff\">None</span>, <span style=\"color: #00af00; text-decoration-color: #00af00\">55</span>, <span style=\"color: #00af00; text-decoration-color: #00af00\">55</span>,    │          <span style=\"color: #00af00; text-decoration-color: #00af00\">0</span> │ block3_sepconv1_… │\n",
       "│ (<span style=\"color: #0087ff; text-decoration-color: #0087ff\">Activation</span>)        │ <span style=\"color: #00af00; text-decoration-color: #00af00\">256</span>)              │            │                   │\n",
       "├─────────────────────┼───────────────────┼────────────┼───────────────────┤\n",
       "│ block3_sepconv2     │ (<span style=\"color: #00d7ff; text-decoration-color: #00d7ff\">None</span>, <span style=\"color: #00af00; text-decoration-color: #00af00\">55</span>, <span style=\"color: #00af00; text-decoration-color: #00af00\">55</span>,    │     <span style=\"color: #00af00; text-decoration-color: #00af00\">67,840</span> │ block3_sepconv2_… │\n",
       "│ (<span style=\"color: #0087ff; text-decoration-color: #0087ff\">SeparableConv2D</span>)   │ <span style=\"color: #00af00; text-decoration-color: #00af00\">256</span>)              │            │                   │\n",
       "├─────────────────────┼───────────────────┼────────────┼───────────────────┤\n",
       "│ block3_sepconv2_bn  │ (<span style=\"color: #00d7ff; text-decoration-color: #00d7ff\">None</span>, <span style=\"color: #00af00; text-decoration-color: #00af00\">55</span>, <span style=\"color: #00af00; text-decoration-color: #00af00\">55</span>,    │      <span style=\"color: #00af00; text-decoration-color: #00af00\">1,024</span> │ block3_sepconv2[<span style=\"color: #00af00; text-decoration-color: #00af00\">…</span> │\n",
       "│ (<span style=\"color: #0087ff; text-decoration-color: #0087ff\">BatchNormalizatio…</span> │ <span style=\"color: #00af00; text-decoration-color: #00af00\">256</span>)              │            │                   │\n",
       "├─────────────────────┼───────────────────┼────────────┼───────────────────┤\n",
       "│ conv2d_4 (<span style=\"color: #0087ff; text-decoration-color: #0087ff\">Conv2D</span>)   │ (<span style=\"color: #00d7ff; text-decoration-color: #00d7ff\">None</span>, <span style=\"color: #00af00; text-decoration-color: #00af00\">28</span>, <span style=\"color: #00af00; text-decoration-color: #00af00\">28</span>,    │     <span style=\"color: #00af00; text-decoration-color: #00af00\">32,768</span> │ add[<span style=\"color: #00af00; text-decoration-color: #00af00\">0</span>][<span style=\"color: #00af00; text-decoration-color: #00af00\">0</span>]         │\n",
       "│                     │ <span style=\"color: #00af00; text-decoration-color: #00af00\">256</span>)              │            │                   │\n",
       "├─────────────────────┼───────────────────┼────────────┼───────────────────┤\n",
       "│ block3_pool         │ (<span style=\"color: #00d7ff; text-decoration-color: #00d7ff\">None</span>, <span style=\"color: #00af00; text-decoration-color: #00af00\">28</span>, <span style=\"color: #00af00; text-decoration-color: #00af00\">28</span>,    │          <span style=\"color: #00af00; text-decoration-color: #00af00\">0</span> │ block3_sepconv2_… │\n",
       "│ (<span style=\"color: #0087ff; text-decoration-color: #0087ff\">MaxPooling2D</span>)      │ <span style=\"color: #00af00; text-decoration-color: #00af00\">256</span>)              │            │                   │\n",
       "├─────────────────────┼───────────────────┼────────────┼───────────────────┤\n",
       "│ batch_normalizatio… │ (<span style=\"color: #00d7ff; text-decoration-color: #00d7ff\">None</span>, <span style=\"color: #00af00; text-decoration-color: #00af00\">28</span>, <span style=\"color: #00af00; text-decoration-color: #00af00\">28</span>,    │      <span style=\"color: #00af00; text-decoration-color: #00af00\">1,024</span> │ conv2d_4[<span style=\"color: #00af00; text-decoration-color: #00af00\">0</span>][<span style=\"color: #00af00; text-decoration-color: #00af00\">0</span>]    │\n",
       "│ (<span style=\"color: #0087ff; text-decoration-color: #0087ff\">BatchNormalizatio…</span> │ <span style=\"color: #00af00; text-decoration-color: #00af00\">256</span>)              │            │                   │\n",
       "├─────────────────────┼───────────────────┼────────────┼───────────────────┤\n",
       "│ add_1 (<span style=\"color: #0087ff; text-decoration-color: #0087ff\">Add</span>)         │ (<span style=\"color: #00d7ff; text-decoration-color: #00d7ff\">None</span>, <span style=\"color: #00af00; text-decoration-color: #00af00\">28</span>, <span style=\"color: #00af00; text-decoration-color: #00af00\">28</span>,    │          <span style=\"color: #00af00; text-decoration-color: #00af00\">0</span> │ block3_pool[<span style=\"color: #00af00; text-decoration-color: #00af00\">0</span>][<span style=\"color: #00af00; text-decoration-color: #00af00\">0</span>… │\n",
       "│                     │ <span style=\"color: #00af00; text-decoration-color: #00af00\">256</span>)              │            │ batch_normalizat… │\n",
       "├─────────────────────┼───────────────────┼────────────┼───────────────────┤\n",
       "│ block4_sepconv1_act │ (<span style=\"color: #00d7ff; text-decoration-color: #00d7ff\">None</span>, <span style=\"color: #00af00; text-decoration-color: #00af00\">28</span>, <span style=\"color: #00af00; text-decoration-color: #00af00\">28</span>,    │          <span style=\"color: #00af00; text-decoration-color: #00af00\">0</span> │ add_1[<span style=\"color: #00af00; text-decoration-color: #00af00\">0</span>][<span style=\"color: #00af00; text-decoration-color: #00af00\">0</span>]       │\n",
       "│ (<span style=\"color: #0087ff; text-decoration-color: #0087ff\">Activation</span>)        │ <span style=\"color: #00af00; text-decoration-color: #00af00\">256</span>)              │            │                   │\n",
       "├─────────────────────┼───────────────────┼────────────┼───────────────────┤\n",
       "│ block4_sepconv1     │ (<span style=\"color: #00d7ff; text-decoration-color: #00d7ff\">None</span>, <span style=\"color: #00af00; text-decoration-color: #00af00\">28</span>, <span style=\"color: #00af00; text-decoration-color: #00af00\">28</span>,    │    <span style=\"color: #00af00; text-decoration-color: #00af00\">188,672</span> │ block4_sepconv1_… │\n",
       "│ (<span style=\"color: #0087ff; text-decoration-color: #0087ff\">SeparableConv2D</span>)   │ <span style=\"color: #00af00; text-decoration-color: #00af00\">728</span>)              │            │                   │\n",
       "├─────────────────────┼───────────────────┼────────────┼───────────────────┤\n",
       "│ block4_sepconv1_bn  │ (<span style=\"color: #00d7ff; text-decoration-color: #00d7ff\">None</span>, <span style=\"color: #00af00; text-decoration-color: #00af00\">28</span>, <span style=\"color: #00af00; text-decoration-color: #00af00\">28</span>,    │      <span style=\"color: #00af00; text-decoration-color: #00af00\">2,912</span> │ block4_sepconv1[<span style=\"color: #00af00; text-decoration-color: #00af00\">…</span> │\n",
       "│ (<span style=\"color: #0087ff; text-decoration-color: #0087ff\">BatchNormalizatio…</span> │ <span style=\"color: #00af00; text-decoration-color: #00af00\">728</span>)              │            │                   │\n",
       "├─────────────────────┼───────────────────┼────────────┼───────────────────┤\n",
       "│ block4_sepconv2_act │ (<span style=\"color: #00d7ff; text-decoration-color: #00d7ff\">None</span>, <span style=\"color: #00af00; text-decoration-color: #00af00\">28</span>, <span style=\"color: #00af00; text-decoration-color: #00af00\">28</span>,    │          <span style=\"color: #00af00; text-decoration-color: #00af00\">0</span> │ block4_sepconv1_… │\n",
       "│ (<span style=\"color: #0087ff; text-decoration-color: #0087ff\">Activation</span>)        │ <span style=\"color: #00af00; text-decoration-color: #00af00\">728</span>)              │            │                   │\n",
       "├─────────────────────┼───────────────────┼────────────┼───────────────────┤\n",
       "│ block4_sepconv2     │ (<span style=\"color: #00d7ff; text-decoration-color: #00d7ff\">None</span>, <span style=\"color: #00af00; text-decoration-color: #00af00\">28</span>, <span style=\"color: #00af00; text-decoration-color: #00af00\">28</span>,    │    <span style=\"color: #00af00; text-decoration-color: #00af00\">536,536</span> │ block4_sepconv2_… │\n",
       "│ (<span style=\"color: #0087ff; text-decoration-color: #0087ff\">SeparableConv2D</span>)   │ <span style=\"color: #00af00; text-decoration-color: #00af00\">728</span>)              │            │                   │\n",
       "├─────────────────────┼───────────────────┼────────────┼───────────────────┤\n",
       "│ block4_sepconv2_bn  │ (<span style=\"color: #00d7ff; text-decoration-color: #00d7ff\">None</span>, <span style=\"color: #00af00; text-decoration-color: #00af00\">28</span>, <span style=\"color: #00af00; text-decoration-color: #00af00\">28</span>,    │      <span style=\"color: #00af00; text-decoration-color: #00af00\">2,912</span> │ block4_sepconv2[<span style=\"color: #00af00; text-decoration-color: #00af00\">…</span> │\n",
       "│ (<span style=\"color: #0087ff; text-decoration-color: #0087ff\">BatchNormalizatio…</span> │ <span style=\"color: #00af00; text-decoration-color: #00af00\">728</span>)              │            │                   │\n",
       "├─────────────────────┼───────────────────┼────────────┼───────────────────┤\n",
       "│ conv2d_5 (<span style=\"color: #0087ff; text-decoration-color: #0087ff\">Conv2D</span>)   │ (<span style=\"color: #00d7ff; text-decoration-color: #00d7ff\">None</span>, <span style=\"color: #00af00; text-decoration-color: #00af00\">14</span>, <span style=\"color: #00af00; text-decoration-color: #00af00\">14</span>,    │    <span style=\"color: #00af00; text-decoration-color: #00af00\">186,368</span> │ add_1[<span style=\"color: #00af00; text-decoration-color: #00af00\">0</span>][<span style=\"color: #00af00; text-decoration-color: #00af00\">0</span>]       │\n",
       "│                     │ <span style=\"color: #00af00; text-decoration-color: #00af00\">728</span>)              │            │                   │\n",
       "├─────────────────────┼───────────────────┼────────────┼───────────────────┤\n",
       "│ block4_pool         │ (<span style=\"color: #00d7ff; text-decoration-color: #00d7ff\">None</span>, <span style=\"color: #00af00; text-decoration-color: #00af00\">14</span>, <span style=\"color: #00af00; text-decoration-color: #00af00\">14</span>,    │          <span style=\"color: #00af00; text-decoration-color: #00af00\">0</span> │ block4_sepconv2_… │\n",
       "│ (<span style=\"color: #0087ff; text-decoration-color: #0087ff\">MaxPooling2D</span>)      │ <span style=\"color: #00af00; text-decoration-color: #00af00\">728</span>)              │            │                   │\n",
       "├─────────────────────┼───────────────────┼────────────┼───────────────────┤\n",
       "│ batch_normalizatio… │ (<span style=\"color: #00d7ff; text-decoration-color: #00d7ff\">None</span>, <span style=\"color: #00af00; text-decoration-color: #00af00\">14</span>, <span style=\"color: #00af00; text-decoration-color: #00af00\">14</span>,    │      <span style=\"color: #00af00; text-decoration-color: #00af00\">2,912</span> │ conv2d_5[<span style=\"color: #00af00; text-decoration-color: #00af00\">0</span>][<span style=\"color: #00af00; text-decoration-color: #00af00\">0</span>]    │\n",
       "│ (<span style=\"color: #0087ff; text-decoration-color: #0087ff\">BatchNormalizatio…</span> │ <span style=\"color: #00af00; text-decoration-color: #00af00\">728</span>)              │            │                   │\n",
       "├─────────────────────┼───────────────────┼────────────┼───────────────────┤\n",
       "│ add_2 (<span style=\"color: #0087ff; text-decoration-color: #0087ff\">Add</span>)         │ (<span style=\"color: #00d7ff; text-decoration-color: #00d7ff\">None</span>, <span style=\"color: #00af00; text-decoration-color: #00af00\">14</span>, <span style=\"color: #00af00; text-decoration-color: #00af00\">14</span>,    │          <span style=\"color: #00af00; text-decoration-color: #00af00\">0</span> │ block4_pool[<span style=\"color: #00af00; text-decoration-color: #00af00\">0</span>][<span style=\"color: #00af00; text-decoration-color: #00af00\">0</span>… │\n",
       "│                     │ <span style=\"color: #00af00; text-decoration-color: #00af00\">728</span>)              │            │ batch_normalizat… │\n",
       "├─────────────────────┼───────────────────┼────────────┼───────────────────┤\n",
       "│ block5_sepconv1_act │ (<span style=\"color: #00d7ff; text-decoration-color: #00d7ff\">None</span>, <span style=\"color: #00af00; text-decoration-color: #00af00\">14</span>, <span style=\"color: #00af00; text-decoration-color: #00af00\">14</span>,    │          <span style=\"color: #00af00; text-decoration-color: #00af00\">0</span> │ add_2[<span style=\"color: #00af00; text-decoration-color: #00af00\">0</span>][<span style=\"color: #00af00; text-decoration-color: #00af00\">0</span>]       │\n",
       "│ (<span style=\"color: #0087ff; text-decoration-color: #0087ff\">Activation</span>)        │ <span style=\"color: #00af00; text-decoration-color: #00af00\">728</span>)              │            │                   │\n",
       "├─────────────────────┼───────────────────┼────────────┼───────────────────┤\n",
       "│ block5_sepconv1     │ (<span style=\"color: #00d7ff; text-decoration-color: #00d7ff\">None</span>, <span style=\"color: #00af00; text-decoration-color: #00af00\">14</span>, <span style=\"color: #00af00; text-decoration-color: #00af00\">14</span>,    │    <span style=\"color: #00af00; text-decoration-color: #00af00\">536,536</span> │ block5_sepconv1_… │\n",
       "│ (<span style=\"color: #0087ff; text-decoration-color: #0087ff\">SeparableConv2D</span>)   │ <span style=\"color: #00af00; text-decoration-color: #00af00\">728</span>)              │            │                   │\n",
       "├─────────────────────┼───────────────────┼────────────┼───────────────────┤\n",
       "│ block5_sepconv1_bn  │ (<span style=\"color: #00d7ff; text-decoration-color: #00d7ff\">None</span>, <span style=\"color: #00af00; text-decoration-color: #00af00\">14</span>, <span style=\"color: #00af00; text-decoration-color: #00af00\">14</span>,    │      <span style=\"color: #00af00; text-decoration-color: #00af00\">2,912</span> │ block5_sepconv1[<span style=\"color: #00af00; text-decoration-color: #00af00\">…</span> │\n",
       "│ (<span style=\"color: #0087ff; text-decoration-color: #0087ff\">BatchNormalizatio…</span> │ <span style=\"color: #00af00; text-decoration-color: #00af00\">728</span>)              │            │                   │\n",
       "├─────────────────────┼───────────────────┼────────────┼───────────────────┤\n",
       "│ block5_sepconv2_act │ (<span style=\"color: #00d7ff; text-decoration-color: #00d7ff\">None</span>, <span style=\"color: #00af00; text-decoration-color: #00af00\">14</span>, <span style=\"color: #00af00; text-decoration-color: #00af00\">14</span>,    │          <span style=\"color: #00af00; text-decoration-color: #00af00\">0</span> │ block5_sepconv1_… │\n",
       "│ (<span style=\"color: #0087ff; text-decoration-color: #0087ff\">Activation</span>)        │ <span style=\"color: #00af00; text-decoration-color: #00af00\">728</span>)              │            │                   │\n",
       "├─────────────────────┼───────────────────┼────────────┼───────────────────┤\n",
       "│ block5_sepconv2     │ (<span style=\"color: #00d7ff; text-decoration-color: #00d7ff\">None</span>, <span style=\"color: #00af00; text-decoration-color: #00af00\">14</span>, <span style=\"color: #00af00; text-decoration-color: #00af00\">14</span>,    │    <span style=\"color: #00af00; text-decoration-color: #00af00\">536,536</span> │ block5_sepconv2_… │\n",
       "│ (<span style=\"color: #0087ff; text-decoration-color: #0087ff\">SeparableConv2D</span>)   │ <span style=\"color: #00af00; text-decoration-color: #00af00\">728</span>)              │            │                   │\n",
       "├─────────────────────┼───────────────────┼────────────┼───────────────────┤\n",
       "│ block5_sepconv2_bn  │ (<span style=\"color: #00d7ff; text-decoration-color: #00d7ff\">None</span>, <span style=\"color: #00af00; text-decoration-color: #00af00\">14</span>, <span style=\"color: #00af00; text-decoration-color: #00af00\">14</span>,    │      <span style=\"color: #00af00; text-decoration-color: #00af00\">2,912</span> │ block5_sepconv2[<span style=\"color: #00af00; text-decoration-color: #00af00\">…</span> │\n",
       "│ (<span style=\"color: #0087ff; text-decoration-color: #0087ff\">BatchNormalizatio…</span> │ <span style=\"color: #00af00; text-decoration-color: #00af00\">728</span>)              │            │                   │\n",
       "├─────────────────────┼───────────────────┼────────────┼───────────────────┤\n",
       "│ block5_sepconv3_act │ (<span style=\"color: #00d7ff; text-decoration-color: #00d7ff\">None</span>, <span style=\"color: #00af00; text-decoration-color: #00af00\">14</span>, <span style=\"color: #00af00; text-decoration-color: #00af00\">14</span>,    │          <span style=\"color: #00af00; text-decoration-color: #00af00\">0</span> │ block5_sepconv2_… │\n",
       "│ (<span style=\"color: #0087ff; text-decoration-color: #0087ff\">Activation</span>)        │ <span style=\"color: #00af00; text-decoration-color: #00af00\">728</span>)              │            │                   │\n",
       "├─────────────────────┼───────────────────┼────────────┼───────────────────┤\n",
       "│ block5_sepconv3     │ (<span style=\"color: #00d7ff; text-decoration-color: #00d7ff\">None</span>, <span style=\"color: #00af00; text-decoration-color: #00af00\">14</span>, <span style=\"color: #00af00; text-decoration-color: #00af00\">14</span>,    │    <span style=\"color: #00af00; text-decoration-color: #00af00\">536,536</span> │ block5_sepconv3_… │\n",
       "│ (<span style=\"color: #0087ff; text-decoration-color: #0087ff\">SeparableConv2D</span>)   │ <span style=\"color: #00af00; text-decoration-color: #00af00\">728</span>)              │            │                   │\n",
       "├─────────────────────┼───────────────────┼────────────┼───────────────────┤\n",
       "│ block5_sepconv3_bn  │ (<span style=\"color: #00d7ff; text-decoration-color: #00d7ff\">None</span>, <span style=\"color: #00af00; text-decoration-color: #00af00\">14</span>, <span style=\"color: #00af00; text-decoration-color: #00af00\">14</span>,    │      <span style=\"color: #00af00; text-decoration-color: #00af00\">2,912</span> │ block5_sepconv3[<span style=\"color: #00af00; text-decoration-color: #00af00\">…</span> │\n",
       "│ (<span style=\"color: #0087ff; text-decoration-color: #0087ff\">BatchNormalizatio…</span> │ <span style=\"color: #00af00; text-decoration-color: #00af00\">728</span>)              │            │                   │\n",
       "├─────────────────────┼───────────────────┼────────────┼───────────────────┤\n",
       "│ add_3 (<span style=\"color: #0087ff; text-decoration-color: #0087ff\">Add</span>)         │ (<span style=\"color: #00d7ff; text-decoration-color: #00d7ff\">None</span>, <span style=\"color: #00af00; text-decoration-color: #00af00\">14</span>, <span style=\"color: #00af00; text-decoration-color: #00af00\">14</span>,    │          <span style=\"color: #00af00; text-decoration-color: #00af00\">0</span> │ block5_sepconv3_… │\n",
       "│                     │ <span style=\"color: #00af00; text-decoration-color: #00af00\">728</span>)              │            │ add_2[<span style=\"color: #00af00; text-decoration-color: #00af00\">0</span>][<span style=\"color: #00af00; text-decoration-color: #00af00\">0</span>]       │\n",
       "├─────────────────────┼───────────────────┼────────────┼───────────────────┤\n",
       "│ block6_sepconv1_act │ (<span style=\"color: #00d7ff; text-decoration-color: #00d7ff\">None</span>, <span style=\"color: #00af00; text-decoration-color: #00af00\">14</span>, <span style=\"color: #00af00; text-decoration-color: #00af00\">14</span>,    │          <span style=\"color: #00af00; text-decoration-color: #00af00\">0</span> │ add_3[<span style=\"color: #00af00; text-decoration-color: #00af00\">0</span>][<span style=\"color: #00af00; text-decoration-color: #00af00\">0</span>]       │\n",
       "│ (<span style=\"color: #0087ff; text-decoration-color: #0087ff\">Activation</span>)        │ <span style=\"color: #00af00; text-decoration-color: #00af00\">728</span>)              │            │                   │\n",
       "├─────────────────────┼───────────────────┼────────────┼───────────────────┤\n",
       "│ block6_sepconv1     │ (<span style=\"color: #00d7ff; text-decoration-color: #00d7ff\">None</span>, <span style=\"color: #00af00; text-decoration-color: #00af00\">14</span>, <span style=\"color: #00af00; text-decoration-color: #00af00\">14</span>,    │    <span style=\"color: #00af00; text-decoration-color: #00af00\">536,536</span> │ block6_sepconv1_… │\n",
       "│ (<span style=\"color: #0087ff; text-decoration-color: #0087ff\">SeparableConv2D</span>)   │ <span style=\"color: #00af00; text-decoration-color: #00af00\">728</span>)              │            │                   │\n",
       "├─────────────────────┼───────────────────┼────────────┼───────────────────┤\n",
       "│ block6_sepconv1_bn  │ (<span style=\"color: #00d7ff; text-decoration-color: #00d7ff\">None</span>, <span style=\"color: #00af00; text-decoration-color: #00af00\">14</span>, <span style=\"color: #00af00; text-decoration-color: #00af00\">14</span>,    │      <span style=\"color: #00af00; text-decoration-color: #00af00\">2,912</span> │ block6_sepconv1[<span style=\"color: #00af00; text-decoration-color: #00af00\">…</span> │\n",
       "│ (<span style=\"color: #0087ff; text-decoration-color: #0087ff\">BatchNormalizatio…</span> │ <span style=\"color: #00af00; text-decoration-color: #00af00\">728</span>)              │            │                   │\n",
       "├─────────────────────┼───────────────────┼────────────┼───────────────────┤\n",
       "│ block6_sepconv2_act │ (<span style=\"color: #00d7ff; text-decoration-color: #00d7ff\">None</span>, <span style=\"color: #00af00; text-decoration-color: #00af00\">14</span>, <span style=\"color: #00af00; text-decoration-color: #00af00\">14</span>,    │          <span style=\"color: #00af00; text-decoration-color: #00af00\">0</span> │ block6_sepconv1_… │\n",
       "│ (<span style=\"color: #0087ff; text-decoration-color: #0087ff\">Activation</span>)        │ <span style=\"color: #00af00; text-decoration-color: #00af00\">728</span>)              │            │                   │\n",
       "├─────────────────────┼───────────────────┼────────────┼───────────────────┤\n",
       "│ block6_sepconv2     │ (<span style=\"color: #00d7ff; text-decoration-color: #00d7ff\">None</span>, <span style=\"color: #00af00; text-decoration-color: #00af00\">14</span>, <span style=\"color: #00af00; text-decoration-color: #00af00\">14</span>,    │    <span style=\"color: #00af00; text-decoration-color: #00af00\">536,536</span> │ block6_sepconv2_… │\n",
       "│ (<span style=\"color: #0087ff; text-decoration-color: #0087ff\">SeparableConv2D</span>)   │ <span style=\"color: #00af00; text-decoration-color: #00af00\">728</span>)              │            │                   │\n",
       "├─────────────────────┼───────────────────┼────────────┼───────────────────┤\n",
       "│ block6_sepconv2_bn  │ (<span style=\"color: #00d7ff; text-decoration-color: #00d7ff\">None</span>, <span style=\"color: #00af00; text-decoration-color: #00af00\">14</span>, <span style=\"color: #00af00; text-decoration-color: #00af00\">14</span>,    │      <span style=\"color: #00af00; text-decoration-color: #00af00\">2,912</span> │ block6_sepconv2[<span style=\"color: #00af00; text-decoration-color: #00af00\">…</span> │\n",
       "│ (<span style=\"color: #0087ff; text-decoration-color: #0087ff\">BatchNormalizatio…</span> │ <span style=\"color: #00af00; text-decoration-color: #00af00\">728</span>)              │            │                   │\n",
       "├─────────────────────┼───────────────────┼────────────┼───────────────────┤\n",
       "│ block6_sepconv3_act │ (<span style=\"color: #00d7ff; text-decoration-color: #00d7ff\">None</span>, <span style=\"color: #00af00; text-decoration-color: #00af00\">14</span>, <span style=\"color: #00af00; text-decoration-color: #00af00\">14</span>,    │          <span style=\"color: #00af00; text-decoration-color: #00af00\">0</span> │ block6_sepconv2_… │\n",
       "│ (<span style=\"color: #0087ff; text-decoration-color: #0087ff\">Activation</span>)        │ <span style=\"color: #00af00; text-decoration-color: #00af00\">728</span>)              │            │                   │\n",
       "├─────────────────────┼───────────────────┼────────────┼───────────────────┤\n",
       "│ block6_sepconv3     │ (<span style=\"color: #00d7ff; text-decoration-color: #00d7ff\">None</span>, <span style=\"color: #00af00; text-decoration-color: #00af00\">14</span>, <span style=\"color: #00af00; text-decoration-color: #00af00\">14</span>,    │    <span style=\"color: #00af00; text-decoration-color: #00af00\">536,536</span> │ block6_sepconv3_… │\n",
       "│ (<span style=\"color: #0087ff; text-decoration-color: #0087ff\">SeparableConv2D</span>)   │ <span style=\"color: #00af00; text-decoration-color: #00af00\">728</span>)              │            │                   │\n",
       "├─────────────────────┼───────────────────┼────────────┼───────────────────┤\n",
       "│ block6_sepconv3_bn  │ (<span style=\"color: #00d7ff; text-decoration-color: #00d7ff\">None</span>, <span style=\"color: #00af00; text-decoration-color: #00af00\">14</span>, <span style=\"color: #00af00; text-decoration-color: #00af00\">14</span>,    │      <span style=\"color: #00af00; text-decoration-color: #00af00\">2,912</span> │ block6_sepconv3[<span style=\"color: #00af00; text-decoration-color: #00af00\">…</span> │\n",
       "│ (<span style=\"color: #0087ff; text-decoration-color: #0087ff\">BatchNormalizatio…</span> │ <span style=\"color: #00af00; text-decoration-color: #00af00\">728</span>)              │            │                   │\n",
       "├─────────────────────┼───────────────────┼────────────┼───────────────────┤\n",
       "│ add_4 (<span style=\"color: #0087ff; text-decoration-color: #0087ff\">Add</span>)         │ (<span style=\"color: #00d7ff; text-decoration-color: #00d7ff\">None</span>, <span style=\"color: #00af00; text-decoration-color: #00af00\">14</span>, <span style=\"color: #00af00; text-decoration-color: #00af00\">14</span>,    │          <span style=\"color: #00af00; text-decoration-color: #00af00\">0</span> │ block6_sepconv3_… │\n",
       "│                     │ <span style=\"color: #00af00; text-decoration-color: #00af00\">728</span>)              │            │ add_3[<span style=\"color: #00af00; text-decoration-color: #00af00\">0</span>][<span style=\"color: #00af00; text-decoration-color: #00af00\">0</span>]       │\n",
       "├─────────────────────┼───────────────────┼────────────┼───────────────────┤\n",
       "│ block7_sepconv1_act │ (<span style=\"color: #00d7ff; text-decoration-color: #00d7ff\">None</span>, <span style=\"color: #00af00; text-decoration-color: #00af00\">14</span>, <span style=\"color: #00af00; text-decoration-color: #00af00\">14</span>,    │          <span style=\"color: #00af00; text-decoration-color: #00af00\">0</span> │ add_4[<span style=\"color: #00af00; text-decoration-color: #00af00\">0</span>][<span style=\"color: #00af00; text-decoration-color: #00af00\">0</span>]       │\n",
       "│ (<span style=\"color: #0087ff; text-decoration-color: #0087ff\">Activation</span>)        │ <span style=\"color: #00af00; text-decoration-color: #00af00\">728</span>)              │            │                   │\n",
       "├─────────────────────┼───────────────────┼────────────┼───────────────────┤\n",
       "│ block7_sepconv1     │ (<span style=\"color: #00d7ff; text-decoration-color: #00d7ff\">None</span>, <span style=\"color: #00af00; text-decoration-color: #00af00\">14</span>, <span style=\"color: #00af00; text-decoration-color: #00af00\">14</span>,    │    <span style=\"color: #00af00; text-decoration-color: #00af00\">536,536</span> │ block7_sepconv1_… │\n",
       "│ (<span style=\"color: #0087ff; text-decoration-color: #0087ff\">SeparableConv2D</span>)   │ <span style=\"color: #00af00; text-decoration-color: #00af00\">728</span>)              │            │                   │\n",
       "├─────────────────────┼───────────────────┼────────────┼───────────────────┤\n",
       "│ block7_sepconv1_bn  │ (<span style=\"color: #00d7ff; text-decoration-color: #00d7ff\">None</span>, <span style=\"color: #00af00; text-decoration-color: #00af00\">14</span>, <span style=\"color: #00af00; text-decoration-color: #00af00\">14</span>,    │      <span style=\"color: #00af00; text-decoration-color: #00af00\">2,912</span> │ block7_sepconv1[<span style=\"color: #00af00; text-decoration-color: #00af00\">…</span> │\n",
       "│ (<span style=\"color: #0087ff; text-decoration-color: #0087ff\">BatchNormalizatio…</span> │ <span style=\"color: #00af00; text-decoration-color: #00af00\">728</span>)              │            │                   │\n",
       "├─────────────────────┼───────────────────┼────────────┼───────────────────┤\n",
       "│ block7_sepconv2_act │ (<span style=\"color: #00d7ff; text-decoration-color: #00d7ff\">None</span>, <span style=\"color: #00af00; text-decoration-color: #00af00\">14</span>, <span style=\"color: #00af00; text-decoration-color: #00af00\">14</span>,    │          <span style=\"color: #00af00; text-decoration-color: #00af00\">0</span> │ block7_sepconv1_… │\n",
       "│ (<span style=\"color: #0087ff; text-decoration-color: #0087ff\">Activation</span>)        │ <span style=\"color: #00af00; text-decoration-color: #00af00\">728</span>)              │            │                   │\n",
       "├─────────────────────┼───────────────────┼────────────┼───────────────────┤\n",
       "│ block7_sepconv2     │ (<span style=\"color: #00d7ff; text-decoration-color: #00d7ff\">None</span>, <span style=\"color: #00af00; text-decoration-color: #00af00\">14</span>, <span style=\"color: #00af00; text-decoration-color: #00af00\">14</span>,    │    <span style=\"color: #00af00; text-decoration-color: #00af00\">536,536</span> │ block7_sepconv2_… │\n",
       "│ (<span style=\"color: #0087ff; text-decoration-color: #0087ff\">SeparableConv2D</span>)   │ <span style=\"color: #00af00; text-decoration-color: #00af00\">728</span>)              │            │                   │\n",
       "├─────────────────────┼───────────────────┼────────────┼───────────────────┤\n",
       "│ block7_sepconv2_bn  │ (<span style=\"color: #00d7ff; text-decoration-color: #00d7ff\">None</span>, <span style=\"color: #00af00; text-decoration-color: #00af00\">14</span>, <span style=\"color: #00af00; text-decoration-color: #00af00\">14</span>,    │      <span style=\"color: #00af00; text-decoration-color: #00af00\">2,912</span> │ block7_sepconv2[<span style=\"color: #00af00; text-decoration-color: #00af00\">…</span> │\n",
       "│ (<span style=\"color: #0087ff; text-decoration-color: #0087ff\">BatchNormalizatio…</span> │ <span style=\"color: #00af00; text-decoration-color: #00af00\">728</span>)              │            │                   │\n",
       "├─────────────────────┼───────────────────┼────────────┼───────────────────┤\n",
       "│ block7_sepconv3_act │ (<span style=\"color: #00d7ff; text-decoration-color: #00d7ff\">None</span>, <span style=\"color: #00af00; text-decoration-color: #00af00\">14</span>, <span style=\"color: #00af00; text-decoration-color: #00af00\">14</span>,    │          <span style=\"color: #00af00; text-decoration-color: #00af00\">0</span> │ block7_sepconv2_… │\n",
       "│ (<span style=\"color: #0087ff; text-decoration-color: #0087ff\">Activation</span>)        │ <span style=\"color: #00af00; text-decoration-color: #00af00\">728</span>)              │            │                   │\n",
       "├─────────────────────┼───────────────────┼────────────┼───────────────────┤\n",
       "│ block7_sepconv3     │ (<span style=\"color: #00d7ff; text-decoration-color: #00d7ff\">None</span>, <span style=\"color: #00af00; text-decoration-color: #00af00\">14</span>, <span style=\"color: #00af00; text-decoration-color: #00af00\">14</span>,    │    <span style=\"color: #00af00; text-decoration-color: #00af00\">536,536</span> │ block7_sepconv3_… │\n",
       "│ (<span style=\"color: #0087ff; text-decoration-color: #0087ff\">SeparableConv2D</span>)   │ <span style=\"color: #00af00; text-decoration-color: #00af00\">728</span>)              │            │                   │\n",
       "├─────────────────────┼───────────────────┼────────────┼───────────────────┤\n",
       "│ block7_sepconv3_bn  │ (<span style=\"color: #00d7ff; text-decoration-color: #00d7ff\">None</span>, <span style=\"color: #00af00; text-decoration-color: #00af00\">14</span>, <span style=\"color: #00af00; text-decoration-color: #00af00\">14</span>,    │      <span style=\"color: #00af00; text-decoration-color: #00af00\">2,912</span> │ block7_sepconv3[<span style=\"color: #00af00; text-decoration-color: #00af00\">…</span> │\n",
       "│ (<span style=\"color: #0087ff; text-decoration-color: #0087ff\">BatchNormalizatio…</span> │ <span style=\"color: #00af00; text-decoration-color: #00af00\">728</span>)              │            │                   │\n",
       "├─────────────────────┼───────────────────┼────────────┼───────────────────┤\n",
       "│ add_5 (<span style=\"color: #0087ff; text-decoration-color: #0087ff\">Add</span>)         │ (<span style=\"color: #00d7ff; text-decoration-color: #00d7ff\">None</span>, <span style=\"color: #00af00; text-decoration-color: #00af00\">14</span>, <span style=\"color: #00af00; text-decoration-color: #00af00\">14</span>,    │          <span style=\"color: #00af00; text-decoration-color: #00af00\">0</span> │ block7_sepconv3_… │\n",
       "│                     │ <span style=\"color: #00af00; text-decoration-color: #00af00\">728</span>)              │            │ add_4[<span style=\"color: #00af00; text-decoration-color: #00af00\">0</span>][<span style=\"color: #00af00; text-decoration-color: #00af00\">0</span>]       │\n",
       "├─────────────────────┼───────────────────┼────────────┼───────────────────┤\n",
       "│ block8_sepconv1_act │ (<span style=\"color: #00d7ff; text-decoration-color: #00d7ff\">None</span>, <span style=\"color: #00af00; text-decoration-color: #00af00\">14</span>, <span style=\"color: #00af00; text-decoration-color: #00af00\">14</span>,    │          <span style=\"color: #00af00; text-decoration-color: #00af00\">0</span> │ add_5[<span style=\"color: #00af00; text-decoration-color: #00af00\">0</span>][<span style=\"color: #00af00; text-decoration-color: #00af00\">0</span>]       │\n",
       "│ (<span style=\"color: #0087ff; text-decoration-color: #0087ff\">Activation</span>)        │ <span style=\"color: #00af00; text-decoration-color: #00af00\">728</span>)              │            │                   │\n",
       "├─────────────────────┼───────────────────┼────────────┼───────────────────┤\n",
       "│ block8_sepconv1     │ (<span style=\"color: #00d7ff; text-decoration-color: #00d7ff\">None</span>, <span style=\"color: #00af00; text-decoration-color: #00af00\">14</span>, <span style=\"color: #00af00; text-decoration-color: #00af00\">14</span>,    │    <span style=\"color: #00af00; text-decoration-color: #00af00\">536,536</span> │ block8_sepconv1_… │\n",
       "│ (<span style=\"color: #0087ff; text-decoration-color: #0087ff\">SeparableConv2D</span>)   │ <span style=\"color: #00af00; text-decoration-color: #00af00\">728</span>)              │            │                   │\n",
       "├─────────────────────┼───────────────────┼────────────┼───────────────────┤\n",
       "│ block8_sepconv1_bn  │ (<span style=\"color: #00d7ff; text-decoration-color: #00d7ff\">None</span>, <span style=\"color: #00af00; text-decoration-color: #00af00\">14</span>, <span style=\"color: #00af00; text-decoration-color: #00af00\">14</span>,    │      <span style=\"color: #00af00; text-decoration-color: #00af00\">2,912</span> │ block8_sepconv1[<span style=\"color: #00af00; text-decoration-color: #00af00\">…</span> │\n",
       "│ (<span style=\"color: #0087ff; text-decoration-color: #0087ff\">BatchNormalizatio…</span> │ <span style=\"color: #00af00; text-decoration-color: #00af00\">728</span>)              │            │                   │\n",
       "├─────────────────────┼───────────────────┼────────────┼───────────────────┤\n",
       "│ block8_sepconv2_act │ (<span style=\"color: #00d7ff; text-decoration-color: #00d7ff\">None</span>, <span style=\"color: #00af00; text-decoration-color: #00af00\">14</span>, <span style=\"color: #00af00; text-decoration-color: #00af00\">14</span>,    │          <span style=\"color: #00af00; text-decoration-color: #00af00\">0</span> │ block8_sepconv1_… │\n",
       "│ (<span style=\"color: #0087ff; text-decoration-color: #0087ff\">Activation</span>)        │ <span style=\"color: #00af00; text-decoration-color: #00af00\">728</span>)              │            │                   │\n",
       "├─────────────────────┼───────────────────┼────────────┼───────────────────┤\n",
       "│ block8_sepconv2     │ (<span style=\"color: #00d7ff; text-decoration-color: #00d7ff\">None</span>, <span style=\"color: #00af00; text-decoration-color: #00af00\">14</span>, <span style=\"color: #00af00; text-decoration-color: #00af00\">14</span>,    │    <span style=\"color: #00af00; text-decoration-color: #00af00\">536,536</span> │ block8_sepconv2_… │\n",
       "│ (<span style=\"color: #0087ff; text-decoration-color: #0087ff\">SeparableConv2D</span>)   │ <span style=\"color: #00af00; text-decoration-color: #00af00\">728</span>)              │            │                   │\n",
       "├─────────────────────┼───────────────────┼────────────┼───────────────────┤\n",
       "│ block8_sepconv2_bn  │ (<span style=\"color: #00d7ff; text-decoration-color: #00d7ff\">None</span>, <span style=\"color: #00af00; text-decoration-color: #00af00\">14</span>, <span style=\"color: #00af00; text-decoration-color: #00af00\">14</span>,    │      <span style=\"color: #00af00; text-decoration-color: #00af00\">2,912</span> │ block8_sepconv2[<span style=\"color: #00af00; text-decoration-color: #00af00\">…</span> │\n",
       "│ (<span style=\"color: #0087ff; text-decoration-color: #0087ff\">BatchNormalizatio…</span> │ <span style=\"color: #00af00; text-decoration-color: #00af00\">728</span>)              │            │                   │\n",
       "├─────────────────────┼───────────────────┼────────────┼───────────────────┤\n",
       "│ block8_sepconv3_act │ (<span style=\"color: #00d7ff; text-decoration-color: #00d7ff\">None</span>, <span style=\"color: #00af00; text-decoration-color: #00af00\">14</span>, <span style=\"color: #00af00; text-decoration-color: #00af00\">14</span>,    │          <span style=\"color: #00af00; text-decoration-color: #00af00\">0</span> │ block8_sepconv2_… │\n",
       "│ (<span style=\"color: #0087ff; text-decoration-color: #0087ff\">Activation</span>)        │ <span style=\"color: #00af00; text-decoration-color: #00af00\">728</span>)              │            │                   │\n",
       "├─────────────────────┼───────────────────┼────────────┼───────────────────┤\n",
       "│ block8_sepconv3     │ (<span style=\"color: #00d7ff; text-decoration-color: #00d7ff\">None</span>, <span style=\"color: #00af00; text-decoration-color: #00af00\">14</span>, <span style=\"color: #00af00; text-decoration-color: #00af00\">14</span>,    │    <span style=\"color: #00af00; text-decoration-color: #00af00\">536,536</span> │ block8_sepconv3_… │\n",
       "│ (<span style=\"color: #0087ff; text-decoration-color: #0087ff\">SeparableConv2D</span>)   │ <span style=\"color: #00af00; text-decoration-color: #00af00\">728</span>)              │            │                   │\n",
       "├─────────────────────┼───────────────────┼────────────┼───────────────────┤\n",
       "│ block8_sepconv3_bn  │ (<span style=\"color: #00d7ff; text-decoration-color: #00d7ff\">None</span>, <span style=\"color: #00af00; text-decoration-color: #00af00\">14</span>, <span style=\"color: #00af00; text-decoration-color: #00af00\">14</span>,    │      <span style=\"color: #00af00; text-decoration-color: #00af00\">2,912</span> │ block8_sepconv3[<span style=\"color: #00af00; text-decoration-color: #00af00\">…</span> │\n",
       "│ (<span style=\"color: #0087ff; text-decoration-color: #0087ff\">BatchNormalizatio…</span> │ <span style=\"color: #00af00; text-decoration-color: #00af00\">728</span>)              │            │                   │\n",
       "├─────────────────────┼───────────────────┼────────────┼───────────────────┤\n",
       "│ add_6 (<span style=\"color: #0087ff; text-decoration-color: #0087ff\">Add</span>)         │ (<span style=\"color: #00d7ff; text-decoration-color: #00d7ff\">None</span>, <span style=\"color: #00af00; text-decoration-color: #00af00\">14</span>, <span style=\"color: #00af00; text-decoration-color: #00af00\">14</span>,    │          <span style=\"color: #00af00; text-decoration-color: #00af00\">0</span> │ block8_sepconv3_… │\n",
       "│                     │ <span style=\"color: #00af00; text-decoration-color: #00af00\">728</span>)              │            │ add_5[<span style=\"color: #00af00; text-decoration-color: #00af00\">0</span>][<span style=\"color: #00af00; text-decoration-color: #00af00\">0</span>]       │\n",
       "├─────────────────────┼───────────────────┼────────────┼───────────────────┤\n",
       "│ block9_sepconv1_act │ (<span style=\"color: #00d7ff; text-decoration-color: #00d7ff\">None</span>, <span style=\"color: #00af00; text-decoration-color: #00af00\">14</span>, <span style=\"color: #00af00; text-decoration-color: #00af00\">14</span>,    │          <span style=\"color: #00af00; text-decoration-color: #00af00\">0</span> │ add_6[<span style=\"color: #00af00; text-decoration-color: #00af00\">0</span>][<span style=\"color: #00af00; text-decoration-color: #00af00\">0</span>]       │\n",
       "│ (<span style=\"color: #0087ff; text-decoration-color: #0087ff\">Activation</span>)        │ <span style=\"color: #00af00; text-decoration-color: #00af00\">728</span>)              │            │                   │\n",
       "├─────────────────────┼───────────────────┼────────────┼───────────────────┤\n",
       "│ block9_sepconv1     │ (<span style=\"color: #00d7ff; text-decoration-color: #00d7ff\">None</span>, <span style=\"color: #00af00; text-decoration-color: #00af00\">14</span>, <span style=\"color: #00af00; text-decoration-color: #00af00\">14</span>,    │    <span style=\"color: #00af00; text-decoration-color: #00af00\">536,536</span> │ block9_sepconv1_… │\n",
       "│ (<span style=\"color: #0087ff; text-decoration-color: #0087ff\">SeparableConv2D</span>)   │ <span style=\"color: #00af00; text-decoration-color: #00af00\">728</span>)              │            │                   │\n",
       "├─────────────────────┼───────────────────┼────────────┼───────────────────┤\n",
       "│ block9_sepconv1_bn  │ (<span style=\"color: #00d7ff; text-decoration-color: #00d7ff\">None</span>, <span style=\"color: #00af00; text-decoration-color: #00af00\">14</span>, <span style=\"color: #00af00; text-decoration-color: #00af00\">14</span>,    │      <span style=\"color: #00af00; text-decoration-color: #00af00\">2,912</span> │ block9_sepconv1[<span style=\"color: #00af00; text-decoration-color: #00af00\">…</span> │\n",
       "│ (<span style=\"color: #0087ff; text-decoration-color: #0087ff\">BatchNormalizatio…</span> │ <span style=\"color: #00af00; text-decoration-color: #00af00\">728</span>)              │            │                   │\n",
       "├─────────────────────┼───────────────────┼────────────┼───────────────────┤\n",
       "│ block9_sepconv2_act │ (<span style=\"color: #00d7ff; text-decoration-color: #00d7ff\">None</span>, <span style=\"color: #00af00; text-decoration-color: #00af00\">14</span>, <span style=\"color: #00af00; text-decoration-color: #00af00\">14</span>,    │          <span style=\"color: #00af00; text-decoration-color: #00af00\">0</span> │ block9_sepconv1_… │\n",
       "│ (<span style=\"color: #0087ff; text-decoration-color: #0087ff\">Activation</span>)        │ <span style=\"color: #00af00; text-decoration-color: #00af00\">728</span>)              │            │                   │\n",
       "├─────────────────────┼───────────────────┼────────────┼───────────────────┤\n",
       "│ block9_sepconv2     │ (<span style=\"color: #00d7ff; text-decoration-color: #00d7ff\">None</span>, <span style=\"color: #00af00; text-decoration-color: #00af00\">14</span>, <span style=\"color: #00af00; text-decoration-color: #00af00\">14</span>,    │    <span style=\"color: #00af00; text-decoration-color: #00af00\">536,536</span> │ block9_sepconv2_… │\n",
       "│ (<span style=\"color: #0087ff; text-decoration-color: #0087ff\">SeparableConv2D</span>)   │ <span style=\"color: #00af00; text-decoration-color: #00af00\">728</span>)              │            │                   │\n",
       "├─────────────────────┼───────────────────┼────────────┼───────────────────┤\n",
       "│ block9_sepconv2_bn  │ (<span style=\"color: #00d7ff; text-decoration-color: #00d7ff\">None</span>, <span style=\"color: #00af00; text-decoration-color: #00af00\">14</span>, <span style=\"color: #00af00; text-decoration-color: #00af00\">14</span>,    │      <span style=\"color: #00af00; text-decoration-color: #00af00\">2,912</span> │ block9_sepconv2[<span style=\"color: #00af00; text-decoration-color: #00af00\">…</span> │\n",
       "│ (<span style=\"color: #0087ff; text-decoration-color: #0087ff\">BatchNormalizatio…</span> │ <span style=\"color: #00af00; text-decoration-color: #00af00\">728</span>)              │            │                   │\n",
       "├─────────────────────┼───────────────────┼────────────┼───────────────────┤\n",
       "│ block9_sepconv3_act │ (<span style=\"color: #00d7ff; text-decoration-color: #00d7ff\">None</span>, <span style=\"color: #00af00; text-decoration-color: #00af00\">14</span>, <span style=\"color: #00af00; text-decoration-color: #00af00\">14</span>,    │          <span style=\"color: #00af00; text-decoration-color: #00af00\">0</span> │ block9_sepconv2_… │\n",
       "│ (<span style=\"color: #0087ff; text-decoration-color: #0087ff\">Activation</span>)        │ <span style=\"color: #00af00; text-decoration-color: #00af00\">728</span>)              │            │                   │\n",
       "├─────────────────────┼───────────────────┼────────────┼───────────────────┤\n",
       "│ block9_sepconv3     │ (<span style=\"color: #00d7ff; text-decoration-color: #00d7ff\">None</span>, <span style=\"color: #00af00; text-decoration-color: #00af00\">14</span>, <span style=\"color: #00af00; text-decoration-color: #00af00\">14</span>,    │    <span style=\"color: #00af00; text-decoration-color: #00af00\">536,536</span> │ block9_sepconv3_… │\n",
       "│ (<span style=\"color: #0087ff; text-decoration-color: #0087ff\">SeparableConv2D</span>)   │ <span style=\"color: #00af00; text-decoration-color: #00af00\">728</span>)              │            │                   │\n",
       "├─────────────────────┼───────────────────┼────────────┼───────────────────┤\n",
       "│ block9_sepconv3_bn  │ (<span style=\"color: #00d7ff; text-decoration-color: #00d7ff\">None</span>, <span style=\"color: #00af00; text-decoration-color: #00af00\">14</span>, <span style=\"color: #00af00; text-decoration-color: #00af00\">14</span>,    │      <span style=\"color: #00af00; text-decoration-color: #00af00\">2,912</span> │ block9_sepconv3[<span style=\"color: #00af00; text-decoration-color: #00af00\">…</span> │\n",
       "│ (<span style=\"color: #0087ff; text-decoration-color: #0087ff\">BatchNormalizatio…</span> │ <span style=\"color: #00af00; text-decoration-color: #00af00\">728</span>)              │            │                   │\n",
       "├─────────────────────┼───────────────────┼────────────┼───────────────────┤\n",
       "│ add_7 (<span style=\"color: #0087ff; text-decoration-color: #0087ff\">Add</span>)         │ (<span style=\"color: #00d7ff; text-decoration-color: #00d7ff\">None</span>, <span style=\"color: #00af00; text-decoration-color: #00af00\">14</span>, <span style=\"color: #00af00; text-decoration-color: #00af00\">14</span>,    │          <span style=\"color: #00af00; text-decoration-color: #00af00\">0</span> │ block9_sepconv3_… │\n",
       "│                     │ <span style=\"color: #00af00; text-decoration-color: #00af00\">728</span>)              │            │ add_6[<span style=\"color: #00af00; text-decoration-color: #00af00\">0</span>][<span style=\"color: #00af00; text-decoration-color: #00af00\">0</span>]       │\n",
       "├─────────────────────┼───────────────────┼────────────┼───────────────────┤\n",
       "│ block10_sepconv1_a… │ (<span style=\"color: #00d7ff; text-decoration-color: #00d7ff\">None</span>, <span style=\"color: #00af00; text-decoration-color: #00af00\">14</span>, <span style=\"color: #00af00; text-decoration-color: #00af00\">14</span>,    │          <span style=\"color: #00af00; text-decoration-color: #00af00\">0</span> │ add_7[<span style=\"color: #00af00; text-decoration-color: #00af00\">0</span>][<span style=\"color: #00af00; text-decoration-color: #00af00\">0</span>]       │\n",
       "│ (<span style=\"color: #0087ff; text-decoration-color: #0087ff\">Activation</span>)        │ <span style=\"color: #00af00; text-decoration-color: #00af00\">728</span>)              │            │                   │\n",
       "├─────────────────────┼───────────────────┼────────────┼───────────────────┤\n",
       "│ block10_sepconv1    │ (<span style=\"color: #00d7ff; text-decoration-color: #00d7ff\">None</span>, <span style=\"color: #00af00; text-decoration-color: #00af00\">14</span>, <span style=\"color: #00af00; text-decoration-color: #00af00\">14</span>,    │    <span style=\"color: #00af00; text-decoration-color: #00af00\">536,536</span> │ block10_sepconv1… │\n",
       "│ (<span style=\"color: #0087ff; text-decoration-color: #0087ff\">SeparableConv2D</span>)   │ <span style=\"color: #00af00; text-decoration-color: #00af00\">728</span>)              │            │                   │\n",
       "├─────────────────────┼───────────────────┼────────────┼───────────────────┤\n",
       "│ block10_sepconv1_bn │ (<span style=\"color: #00d7ff; text-decoration-color: #00d7ff\">None</span>, <span style=\"color: #00af00; text-decoration-color: #00af00\">14</span>, <span style=\"color: #00af00; text-decoration-color: #00af00\">14</span>,    │      <span style=\"color: #00af00; text-decoration-color: #00af00\">2,912</span> │ block10_sepconv1… │\n",
       "│ (<span style=\"color: #0087ff; text-decoration-color: #0087ff\">BatchNormalizatio…</span> │ <span style=\"color: #00af00; text-decoration-color: #00af00\">728</span>)              │            │                   │\n",
       "├─────────────────────┼───────────────────┼────────────┼───────────────────┤\n",
       "│ block10_sepconv2_a… │ (<span style=\"color: #00d7ff; text-decoration-color: #00d7ff\">None</span>, <span style=\"color: #00af00; text-decoration-color: #00af00\">14</span>, <span style=\"color: #00af00; text-decoration-color: #00af00\">14</span>,    │          <span style=\"color: #00af00; text-decoration-color: #00af00\">0</span> │ block10_sepconv1… │\n",
       "│ (<span style=\"color: #0087ff; text-decoration-color: #0087ff\">Activation</span>)        │ <span style=\"color: #00af00; text-decoration-color: #00af00\">728</span>)              │            │                   │\n",
       "├─────────────────────┼───────────────────┼────────────┼───────────────────┤\n",
       "│ block10_sepconv2    │ (<span style=\"color: #00d7ff; text-decoration-color: #00d7ff\">None</span>, <span style=\"color: #00af00; text-decoration-color: #00af00\">14</span>, <span style=\"color: #00af00; text-decoration-color: #00af00\">14</span>,    │    <span style=\"color: #00af00; text-decoration-color: #00af00\">536,536</span> │ block10_sepconv2… │\n",
       "│ (<span style=\"color: #0087ff; text-decoration-color: #0087ff\">SeparableConv2D</span>)   │ <span style=\"color: #00af00; text-decoration-color: #00af00\">728</span>)              │            │                   │\n",
       "├─────────────────────┼───────────────────┼────────────┼───────────────────┤\n",
       "│ block10_sepconv2_bn │ (<span style=\"color: #00d7ff; text-decoration-color: #00d7ff\">None</span>, <span style=\"color: #00af00; text-decoration-color: #00af00\">14</span>, <span style=\"color: #00af00; text-decoration-color: #00af00\">14</span>,    │      <span style=\"color: #00af00; text-decoration-color: #00af00\">2,912</span> │ block10_sepconv2… │\n",
       "│ (<span style=\"color: #0087ff; text-decoration-color: #0087ff\">BatchNormalizatio…</span> │ <span style=\"color: #00af00; text-decoration-color: #00af00\">728</span>)              │            │                   │\n",
       "├─────────────────────┼───────────────────┼────────────┼───────────────────┤\n",
       "│ block10_sepconv3_a… │ (<span style=\"color: #00d7ff; text-decoration-color: #00d7ff\">None</span>, <span style=\"color: #00af00; text-decoration-color: #00af00\">14</span>, <span style=\"color: #00af00; text-decoration-color: #00af00\">14</span>,    │          <span style=\"color: #00af00; text-decoration-color: #00af00\">0</span> │ block10_sepconv2… │\n",
       "│ (<span style=\"color: #0087ff; text-decoration-color: #0087ff\">Activation</span>)        │ <span style=\"color: #00af00; text-decoration-color: #00af00\">728</span>)              │            │                   │\n",
       "├─────────────────────┼───────────────────┼────────────┼───────────────────┤\n",
       "│ block10_sepconv3    │ (<span style=\"color: #00d7ff; text-decoration-color: #00d7ff\">None</span>, <span style=\"color: #00af00; text-decoration-color: #00af00\">14</span>, <span style=\"color: #00af00; text-decoration-color: #00af00\">14</span>,    │    <span style=\"color: #00af00; text-decoration-color: #00af00\">536,536</span> │ block10_sepconv3… │\n",
       "│ (<span style=\"color: #0087ff; text-decoration-color: #0087ff\">SeparableConv2D</span>)   │ <span style=\"color: #00af00; text-decoration-color: #00af00\">728</span>)              │            │                   │\n",
       "├─────────────────────┼───────────────────┼────────────┼───────────────────┤\n",
       "│ block10_sepconv3_bn │ (<span style=\"color: #00d7ff; text-decoration-color: #00d7ff\">None</span>, <span style=\"color: #00af00; text-decoration-color: #00af00\">14</span>, <span style=\"color: #00af00; text-decoration-color: #00af00\">14</span>,    │      <span style=\"color: #00af00; text-decoration-color: #00af00\">2,912</span> │ block10_sepconv3… │\n",
       "│ (<span style=\"color: #0087ff; text-decoration-color: #0087ff\">BatchNormalizatio…</span> │ <span style=\"color: #00af00; text-decoration-color: #00af00\">728</span>)              │            │                   │\n",
       "├─────────────────────┼───────────────────┼────────────┼───────────────────┤\n",
       "│ add_8 (<span style=\"color: #0087ff; text-decoration-color: #0087ff\">Add</span>)         │ (<span style=\"color: #00d7ff; text-decoration-color: #00d7ff\">None</span>, <span style=\"color: #00af00; text-decoration-color: #00af00\">14</span>, <span style=\"color: #00af00; text-decoration-color: #00af00\">14</span>,    │          <span style=\"color: #00af00; text-decoration-color: #00af00\">0</span> │ block10_sepconv3… │\n",
       "│                     │ <span style=\"color: #00af00; text-decoration-color: #00af00\">728</span>)              │            │ add_7[<span style=\"color: #00af00; text-decoration-color: #00af00\">0</span>][<span style=\"color: #00af00; text-decoration-color: #00af00\">0</span>]       │\n",
       "├─────────────────────┼───────────────────┼────────────┼───────────────────┤\n",
       "│ block11_sepconv1_a… │ (<span style=\"color: #00d7ff; text-decoration-color: #00d7ff\">None</span>, <span style=\"color: #00af00; text-decoration-color: #00af00\">14</span>, <span style=\"color: #00af00; text-decoration-color: #00af00\">14</span>,    │          <span style=\"color: #00af00; text-decoration-color: #00af00\">0</span> │ add_8[<span style=\"color: #00af00; text-decoration-color: #00af00\">0</span>][<span style=\"color: #00af00; text-decoration-color: #00af00\">0</span>]       │\n",
       "│ (<span style=\"color: #0087ff; text-decoration-color: #0087ff\">Activation</span>)        │ <span style=\"color: #00af00; text-decoration-color: #00af00\">728</span>)              │            │                   │\n",
       "├─────────────────────┼───────────────────┼────────────┼───────────────────┤\n",
       "│ block11_sepconv1    │ (<span style=\"color: #00d7ff; text-decoration-color: #00d7ff\">None</span>, <span style=\"color: #00af00; text-decoration-color: #00af00\">14</span>, <span style=\"color: #00af00; text-decoration-color: #00af00\">14</span>,    │    <span style=\"color: #00af00; text-decoration-color: #00af00\">536,536</span> │ block11_sepconv1… │\n",
       "│ (<span style=\"color: #0087ff; text-decoration-color: #0087ff\">SeparableConv2D</span>)   │ <span style=\"color: #00af00; text-decoration-color: #00af00\">728</span>)              │            │                   │\n",
       "├─────────────────────┼───────────────────┼────────────┼───────────────────┤\n",
       "│ block11_sepconv1_bn │ (<span style=\"color: #00d7ff; text-decoration-color: #00d7ff\">None</span>, <span style=\"color: #00af00; text-decoration-color: #00af00\">14</span>, <span style=\"color: #00af00; text-decoration-color: #00af00\">14</span>,    │      <span style=\"color: #00af00; text-decoration-color: #00af00\">2,912</span> │ block11_sepconv1… │\n",
       "│ (<span style=\"color: #0087ff; text-decoration-color: #0087ff\">BatchNormalizatio…</span> │ <span style=\"color: #00af00; text-decoration-color: #00af00\">728</span>)              │            │                   │\n",
       "├─────────────────────┼───────────────────┼────────────┼───────────────────┤\n",
       "│ block11_sepconv2_a… │ (<span style=\"color: #00d7ff; text-decoration-color: #00d7ff\">None</span>, <span style=\"color: #00af00; text-decoration-color: #00af00\">14</span>, <span style=\"color: #00af00; text-decoration-color: #00af00\">14</span>,    │          <span style=\"color: #00af00; text-decoration-color: #00af00\">0</span> │ block11_sepconv1… │\n",
       "│ (<span style=\"color: #0087ff; text-decoration-color: #0087ff\">Activation</span>)        │ <span style=\"color: #00af00; text-decoration-color: #00af00\">728</span>)              │            │                   │\n",
       "├─────────────────────┼───────────────────┼────────────┼───────────────────┤\n",
       "│ block11_sepconv2    │ (<span style=\"color: #00d7ff; text-decoration-color: #00d7ff\">None</span>, <span style=\"color: #00af00; text-decoration-color: #00af00\">14</span>, <span style=\"color: #00af00; text-decoration-color: #00af00\">14</span>,    │    <span style=\"color: #00af00; text-decoration-color: #00af00\">536,536</span> │ block11_sepconv2… │\n",
       "│ (<span style=\"color: #0087ff; text-decoration-color: #0087ff\">SeparableConv2D</span>)   │ <span style=\"color: #00af00; text-decoration-color: #00af00\">728</span>)              │            │                   │\n",
       "├─────────────────────┼───────────────────┼────────────┼───────────────────┤\n",
       "│ block11_sepconv2_bn │ (<span style=\"color: #00d7ff; text-decoration-color: #00d7ff\">None</span>, <span style=\"color: #00af00; text-decoration-color: #00af00\">14</span>, <span style=\"color: #00af00; text-decoration-color: #00af00\">14</span>,    │      <span style=\"color: #00af00; text-decoration-color: #00af00\">2,912</span> │ block11_sepconv2… │\n",
       "│ (<span style=\"color: #0087ff; text-decoration-color: #0087ff\">BatchNormalizatio…</span> │ <span style=\"color: #00af00; text-decoration-color: #00af00\">728</span>)              │            │                   │\n",
       "├─────────────────────┼───────────────────┼────────────┼───────────────────┤\n",
       "│ block11_sepconv3_a… │ (<span style=\"color: #00d7ff; text-decoration-color: #00d7ff\">None</span>, <span style=\"color: #00af00; text-decoration-color: #00af00\">14</span>, <span style=\"color: #00af00; text-decoration-color: #00af00\">14</span>,    │          <span style=\"color: #00af00; text-decoration-color: #00af00\">0</span> │ block11_sepconv2… │\n",
       "│ (<span style=\"color: #0087ff; text-decoration-color: #0087ff\">Activation</span>)        │ <span style=\"color: #00af00; text-decoration-color: #00af00\">728</span>)              │            │                   │\n",
       "├─────────────────────┼───────────────────┼────────────┼───────────────────┤\n",
       "│ block11_sepconv3    │ (<span style=\"color: #00d7ff; text-decoration-color: #00d7ff\">None</span>, <span style=\"color: #00af00; text-decoration-color: #00af00\">14</span>, <span style=\"color: #00af00; text-decoration-color: #00af00\">14</span>,    │    <span style=\"color: #00af00; text-decoration-color: #00af00\">536,536</span> │ block11_sepconv3… │\n",
       "│ (<span style=\"color: #0087ff; text-decoration-color: #0087ff\">SeparableConv2D</span>)   │ <span style=\"color: #00af00; text-decoration-color: #00af00\">728</span>)              │            │                   │\n",
       "├─────────────────────┼───────────────────┼────────────┼───────────────────┤\n",
       "│ block11_sepconv3_bn │ (<span style=\"color: #00d7ff; text-decoration-color: #00d7ff\">None</span>, <span style=\"color: #00af00; text-decoration-color: #00af00\">14</span>, <span style=\"color: #00af00; text-decoration-color: #00af00\">14</span>,    │      <span style=\"color: #00af00; text-decoration-color: #00af00\">2,912</span> │ block11_sepconv3… │\n",
       "│ (<span style=\"color: #0087ff; text-decoration-color: #0087ff\">BatchNormalizatio…</span> │ <span style=\"color: #00af00; text-decoration-color: #00af00\">728</span>)              │            │                   │\n",
       "├─────────────────────┼───────────────────┼────────────┼───────────────────┤\n",
       "│ add_9 (<span style=\"color: #0087ff; text-decoration-color: #0087ff\">Add</span>)         │ (<span style=\"color: #00d7ff; text-decoration-color: #00d7ff\">None</span>, <span style=\"color: #00af00; text-decoration-color: #00af00\">14</span>, <span style=\"color: #00af00; text-decoration-color: #00af00\">14</span>,    │          <span style=\"color: #00af00; text-decoration-color: #00af00\">0</span> │ block11_sepconv3… │\n",
       "│                     │ <span style=\"color: #00af00; text-decoration-color: #00af00\">728</span>)              │            │ add_8[<span style=\"color: #00af00; text-decoration-color: #00af00\">0</span>][<span style=\"color: #00af00; text-decoration-color: #00af00\">0</span>]       │\n",
       "├─────────────────────┼───────────────────┼────────────┼───────────────────┤\n",
       "│ block12_sepconv1_a… │ (<span style=\"color: #00d7ff; text-decoration-color: #00d7ff\">None</span>, <span style=\"color: #00af00; text-decoration-color: #00af00\">14</span>, <span style=\"color: #00af00; text-decoration-color: #00af00\">14</span>,    │          <span style=\"color: #00af00; text-decoration-color: #00af00\">0</span> │ add_9[<span style=\"color: #00af00; text-decoration-color: #00af00\">0</span>][<span style=\"color: #00af00; text-decoration-color: #00af00\">0</span>]       │\n",
       "│ (<span style=\"color: #0087ff; text-decoration-color: #0087ff\">Activation</span>)        │ <span style=\"color: #00af00; text-decoration-color: #00af00\">728</span>)              │            │                   │\n",
       "├─────────────────────┼───────────────────┼────────────┼───────────────────┤\n",
       "│ block12_sepconv1    │ (<span style=\"color: #00d7ff; text-decoration-color: #00d7ff\">None</span>, <span style=\"color: #00af00; text-decoration-color: #00af00\">14</span>, <span style=\"color: #00af00; text-decoration-color: #00af00\">14</span>,    │    <span style=\"color: #00af00; text-decoration-color: #00af00\">536,536</span> │ block12_sepconv1… │\n",
       "│ (<span style=\"color: #0087ff; text-decoration-color: #0087ff\">SeparableConv2D</span>)   │ <span style=\"color: #00af00; text-decoration-color: #00af00\">728</span>)              │            │                   │\n",
       "├─────────────────────┼───────────────────┼────────────┼───────────────────┤\n",
       "│ block12_sepconv1_bn │ (<span style=\"color: #00d7ff; text-decoration-color: #00d7ff\">None</span>, <span style=\"color: #00af00; text-decoration-color: #00af00\">14</span>, <span style=\"color: #00af00; text-decoration-color: #00af00\">14</span>,    │      <span style=\"color: #00af00; text-decoration-color: #00af00\">2,912</span> │ block12_sepconv1… │\n",
       "│ (<span style=\"color: #0087ff; text-decoration-color: #0087ff\">BatchNormalizatio…</span> │ <span style=\"color: #00af00; text-decoration-color: #00af00\">728</span>)              │            │                   │\n",
       "├─────────────────────┼───────────────────┼────────────┼───────────────────┤\n",
       "│ block12_sepconv2_a… │ (<span style=\"color: #00d7ff; text-decoration-color: #00d7ff\">None</span>, <span style=\"color: #00af00; text-decoration-color: #00af00\">14</span>, <span style=\"color: #00af00; text-decoration-color: #00af00\">14</span>,    │          <span style=\"color: #00af00; text-decoration-color: #00af00\">0</span> │ block12_sepconv1… │\n",
       "│ (<span style=\"color: #0087ff; text-decoration-color: #0087ff\">Activation</span>)        │ <span style=\"color: #00af00; text-decoration-color: #00af00\">728</span>)              │            │                   │\n",
       "├─────────────────────┼───────────────────┼────────────┼───────────────────┤\n",
       "│ block12_sepconv2    │ (<span style=\"color: #00d7ff; text-decoration-color: #00d7ff\">None</span>, <span style=\"color: #00af00; text-decoration-color: #00af00\">14</span>, <span style=\"color: #00af00; text-decoration-color: #00af00\">14</span>,    │    <span style=\"color: #00af00; text-decoration-color: #00af00\">536,536</span> │ block12_sepconv2… │\n",
       "│ (<span style=\"color: #0087ff; text-decoration-color: #0087ff\">SeparableConv2D</span>)   │ <span style=\"color: #00af00; text-decoration-color: #00af00\">728</span>)              │            │                   │\n",
       "├─────────────────────┼───────────────────┼────────────┼───────────────────┤\n",
       "│ block12_sepconv2_bn │ (<span style=\"color: #00d7ff; text-decoration-color: #00d7ff\">None</span>, <span style=\"color: #00af00; text-decoration-color: #00af00\">14</span>, <span style=\"color: #00af00; text-decoration-color: #00af00\">14</span>,    │      <span style=\"color: #00af00; text-decoration-color: #00af00\">2,912</span> │ block12_sepconv2… │\n",
       "│ (<span style=\"color: #0087ff; text-decoration-color: #0087ff\">BatchNormalizatio…</span> │ <span style=\"color: #00af00; text-decoration-color: #00af00\">728</span>)              │            │                   │\n",
       "├─────────────────────┼───────────────────┼────────────┼───────────────────┤\n",
       "│ block12_sepconv3_a… │ (<span style=\"color: #00d7ff; text-decoration-color: #00d7ff\">None</span>, <span style=\"color: #00af00; text-decoration-color: #00af00\">14</span>, <span style=\"color: #00af00; text-decoration-color: #00af00\">14</span>,    │          <span style=\"color: #00af00; text-decoration-color: #00af00\">0</span> │ block12_sepconv2… │\n",
       "│ (<span style=\"color: #0087ff; text-decoration-color: #0087ff\">Activation</span>)        │ <span style=\"color: #00af00; text-decoration-color: #00af00\">728</span>)              │            │                   │\n",
       "├─────────────────────┼───────────────────┼────────────┼───────────────────┤\n",
       "│ block12_sepconv3    │ (<span style=\"color: #00d7ff; text-decoration-color: #00d7ff\">None</span>, <span style=\"color: #00af00; text-decoration-color: #00af00\">14</span>, <span style=\"color: #00af00; text-decoration-color: #00af00\">14</span>,    │    <span style=\"color: #00af00; text-decoration-color: #00af00\">536,536</span> │ block12_sepconv3… │\n",
       "│ (<span style=\"color: #0087ff; text-decoration-color: #0087ff\">SeparableConv2D</span>)   │ <span style=\"color: #00af00; text-decoration-color: #00af00\">728</span>)              │            │                   │\n",
       "├─────────────────────┼───────────────────┼────────────┼───────────────────┤\n",
       "│ block12_sepconv3_bn │ (<span style=\"color: #00d7ff; text-decoration-color: #00d7ff\">None</span>, <span style=\"color: #00af00; text-decoration-color: #00af00\">14</span>, <span style=\"color: #00af00; text-decoration-color: #00af00\">14</span>,    │      <span style=\"color: #00af00; text-decoration-color: #00af00\">2,912</span> │ block12_sepconv3… │\n",
       "│ (<span style=\"color: #0087ff; text-decoration-color: #0087ff\">BatchNormalizatio…</span> │ <span style=\"color: #00af00; text-decoration-color: #00af00\">728</span>)              │            │                   │\n",
       "├─────────────────────┼───────────────────┼────────────┼───────────────────┤\n",
       "│ add_10 (<span style=\"color: #0087ff; text-decoration-color: #0087ff\">Add</span>)        │ (<span style=\"color: #00d7ff; text-decoration-color: #00d7ff\">None</span>, <span style=\"color: #00af00; text-decoration-color: #00af00\">14</span>, <span style=\"color: #00af00; text-decoration-color: #00af00\">14</span>,    │          <span style=\"color: #00af00; text-decoration-color: #00af00\">0</span> │ block12_sepconv3… │\n",
       "│                     │ <span style=\"color: #00af00; text-decoration-color: #00af00\">728</span>)              │            │ add_9[<span style=\"color: #00af00; text-decoration-color: #00af00\">0</span>][<span style=\"color: #00af00; text-decoration-color: #00af00\">0</span>]       │\n",
       "├─────────────────────┼───────────────────┼────────────┼───────────────────┤\n",
       "│ block13_sepconv1_a… │ (<span style=\"color: #00d7ff; text-decoration-color: #00d7ff\">None</span>, <span style=\"color: #00af00; text-decoration-color: #00af00\">14</span>, <span style=\"color: #00af00; text-decoration-color: #00af00\">14</span>,    │          <span style=\"color: #00af00; text-decoration-color: #00af00\">0</span> │ add_10[<span style=\"color: #00af00; text-decoration-color: #00af00\">0</span>][<span style=\"color: #00af00; text-decoration-color: #00af00\">0</span>]      │\n",
       "│ (<span style=\"color: #0087ff; text-decoration-color: #0087ff\">Activation</span>)        │ <span style=\"color: #00af00; text-decoration-color: #00af00\">728</span>)              │            │                   │\n",
       "├─────────────────────┼───────────────────┼────────────┼───────────────────┤\n",
       "│ block13_sepconv1    │ (<span style=\"color: #00d7ff; text-decoration-color: #00d7ff\">None</span>, <span style=\"color: #00af00; text-decoration-color: #00af00\">14</span>, <span style=\"color: #00af00; text-decoration-color: #00af00\">14</span>,    │    <span style=\"color: #00af00; text-decoration-color: #00af00\">536,536</span> │ block13_sepconv1… │\n",
       "│ (<span style=\"color: #0087ff; text-decoration-color: #0087ff\">SeparableConv2D</span>)   │ <span style=\"color: #00af00; text-decoration-color: #00af00\">728</span>)              │            │                   │\n",
       "├─────────────────────┼───────────────────┼────────────┼───────────────────┤\n",
       "│ block13_sepconv1_bn │ (<span style=\"color: #00d7ff; text-decoration-color: #00d7ff\">None</span>, <span style=\"color: #00af00; text-decoration-color: #00af00\">14</span>, <span style=\"color: #00af00; text-decoration-color: #00af00\">14</span>,    │      <span style=\"color: #00af00; text-decoration-color: #00af00\">2,912</span> │ block13_sepconv1… │\n",
       "│ (<span style=\"color: #0087ff; text-decoration-color: #0087ff\">BatchNormalizatio…</span> │ <span style=\"color: #00af00; text-decoration-color: #00af00\">728</span>)              │            │                   │\n",
       "├─────────────────────┼───────────────────┼────────────┼───────────────────┤\n",
       "│ block13_sepconv2_a… │ (<span style=\"color: #00d7ff; text-decoration-color: #00d7ff\">None</span>, <span style=\"color: #00af00; text-decoration-color: #00af00\">14</span>, <span style=\"color: #00af00; text-decoration-color: #00af00\">14</span>,    │          <span style=\"color: #00af00; text-decoration-color: #00af00\">0</span> │ block13_sepconv1… │\n",
       "│ (<span style=\"color: #0087ff; text-decoration-color: #0087ff\">Activation</span>)        │ <span style=\"color: #00af00; text-decoration-color: #00af00\">728</span>)              │            │                   │\n",
       "├─────────────────────┼───────────────────┼────────────┼───────────────────┤\n",
       "│ block13_sepconv2    │ (<span style=\"color: #00d7ff; text-decoration-color: #00d7ff\">None</span>, <span style=\"color: #00af00; text-decoration-color: #00af00\">14</span>, <span style=\"color: #00af00; text-decoration-color: #00af00\">14</span>,    │    <span style=\"color: #00af00; text-decoration-color: #00af00\">752,024</span> │ block13_sepconv2… │\n",
       "│ (<span style=\"color: #0087ff; text-decoration-color: #0087ff\">SeparableConv2D</span>)   │ <span style=\"color: #00af00; text-decoration-color: #00af00\">1024</span>)             │            │                   │\n",
       "├─────────────────────┼───────────────────┼────────────┼───────────────────┤\n",
       "│ block13_sepconv2_bn │ (<span style=\"color: #00d7ff; text-decoration-color: #00d7ff\">None</span>, <span style=\"color: #00af00; text-decoration-color: #00af00\">14</span>, <span style=\"color: #00af00; text-decoration-color: #00af00\">14</span>,    │      <span style=\"color: #00af00; text-decoration-color: #00af00\">4,096</span> │ block13_sepconv2… │\n",
       "│ (<span style=\"color: #0087ff; text-decoration-color: #0087ff\">BatchNormalizatio…</span> │ <span style=\"color: #00af00; text-decoration-color: #00af00\">1024</span>)             │            │                   │\n",
       "├─────────────────────┼───────────────────┼────────────┼───────────────────┤\n",
       "│ conv2d_6 (<span style=\"color: #0087ff; text-decoration-color: #0087ff\">Conv2D</span>)   │ (<span style=\"color: #00d7ff; text-decoration-color: #00d7ff\">None</span>, <span style=\"color: #00af00; text-decoration-color: #00af00\">7</span>, <span style=\"color: #00af00; text-decoration-color: #00af00\">7</span>,      │    <span style=\"color: #00af00; text-decoration-color: #00af00\">745,472</span> │ add_10[<span style=\"color: #00af00; text-decoration-color: #00af00\">0</span>][<span style=\"color: #00af00; text-decoration-color: #00af00\">0</span>]      │\n",
       "│                     │ <span style=\"color: #00af00; text-decoration-color: #00af00\">1024</span>)             │            │                   │\n",
       "├─────────────────────┼───────────────────┼────────────┼───────────────────┤\n",
       "│ block13_pool        │ (<span style=\"color: #00d7ff; text-decoration-color: #00d7ff\">None</span>, <span style=\"color: #00af00; text-decoration-color: #00af00\">7</span>, <span style=\"color: #00af00; text-decoration-color: #00af00\">7</span>,      │          <span style=\"color: #00af00; text-decoration-color: #00af00\">0</span> │ block13_sepconv2… │\n",
       "│ (<span style=\"color: #0087ff; text-decoration-color: #0087ff\">MaxPooling2D</span>)      │ <span style=\"color: #00af00; text-decoration-color: #00af00\">1024</span>)             │            │                   │\n",
       "├─────────────────────┼───────────────────┼────────────┼───────────────────┤\n",
       "│ batch_normalizatio… │ (<span style=\"color: #00d7ff; text-decoration-color: #00d7ff\">None</span>, <span style=\"color: #00af00; text-decoration-color: #00af00\">7</span>, <span style=\"color: #00af00; text-decoration-color: #00af00\">7</span>,      │      <span style=\"color: #00af00; text-decoration-color: #00af00\">4,096</span> │ conv2d_6[<span style=\"color: #00af00; text-decoration-color: #00af00\">0</span>][<span style=\"color: #00af00; text-decoration-color: #00af00\">0</span>]    │\n",
       "│ (<span style=\"color: #0087ff; text-decoration-color: #0087ff\">BatchNormalizatio…</span> │ <span style=\"color: #00af00; text-decoration-color: #00af00\">1024</span>)             │            │                   │\n",
       "├─────────────────────┼───────────────────┼────────────┼───────────────────┤\n",
       "│ add_11 (<span style=\"color: #0087ff; text-decoration-color: #0087ff\">Add</span>)        │ (<span style=\"color: #00d7ff; text-decoration-color: #00d7ff\">None</span>, <span style=\"color: #00af00; text-decoration-color: #00af00\">7</span>, <span style=\"color: #00af00; text-decoration-color: #00af00\">7</span>,      │          <span style=\"color: #00af00; text-decoration-color: #00af00\">0</span> │ block13_pool[<span style=\"color: #00af00; text-decoration-color: #00af00\">0</span>][<span style=\"color: #00af00; text-decoration-color: #00af00\">…</span> │\n",
       "│                     │ <span style=\"color: #00af00; text-decoration-color: #00af00\">1024</span>)             │            │ batch_normalizat… │\n",
       "├─────────────────────┼───────────────────┼────────────┼───────────────────┤\n",
       "│ block14_sepconv1    │ (<span style=\"color: #00d7ff; text-decoration-color: #00d7ff\">None</span>, <span style=\"color: #00af00; text-decoration-color: #00af00\">7</span>, <span style=\"color: #00af00; text-decoration-color: #00af00\">7</span>,      │  <span style=\"color: #00af00; text-decoration-color: #00af00\">1,582,080</span> │ add_11[<span style=\"color: #00af00; text-decoration-color: #00af00\">0</span>][<span style=\"color: #00af00; text-decoration-color: #00af00\">0</span>]      │\n",
       "│ (<span style=\"color: #0087ff; text-decoration-color: #0087ff\">SeparableConv2D</span>)   │ <span style=\"color: #00af00; text-decoration-color: #00af00\">1536</span>)             │            │                   │\n",
       "├─────────────────────┼───────────────────┼────────────┼───────────────────┤\n",
       "│ block14_sepconv1_bn │ (<span style=\"color: #00d7ff; text-decoration-color: #00d7ff\">None</span>, <span style=\"color: #00af00; text-decoration-color: #00af00\">7</span>, <span style=\"color: #00af00; text-decoration-color: #00af00\">7</span>,      │      <span style=\"color: #00af00; text-decoration-color: #00af00\">6,144</span> │ block14_sepconv1… │\n",
       "│ (<span style=\"color: #0087ff; text-decoration-color: #0087ff\">BatchNormalizatio…</span> │ <span style=\"color: #00af00; text-decoration-color: #00af00\">1536</span>)             │            │                   │\n",
       "├─────────────────────┼───────────────────┼────────────┼───────────────────┤\n",
       "│ block14_sepconv1_a… │ (<span style=\"color: #00d7ff; text-decoration-color: #00d7ff\">None</span>, <span style=\"color: #00af00; text-decoration-color: #00af00\">7</span>, <span style=\"color: #00af00; text-decoration-color: #00af00\">7</span>,      │          <span style=\"color: #00af00; text-decoration-color: #00af00\">0</span> │ block14_sepconv1… │\n",
       "│ (<span style=\"color: #0087ff; text-decoration-color: #0087ff\">Activation</span>)        │ <span style=\"color: #00af00; text-decoration-color: #00af00\">1536</span>)             │            │                   │\n",
       "├─────────────────────┼───────────────────┼────────────┼───────────────────┤\n",
       "│ block14_sepconv2    │ (<span style=\"color: #00d7ff; text-decoration-color: #00d7ff\">None</span>, <span style=\"color: #00af00; text-decoration-color: #00af00\">7</span>, <span style=\"color: #00af00; text-decoration-color: #00af00\">7</span>,      │  <span style=\"color: #00af00; text-decoration-color: #00af00\">3,159,552</span> │ block14_sepconv1… │\n",
       "│ (<span style=\"color: #0087ff; text-decoration-color: #0087ff\">SeparableConv2D</span>)   │ <span style=\"color: #00af00; text-decoration-color: #00af00\">2048</span>)             │            │                   │\n",
       "├─────────────────────┼───────────────────┼────────────┼───────────────────┤\n",
       "│ block14_sepconv2_bn │ (<span style=\"color: #00d7ff; text-decoration-color: #00d7ff\">None</span>, <span style=\"color: #00af00; text-decoration-color: #00af00\">7</span>, <span style=\"color: #00af00; text-decoration-color: #00af00\">7</span>,      │      <span style=\"color: #00af00; text-decoration-color: #00af00\">8,192</span> │ block14_sepconv2… │\n",
       "│ (<span style=\"color: #0087ff; text-decoration-color: #0087ff\">BatchNormalizatio…</span> │ <span style=\"color: #00af00; text-decoration-color: #00af00\">2048</span>)             │            │                   │\n",
       "├─────────────────────┼───────────────────┼────────────┼───────────────────┤\n",
       "│ block14_sepconv2_a… │ (<span style=\"color: #00d7ff; text-decoration-color: #00d7ff\">None</span>, <span style=\"color: #00af00; text-decoration-color: #00af00\">7</span>, <span style=\"color: #00af00; text-decoration-color: #00af00\">7</span>,      │          <span style=\"color: #00af00; text-decoration-color: #00af00\">0</span> │ block14_sepconv2… │\n",
       "│ (<span style=\"color: #0087ff; text-decoration-color: #0087ff\">Activation</span>)        │ <span style=\"color: #00af00; text-decoration-color: #00af00\">2048</span>)             │            │                   │\n",
       "├─────────────────────┼───────────────────┼────────────┼───────────────────┤\n",
       "│ flatten_1 (<span style=\"color: #0087ff; text-decoration-color: #0087ff\">Flatten</span>) │ (<span style=\"color: #00d7ff; text-decoration-color: #00d7ff\">None</span>, <span style=\"color: #00af00; text-decoration-color: #00af00\">100352</span>)    │          <span style=\"color: #00af00; text-decoration-color: #00af00\">0</span> │ block14_sepconv2… │\n",
       "├─────────────────────┼───────────────────┼────────────┼───────────────────┤\n",
       "│ dense_3 (<span style=\"color: #0087ff; text-decoration-color: #0087ff\">Dense</span>)     │ (<span style=\"color: #00d7ff; text-decoration-color: #00d7ff\">None</span>, <span style=\"color: #00af00; text-decoration-color: #00af00\">64</span>)        │  <span style=\"color: #00af00; text-decoration-color: #00af00\">6,422,592</span> │ flatten_1[<span style=\"color: #00af00; text-decoration-color: #00af00\">0</span>][<span style=\"color: #00af00; text-decoration-color: #00af00\">0</span>]   │\n",
       "├─────────────────────┼───────────────────┼────────────┼───────────────────┤\n",
       "│ dropout (<span style=\"color: #0087ff; text-decoration-color: #0087ff\">Dropout</span>)   │ (<span style=\"color: #00d7ff; text-decoration-color: #00d7ff\">None</span>, <span style=\"color: #00af00; text-decoration-color: #00af00\">64</span>)        │          <span style=\"color: #00af00; text-decoration-color: #00af00\">0</span> │ dense_3[<span style=\"color: #00af00; text-decoration-color: #00af00\">0</span>][<span style=\"color: #00af00; text-decoration-color: #00af00\">0</span>]     │\n",
       "├─────────────────────┼───────────────────┼────────────┼───────────────────┤\n",
       "│ dense_4 (<span style=\"color: #0087ff; text-decoration-color: #0087ff\">Dense</span>)     │ (<span style=\"color: #00d7ff; text-decoration-color: #00d7ff\">None</span>, <span style=\"color: #00af00; text-decoration-color: #00af00\">64</span>)        │      <span style=\"color: #00af00; text-decoration-color: #00af00\">4,160</span> │ dropout[<span style=\"color: #00af00; text-decoration-color: #00af00\">0</span>][<span style=\"color: #00af00; text-decoration-color: #00af00\">0</span>]     │\n",
       "├─────────────────────┼───────────────────┼────────────┼───────────────────┤\n",
       "│ dense_5 (<span style=\"color: #0087ff; text-decoration-color: #0087ff\">Dense</span>)     │ (<span style=\"color: #00d7ff; text-decoration-color: #00d7ff\">None</span>, <span style=\"color: #00af00; text-decoration-color: #00af00\">1</span>)         │         <span style=\"color: #00af00; text-decoration-color: #00af00\">65</span> │ dense_4[<span style=\"color: #00af00; text-decoration-color: #00af00\">0</span>][<span style=\"color: #00af00; text-decoration-color: #00af00\">0</span>]     │\n",
       "└─────────────────────┴───────────────────┴────────────┴───────────────────┘\n",
       "</pre>\n"
      ],
      "text/plain": [
       "┏━━━━━━━━━━━━━━━━━━━━━┳━━━━━━━━━━━━━━━━━━━┳━━━━━━━━━━━━┳━━━━━━━━━━━━━━━━━━━┓\n",
       "┃\u001b[1m \u001b[0m\u001b[1mLayer (type)       \u001b[0m\u001b[1m \u001b[0m┃\u001b[1m \u001b[0m\u001b[1mOutput Shape     \u001b[0m\u001b[1m \u001b[0m┃\u001b[1m \u001b[0m\u001b[1m   Param #\u001b[0m\u001b[1m \u001b[0m┃\u001b[1m \u001b[0m\u001b[1mConnected to     \u001b[0m\u001b[1m \u001b[0m┃\n",
       "┡━━━━━━━━━━━━━━━━━━━━━╇━━━━━━━━━━━━━━━━━━━╇━━━━━━━━━━━━╇━━━━━━━━━━━━━━━━━━━┩\n",
       "│ input_layer_1       │ (\u001b[38;5;45mNone\u001b[0m, \u001b[38;5;34m224\u001b[0m, \u001b[38;5;34m224\u001b[0m,  │          \u001b[38;5;34m0\u001b[0m │ -                 │\n",
       "│ (\u001b[38;5;33mInputLayer\u001b[0m)        │ \u001b[38;5;34m3\u001b[0m)                │            │                   │\n",
       "├─────────────────────┼───────────────────┼────────────┼───────────────────┤\n",
       "│ block1_conv1        │ (\u001b[38;5;45mNone\u001b[0m, \u001b[38;5;34m111\u001b[0m, \u001b[38;5;34m111\u001b[0m,  │        \u001b[38;5;34m864\u001b[0m │ input_layer_1[\u001b[38;5;34m0\u001b[0m]… │\n",
       "│ (\u001b[38;5;33mConv2D\u001b[0m)            │ \u001b[38;5;34m32\u001b[0m)               │            │                   │\n",
       "├─────────────────────┼───────────────────┼────────────┼───────────────────┤\n",
       "│ block1_conv1_bn     │ (\u001b[38;5;45mNone\u001b[0m, \u001b[38;5;34m111\u001b[0m, \u001b[38;5;34m111\u001b[0m,  │        \u001b[38;5;34m128\u001b[0m │ block1_conv1[\u001b[38;5;34m0\u001b[0m][\u001b[38;5;34m…\u001b[0m │\n",
       "│ (\u001b[38;5;33mBatchNormalizatio…\u001b[0m │ \u001b[38;5;34m32\u001b[0m)               │            │                   │\n",
       "├─────────────────────┼───────────────────┼────────────┼───────────────────┤\n",
       "│ block1_conv1_act    │ (\u001b[38;5;45mNone\u001b[0m, \u001b[38;5;34m111\u001b[0m, \u001b[38;5;34m111\u001b[0m,  │          \u001b[38;5;34m0\u001b[0m │ block1_conv1_bn[\u001b[38;5;34m…\u001b[0m │\n",
       "│ (\u001b[38;5;33mActivation\u001b[0m)        │ \u001b[38;5;34m32\u001b[0m)               │            │                   │\n",
       "├─────────────────────┼───────────────────┼────────────┼───────────────────┤\n",
       "│ block1_conv2        │ (\u001b[38;5;45mNone\u001b[0m, \u001b[38;5;34m109\u001b[0m, \u001b[38;5;34m109\u001b[0m,  │     \u001b[38;5;34m18,432\u001b[0m │ block1_conv1_act… │\n",
       "│ (\u001b[38;5;33mConv2D\u001b[0m)            │ \u001b[38;5;34m64\u001b[0m)               │            │                   │\n",
       "├─────────────────────┼───────────────────┼────────────┼───────────────────┤\n",
       "│ block1_conv2_bn     │ (\u001b[38;5;45mNone\u001b[0m, \u001b[38;5;34m109\u001b[0m, \u001b[38;5;34m109\u001b[0m,  │        \u001b[38;5;34m256\u001b[0m │ block1_conv2[\u001b[38;5;34m0\u001b[0m][\u001b[38;5;34m…\u001b[0m │\n",
       "│ (\u001b[38;5;33mBatchNormalizatio…\u001b[0m │ \u001b[38;5;34m64\u001b[0m)               │            │                   │\n",
       "├─────────────────────┼───────────────────┼────────────┼───────────────────┤\n",
       "│ block1_conv2_act    │ (\u001b[38;5;45mNone\u001b[0m, \u001b[38;5;34m109\u001b[0m, \u001b[38;5;34m109\u001b[0m,  │          \u001b[38;5;34m0\u001b[0m │ block1_conv2_bn[\u001b[38;5;34m…\u001b[0m │\n",
       "│ (\u001b[38;5;33mActivation\u001b[0m)        │ \u001b[38;5;34m64\u001b[0m)               │            │                   │\n",
       "├─────────────────────┼───────────────────┼────────────┼───────────────────┤\n",
       "│ block2_sepconv1     │ (\u001b[38;5;45mNone\u001b[0m, \u001b[38;5;34m109\u001b[0m, \u001b[38;5;34m109\u001b[0m,  │      \u001b[38;5;34m8,768\u001b[0m │ block1_conv2_act… │\n",
       "│ (\u001b[38;5;33mSeparableConv2D\u001b[0m)   │ \u001b[38;5;34m128\u001b[0m)              │            │                   │\n",
       "├─────────────────────┼───────────────────┼────────────┼───────────────────┤\n",
       "│ block2_sepconv1_bn  │ (\u001b[38;5;45mNone\u001b[0m, \u001b[38;5;34m109\u001b[0m, \u001b[38;5;34m109\u001b[0m,  │        \u001b[38;5;34m512\u001b[0m │ block2_sepconv1[\u001b[38;5;34m…\u001b[0m │\n",
       "│ (\u001b[38;5;33mBatchNormalizatio…\u001b[0m │ \u001b[38;5;34m128\u001b[0m)              │            │                   │\n",
       "├─────────────────────┼───────────────────┼────────────┼───────────────────┤\n",
       "│ block2_sepconv2_act │ (\u001b[38;5;45mNone\u001b[0m, \u001b[38;5;34m109\u001b[0m, \u001b[38;5;34m109\u001b[0m,  │          \u001b[38;5;34m0\u001b[0m │ block2_sepconv1_… │\n",
       "│ (\u001b[38;5;33mActivation\u001b[0m)        │ \u001b[38;5;34m128\u001b[0m)              │            │                   │\n",
       "├─────────────────────┼───────────────────┼────────────┼───────────────────┤\n",
       "│ block2_sepconv2     │ (\u001b[38;5;45mNone\u001b[0m, \u001b[38;5;34m109\u001b[0m, \u001b[38;5;34m109\u001b[0m,  │     \u001b[38;5;34m17,536\u001b[0m │ block2_sepconv2_… │\n",
       "│ (\u001b[38;5;33mSeparableConv2D\u001b[0m)   │ \u001b[38;5;34m128\u001b[0m)              │            │                   │\n",
       "├─────────────────────┼───────────────────┼────────────┼───────────────────┤\n",
       "│ block2_sepconv2_bn  │ (\u001b[38;5;45mNone\u001b[0m, \u001b[38;5;34m109\u001b[0m, \u001b[38;5;34m109\u001b[0m,  │        \u001b[38;5;34m512\u001b[0m │ block2_sepconv2[\u001b[38;5;34m…\u001b[0m │\n",
       "│ (\u001b[38;5;33mBatchNormalizatio…\u001b[0m │ \u001b[38;5;34m128\u001b[0m)              │            │                   │\n",
       "├─────────────────────┼───────────────────┼────────────┼───────────────────┤\n",
       "│ conv2d_3 (\u001b[38;5;33mConv2D\u001b[0m)   │ (\u001b[38;5;45mNone\u001b[0m, \u001b[38;5;34m55\u001b[0m, \u001b[38;5;34m55\u001b[0m,    │      \u001b[38;5;34m8,192\u001b[0m │ block1_conv2_act… │\n",
       "│                     │ \u001b[38;5;34m128\u001b[0m)              │            │                   │\n",
       "├─────────────────────┼───────────────────┼────────────┼───────────────────┤\n",
       "│ block2_pool         │ (\u001b[38;5;45mNone\u001b[0m, \u001b[38;5;34m55\u001b[0m, \u001b[38;5;34m55\u001b[0m,    │          \u001b[38;5;34m0\u001b[0m │ block2_sepconv2_… │\n",
       "│ (\u001b[38;5;33mMaxPooling2D\u001b[0m)      │ \u001b[38;5;34m128\u001b[0m)              │            │                   │\n",
       "├─────────────────────┼───────────────────┼────────────┼───────────────────┤\n",
       "│ batch_normalization │ (\u001b[38;5;45mNone\u001b[0m, \u001b[38;5;34m55\u001b[0m, \u001b[38;5;34m55\u001b[0m,    │        \u001b[38;5;34m512\u001b[0m │ conv2d_3[\u001b[38;5;34m0\u001b[0m][\u001b[38;5;34m0\u001b[0m]    │\n",
       "│ (\u001b[38;5;33mBatchNormalizatio…\u001b[0m │ \u001b[38;5;34m128\u001b[0m)              │            │                   │\n",
       "├─────────────────────┼───────────────────┼────────────┼───────────────────┤\n",
       "│ add (\u001b[38;5;33mAdd\u001b[0m)           │ (\u001b[38;5;45mNone\u001b[0m, \u001b[38;5;34m55\u001b[0m, \u001b[38;5;34m55\u001b[0m,    │          \u001b[38;5;34m0\u001b[0m │ block2_pool[\u001b[38;5;34m0\u001b[0m][\u001b[38;5;34m0\u001b[0m… │\n",
       "│                     │ \u001b[38;5;34m128\u001b[0m)              │            │ batch_normalizat… │\n",
       "├─────────────────────┼───────────────────┼────────────┼───────────────────┤\n",
       "│ block3_sepconv1_act │ (\u001b[38;5;45mNone\u001b[0m, \u001b[38;5;34m55\u001b[0m, \u001b[38;5;34m55\u001b[0m,    │          \u001b[38;5;34m0\u001b[0m │ add[\u001b[38;5;34m0\u001b[0m][\u001b[38;5;34m0\u001b[0m]         │\n",
       "│ (\u001b[38;5;33mActivation\u001b[0m)        │ \u001b[38;5;34m128\u001b[0m)              │            │                   │\n",
       "├─────────────────────┼───────────────────┼────────────┼───────────────────┤\n",
       "│ block3_sepconv1     │ (\u001b[38;5;45mNone\u001b[0m, \u001b[38;5;34m55\u001b[0m, \u001b[38;5;34m55\u001b[0m,    │     \u001b[38;5;34m33,920\u001b[0m │ block3_sepconv1_… │\n",
       "│ (\u001b[38;5;33mSeparableConv2D\u001b[0m)   │ \u001b[38;5;34m256\u001b[0m)              │            │                   │\n",
       "├─────────────────────┼───────────────────┼────────────┼───────────────────┤\n",
       "│ block3_sepconv1_bn  │ (\u001b[38;5;45mNone\u001b[0m, \u001b[38;5;34m55\u001b[0m, \u001b[38;5;34m55\u001b[0m,    │      \u001b[38;5;34m1,024\u001b[0m │ block3_sepconv1[\u001b[38;5;34m…\u001b[0m │\n",
       "│ (\u001b[38;5;33mBatchNormalizatio…\u001b[0m │ \u001b[38;5;34m256\u001b[0m)              │            │                   │\n",
       "├─────────────────────┼───────────────────┼────────────┼───────────────────┤\n",
       "│ block3_sepconv2_act │ (\u001b[38;5;45mNone\u001b[0m, \u001b[38;5;34m55\u001b[0m, \u001b[38;5;34m55\u001b[0m,    │          \u001b[38;5;34m0\u001b[0m │ block3_sepconv1_… │\n",
       "│ (\u001b[38;5;33mActivation\u001b[0m)        │ \u001b[38;5;34m256\u001b[0m)              │            │                   │\n",
       "├─────────────────────┼───────────────────┼────────────┼───────────────────┤\n",
       "│ block3_sepconv2     │ (\u001b[38;5;45mNone\u001b[0m, \u001b[38;5;34m55\u001b[0m, \u001b[38;5;34m55\u001b[0m,    │     \u001b[38;5;34m67,840\u001b[0m │ block3_sepconv2_… │\n",
       "│ (\u001b[38;5;33mSeparableConv2D\u001b[0m)   │ \u001b[38;5;34m256\u001b[0m)              │            │                   │\n",
       "├─────────────────────┼───────────────────┼────────────┼───────────────────┤\n",
       "│ block3_sepconv2_bn  │ (\u001b[38;5;45mNone\u001b[0m, \u001b[38;5;34m55\u001b[0m, \u001b[38;5;34m55\u001b[0m,    │      \u001b[38;5;34m1,024\u001b[0m │ block3_sepconv2[\u001b[38;5;34m…\u001b[0m │\n",
       "│ (\u001b[38;5;33mBatchNormalizatio…\u001b[0m │ \u001b[38;5;34m256\u001b[0m)              │            │                   │\n",
       "├─────────────────────┼───────────────────┼────────────┼───────────────────┤\n",
       "│ conv2d_4 (\u001b[38;5;33mConv2D\u001b[0m)   │ (\u001b[38;5;45mNone\u001b[0m, \u001b[38;5;34m28\u001b[0m, \u001b[38;5;34m28\u001b[0m,    │     \u001b[38;5;34m32,768\u001b[0m │ add[\u001b[38;5;34m0\u001b[0m][\u001b[38;5;34m0\u001b[0m]         │\n",
       "│                     │ \u001b[38;5;34m256\u001b[0m)              │            │                   │\n",
       "├─────────────────────┼───────────────────┼────────────┼───────────────────┤\n",
       "│ block3_pool         │ (\u001b[38;5;45mNone\u001b[0m, \u001b[38;5;34m28\u001b[0m, \u001b[38;5;34m28\u001b[0m,    │          \u001b[38;5;34m0\u001b[0m │ block3_sepconv2_… │\n",
       "│ (\u001b[38;5;33mMaxPooling2D\u001b[0m)      │ \u001b[38;5;34m256\u001b[0m)              │            │                   │\n",
       "├─────────────────────┼───────────────────┼────────────┼───────────────────┤\n",
       "│ batch_normalizatio… │ (\u001b[38;5;45mNone\u001b[0m, \u001b[38;5;34m28\u001b[0m, \u001b[38;5;34m28\u001b[0m,    │      \u001b[38;5;34m1,024\u001b[0m │ conv2d_4[\u001b[38;5;34m0\u001b[0m][\u001b[38;5;34m0\u001b[0m]    │\n",
       "│ (\u001b[38;5;33mBatchNormalizatio…\u001b[0m │ \u001b[38;5;34m256\u001b[0m)              │            │                   │\n",
       "├─────────────────────┼───────────────────┼────────────┼───────────────────┤\n",
       "│ add_1 (\u001b[38;5;33mAdd\u001b[0m)         │ (\u001b[38;5;45mNone\u001b[0m, \u001b[38;5;34m28\u001b[0m, \u001b[38;5;34m28\u001b[0m,    │          \u001b[38;5;34m0\u001b[0m │ block3_pool[\u001b[38;5;34m0\u001b[0m][\u001b[38;5;34m0\u001b[0m… │\n",
       "│                     │ \u001b[38;5;34m256\u001b[0m)              │            │ batch_normalizat… │\n",
       "├─────────────────────┼───────────────────┼────────────┼───────────────────┤\n",
       "│ block4_sepconv1_act │ (\u001b[38;5;45mNone\u001b[0m, \u001b[38;5;34m28\u001b[0m, \u001b[38;5;34m28\u001b[0m,    │          \u001b[38;5;34m0\u001b[0m │ add_1[\u001b[38;5;34m0\u001b[0m][\u001b[38;5;34m0\u001b[0m]       │\n",
       "│ (\u001b[38;5;33mActivation\u001b[0m)        │ \u001b[38;5;34m256\u001b[0m)              │            │                   │\n",
       "├─────────────────────┼───────────────────┼────────────┼───────────────────┤\n",
       "│ block4_sepconv1     │ (\u001b[38;5;45mNone\u001b[0m, \u001b[38;5;34m28\u001b[0m, \u001b[38;5;34m28\u001b[0m,    │    \u001b[38;5;34m188,672\u001b[0m │ block4_sepconv1_… │\n",
       "│ (\u001b[38;5;33mSeparableConv2D\u001b[0m)   │ \u001b[38;5;34m728\u001b[0m)              │            │                   │\n",
       "├─────────────────────┼───────────────────┼────────────┼───────────────────┤\n",
       "│ block4_sepconv1_bn  │ (\u001b[38;5;45mNone\u001b[0m, \u001b[38;5;34m28\u001b[0m, \u001b[38;5;34m28\u001b[0m,    │      \u001b[38;5;34m2,912\u001b[0m │ block4_sepconv1[\u001b[38;5;34m…\u001b[0m │\n",
       "│ (\u001b[38;5;33mBatchNormalizatio…\u001b[0m │ \u001b[38;5;34m728\u001b[0m)              │            │                   │\n",
       "├─────────────────────┼───────────────────┼────────────┼───────────────────┤\n",
       "│ block4_sepconv2_act │ (\u001b[38;5;45mNone\u001b[0m, \u001b[38;5;34m28\u001b[0m, \u001b[38;5;34m28\u001b[0m,    │          \u001b[38;5;34m0\u001b[0m │ block4_sepconv1_… │\n",
       "│ (\u001b[38;5;33mActivation\u001b[0m)        │ \u001b[38;5;34m728\u001b[0m)              │            │                   │\n",
       "├─────────────────────┼───────────────────┼────────────┼───────────────────┤\n",
       "│ block4_sepconv2     │ (\u001b[38;5;45mNone\u001b[0m, \u001b[38;5;34m28\u001b[0m, \u001b[38;5;34m28\u001b[0m,    │    \u001b[38;5;34m536,536\u001b[0m │ block4_sepconv2_… │\n",
       "│ (\u001b[38;5;33mSeparableConv2D\u001b[0m)   │ \u001b[38;5;34m728\u001b[0m)              │            │                   │\n",
       "├─────────────────────┼───────────────────┼────────────┼───────────────────┤\n",
       "│ block4_sepconv2_bn  │ (\u001b[38;5;45mNone\u001b[0m, \u001b[38;5;34m28\u001b[0m, \u001b[38;5;34m28\u001b[0m,    │      \u001b[38;5;34m2,912\u001b[0m │ block4_sepconv2[\u001b[38;5;34m…\u001b[0m │\n",
       "│ (\u001b[38;5;33mBatchNormalizatio…\u001b[0m │ \u001b[38;5;34m728\u001b[0m)              │            │                   │\n",
       "├─────────────────────┼───────────────────┼────────────┼───────────────────┤\n",
       "│ conv2d_5 (\u001b[38;5;33mConv2D\u001b[0m)   │ (\u001b[38;5;45mNone\u001b[0m, \u001b[38;5;34m14\u001b[0m, \u001b[38;5;34m14\u001b[0m,    │    \u001b[38;5;34m186,368\u001b[0m │ add_1[\u001b[38;5;34m0\u001b[0m][\u001b[38;5;34m0\u001b[0m]       │\n",
       "│                     │ \u001b[38;5;34m728\u001b[0m)              │            │                   │\n",
       "├─────────────────────┼───────────────────┼────────────┼───────────────────┤\n",
       "│ block4_pool         │ (\u001b[38;5;45mNone\u001b[0m, \u001b[38;5;34m14\u001b[0m, \u001b[38;5;34m14\u001b[0m,    │          \u001b[38;5;34m0\u001b[0m │ block4_sepconv2_… │\n",
       "│ (\u001b[38;5;33mMaxPooling2D\u001b[0m)      │ \u001b[38;5;34m728\u001b[0m)              │            │                   │\n",
       "├─────────────────────┼───────────────────┼────────────┼───────────────────┤\n",
       "│ batch_normalizatio… │ (\u001b[38;5;45mNone\u001b[0m, \u001b[38;5;34m14\u001b[0m, \u001b[38;5;34m14\u001b[0m,    │      \u001b[38;5;34m2,912\u001b[0m │ conv2d_5[\u001b[38;5;34m0\u001b[0m][\u001b[38;5;34m0\u001b[0m]    │\n",
       "│ (\u001b[38;5;33mBatchNormalizatio…\u001b[0m │ \u001b[38;5;34m728\u001b[0m)              │            │                   │\n",
       "├─────────────────────┼───────────────────┼────────────┼───────────────────┤\n",
       "│ add_2 (\u001b[38;5;33mAdd\u001b[0m)         │ (\u001b[38;5;45mNone\u001b[0m, \u001b[38;5;34m14\u001b[0m, \u001b[38;5;34m14\u001b[0m,    │          \u001b[38;5;34m0\u001b[0m │ block4_pool[\u001b[38;5;34m0\u001b[0m][\u001b[38;5;34m0\u001b[0m… │\n",
       "│                     │ \u001b[38;5;34m728\u001b[0m)              │            │ batch_normalizat… │\n",
       "├─────────────────────┼───────────────────┼────────────┼───────────────────┤\n",
       "│ block5_sepconv1_act │ (\u001b[38;5;45mNone\u001b[0m, \u001b[38;5;34m14\u001b[0m, \u001b[38;5;34m14\u001b[0m,    │          \u001b[38;5;34m0\u001b[0m │ add_2[\u001b[38;5;34m0\u001b[0m][\u001b[38;5;34m0\u001b[0m]       │\n",
       "│ (\u001b[38;5;33mActivation\u001b[0m)        │ \u001b[38;5;34m728\u001b[0m)              │            │                   │\n",
       "├─────────────────────┼───────────────────┼────────────┼───────────────────┤\n",
       "│ block5_sepconv1     │ (\u001b[38;5;45mNone\u001b[0m, \u001b[38;5;34m14\u001b[0m, \u001b[38;5;34m14\u001b[0m,    │    \u001b[38;5;34m536,536\u001b[0m │ block5_sepconv1_… │\n",
       "│ (\u001b[38;5;33mSeparableConv2D\u001b[0m)   │ \u001b[38;5;34m728\u001b[0m)              │            │                   │\n",
       "├─────────────────────┼───────────────────┼────────────┼───────────────────┤\n",
       "│ block5_sepconv1_bn  │ (\u001b[38;5;45mNone\u001b[0m, \u001b[38;5;34m14\u001b[0m, \u001b[38;5;34m14\u001b[0m,    │      \u001b[38;5;34m2,912\u001b[0m │ block5_sepconv1[\u001b[38;5;34m…\u001b[0m │\n",
       "│ (\u001b[38;5;33mBatchNormalizatio…\u001b[0m │ \u001b[38;5;34m728\u001b[0m)              │            │                   │\n",
       "├─────────────────────┼───────────────────┼────────────┼───────────────────┤\n",
       "│ block5_sepconv2_act │ (\u001b[38;5;45mNone\u001b[0m, \u001b[38;5;34m14\u001b[0m, \u001b[38;5;34m14\u001b[0m,    │          \u001b[38;5;34m0\u001b[0m │ block5_sepconv1_… │\n",
       "│ (\u001b[38;5;33mActivation\u001b[0m)        │ \u001b[38;5;34m728\u001b[0m)              │            │                   │\n",
       "├─────────────────────┼───────────────────┼────────────┼───────────────────┤\n",
       "│ block5_sepconv2     │ (\u001b[38;5;45mNone\u001b[0m, \u001b[38;5;34m14\u001b[0m, \u001b[38;5;34m14\u001b[0m,    │    \u001b[38;5;34m536,536\u001b[0m │ block5_sepconv2_… │\n",
       "│ (\u001b[38;5;33mSeparableConv2D\u001b[0m)   │ \u001b[38;5;34m728\u001b[0m)              │            │                   │\n",
       "├─────────────────────┼───────────────────┼────────────┼───────────────────┤\n",
       "│ block5_sepconv2_bn  │ (\u001b[38;5;45mNone\u001b[0m, \u001b[38;5;34m14\u001b[0m, \u001b[38;5;34m14\u001b[0m,    │      \u001b[38;5;34m2,912\u001b[0m │ block5_sepconv2[\u001b[38;5;34m…\u001b[0m │\n",
       "│ (\u001b[38;5;33mBatchNormalizatio…\u001b[0m │ \u001b[38;5;34m728\u001b[0m)              │            │                   │\n",
       "├─────────────────────┼───────────────────┼────────────┼───────────────────┤\n",
       "│ block5_sepconv3_act │ (\u001b[38;5;45mNone\u001b[0m, \u001b[38;5;34m14\u001b[0m, \u001b[38;5;34m14\u001b[0m,    │          \u001b[38;5;34m0\u001b[0m │ block5_sepconv2_… │\n",
       "│ (\u001b[38;5;33mActivation\u001b[0m)        │ \u001b[38;5;34m728\u001b[0m)              │            │                   │\n",
       "├─────────────────────┼───────────────────┼────────────┼───────────────────┤\n",
       "│ block5_sepconv3     │ (\u001b[38;5;45mNone\u001b[0m, \u001b[38;5;34m14\u001b[0m, \u001b[38;5;34m14\u001b[0m,    │    \u001b[38;5;34m536,536\u001b[0m │ block5_sepconv3_… │\n",
       "│ (\u001b[38;5;33mSeparableConv2D\u001b[0m)   │ \u001b[38;5;34m728\u001b[0m)              │            │                   │\n",
       "├─────────────────────┼───────────────────┼────────────┼───────────────────┤\n",
       "│ block5_sepconv3_bn  │ (\u001b[38;5;45mNone\u001b[0m, \u001b[38;5;34m14\u001b[0m, \u001b[38;5;34m14\u001b[0m,    │      \u001b[38;5;34m2,912\u001b[0m │ block5_sepconv3[\u001b[38;5;34m…\u001b[0m │\n",
       "│ (\u001b[38;5;33mBatchNormalizatio…\u001b[0m │ \u001b[38;5;34m728\u001b[0m)              │            │                   │\n",
       "├─────────────────────┼───────────────────┼────────────┼───────────────────┤\n",
       "│ add_3 (\u001b[38;5;33mAdd\u001b[0m)         │ (\u001b[38;5;45mNone\u001b[0m, \u001b[38;5;34m14\u001b[0m, \u001b[38;5;34m14\u001b[0m,    │          \u001b[38;5;34m0\u001b[0m │ block5_sepconv3_… │\n",
       "│                     │ \u001b[38;5;34m728\u001b[0m)              │            │ add_2[\u001b[38;5;34m0\u001b[0m][\u001b[38;5;34m0\u001b[0m]       │\n",
       "├─────────────────────┼───────────────────┼────────────┼───────────────────┤\n",
       "│ block6_sepconv1_act │ (\u001b[38;5;45mNone\u001b[0m, \u001b[38;5;34m14\u001b[0m, \u001b[38;5;34m14\u001b[0m,    │          \u001b[38;5;34m0\u001b[0m │ add_3[\u001b[38;5;34m0\u001b[0m][\u001b[38;5;34m0\u001b[0m]       │\n",
       "│ (\u001b[38;5;33mActivation\u001b[0m)        │ \u001b[38;5;34m728\u001b[0m)              │            │                   │\n",
       "├─────────────────────┼───────────────────┼────────────┼───────────────────┤\n",
       "│ block6_sepconv1     │ (\u001b[38;5;45mNone\u001b[0m, \u001b[38;5;34m14\u001b[0m, \u001b[38;5;34m14\u001b[0m,    │    \u001b[38;5;34m536,536\u001b[0m │ block6_sepconv1_… │\n",
       "│ (\u001b[38;5;33mSeparableConv2D\u001b[0m)   │ \u001b[38;5;34m728\u001b[0m)              │            │                   │\n",
       "├─────────────────────┼───────────────────┼────────────┼───────────────────┤\n",
       "│ block6_sepconv1_bn  │ (\u001b[38;5;45mNone\u001b[0m, \u001b[38;5;34m14\u001b[0m, \u001b[38;5;34m14\u001b[0m,    │      \u001b[38;5;34m2,912\u001b[0m │ block6_sepconv1[\u001b[38;5;34m…\u001b[0m │\n",
       "│ (\u001b[38;5;33mBatchNormalizatio…\u001b[0m │ \u001b[38;5;34m728\u001b[0m)              │            │                   │\n",
       "├─────────────────────┼───────────────────┼────────────┼───────────────────┤\n",
       "│ block6_sepconv2_act │ (\u001b[38;5;45mNone\u001b[0m, \u001b[38;5;34m14\u001b[0m, \u001b[38;5;34m14\u001b[0m,    │          \u001b[38;5;34m0\u001b[0m │ block6_sepconv1_… │\n",
       "│ (\u001b[38;5;33mActivation\u001b[0m)        │ \u001b[38;5;34m728\u001b[0m)              │            │                   │\n",
       "├─────────────────────┼───────────────────┼────────────┼───────────────────┤\n",
       "│ block6_sepconv2     │ (\u001b[38;5;45mNone\u001b[0m, \u001b[38;5;34m14\u001b[0m, \u001b[38;5;34m14\u001b[0m,    │    \u001b[38;5;34m536,536\u001b[0m │ block6_sepconv2_… │\n",
       "│ (\u001b[38;5;33mSeparableConv2D\u001b[0m)   │ \u001b[38;5;34m728\u001b[0m)              │            │                   │\n",
       "├─────────────────────┼───────────────────┼────────────┼───────────────────┤\n",
       "│ block6_sepconv2_bn  │ (\u001b[38;5;45mNone\u001b[0m, \u001b[38;5;34m14\u001b[0m, \u001b[38;5;34m14\u001b[0m,    │      \u001b[38;5;34m2,912\u001b[0m │ block6_sepconv2[\u001b[38;5;34m…\u001b[0m │\n",
       "│ (\u001b[38;5;33mBatchNormalizatio…\u001b[0m │ \u001b[38;5;34m728\u001b[0m)              │            │                   │\n",
       "├─────────────────────┼───────────────────┼────────────┼───────────────────┤\n",
       "│ block6_sepconv3_act │ (\u001b[38;5;45mNone\u001b[0m, \u001b[38;5;34m14\u001b[0m, \u001b[38;5;34m14\u001b[0m,    │          \u001b[38;5;34m0\u001b[0m │ block6_sepconv2_… │\n",
       "│ (\u001b[38;5;33mActivation\u001b[0m)        │ \u001b[38;5;34m728\u001b[0m)              │            │                   │\n",
       "├─────────────────────┼───────────────────┼────────────┼───────────────────┤\n",
       "│ block6_sepconv3     │ (\u001b[38;5;45mNone\u001b[0m, \u001b[38;5;34m14\u001b[0m, \u001b[38;5;34m14\u001b[0m,    │    \u001b[38;5;34m536,536\u001b[0m │ block6_sepconv3_… │\n",
       "│ (\u001b[38;5;33mSeparableConv2D\u001b[0m)   │ \u001b[38;5;34m728\u001b[0m)              │            │                   │\n",
       "├─────────────────────┼───────────────────┼────────────┼───────────────────┤\n",
       "│ block6_sepconv3_bn  │ (\u001b[38;5;45mNone\u001b[0m, \u001b[38;5;34m14\u001b[0m, \u001b[38;5;34m14\u001b[0m,    │      \u001b[38;5;34m2,912\u001b[0m │ block6_sepconv3[\u001b[38;5;34m…\u001b[0m │\n",
       "│ (\u001b[38;5;33mBatchNormalizatio…\u001b[0m │ \u001b[38;5;34m728\u001b[0m)              │            │                   │\n",
       "├─────────────────────┼───────────────────┼────────────┼───────────────────┤\n",
       "│ add_4 (\u001b[38;5;33mAdd\u001b[0m)         │ (\u001b[38;5;45mNone\u001b[0m, \u001b[38;5;34m14\u001b[0m, \u001b[38;5;34m14\u001b[0m,    │          \u001b[38;5;34m0\u001b[0m │ block6_sepconv3_… │\n",
       "│                     │ \u001b[38;5;34m728\u001b[0m)              │            │ add_3[\u001b[38;5;34m0\u001b[0m][\u001b[38;5;34m0\u001b[0m]       │\n",
       "├─────────────────────┼───────────────────┼────────────┼───────────────────┤\n",
       "│ block7_sepconv1_act │ (\u001b[38;5;45mNone\u001b[0m, \u001b[38;5;34m14\u001b[0m, \u001b[38;5;34m14\u001b[0m,    │          \u001b[38;5;34m0\u001b[0m │ add_4[\u001b[38;5;34m0\u001b[0m][\u001b[38;5;34m0\u001b[0m]       │\n",
       "│ (\u001b[38;5;33mActivation\u001b[0m)        │ \u001b[38;5;34m728\u001b[0m)              │            │                   │\n",
       "├─────────────────────┼───────────────────┼────────────┼───────────────────┤\n",
       "│ block7_sepconv1     │ (\u001b[38;5;45mNone\u001b[0m, \u001b[38;5;34m14\u001b[0m, \u001b[38;5;34m14\u001b[0m,    │    \u001b[38;5;34m536,536\u001b[0m │ block7_sepconv1_… │\n",
       "│ (\u001b[38;5;33mSeparableConv2D\u001b[0m)   │ \u001b[38;5;34m728\u001b[0m)              │            │                   │\n",
       "├─────────────────────┼───────────────────┼────────────┼───────────────────┤\n",
       "│ block7_sepconv1_bn  │ (\u001b[38;5;45mNone\u001b[0m, \u001b[38;5;34m14\u001b[0m, \u001b[38;5;34m14\u001b[0m,    │      \u001b[38;5;34m2,912\u001b[0m │ block7_sepconv1[\u001b[38;5;34m…\u001b[0m │\n",
       "│ (\u001b[38;5;33mBatchNormalizatio…\u001b[0m │ \u001b[38;5;34m728\u001b[0m)              │            │                   │\n",
       "├─────────────────────┼───────────────────┼────────────┼───────────────────┤\n",
       "│ block7_sepconv2_act │ (\u001b[38;5;45mNone\u001b[0m, \u001b[38;5;34m14\u001b[0m, \u001b[38;5;34m14\u001b[0m,    │          \u001b[38;5;34m0\u001b[0m │ block7_sepconv1_… │\n",
       "│ (\u001b[38;5;33mActivation\u001b[0m)        │ \u001b[38;5;34m728\u001b[0m)              │            │                   │\n",
       "├─────────────────────┼───────────────────┼────────────┼───────────────────┤\n",
       "│ block7_sepconv2     │ (\u001b[38;5;45mNone\u001b[0m, \u001b[38;5;34m14\u001b[0m, \u001b[38;5;34m14\u001b[0m,    │    \u001b[38;5;34m536,536\u001b[0m │ block7_sepconv2_… │\n",
       "│ (\u001b[38;5;33mSeparableConv2D\u001b[0m)   │ \u001b[38;5;34m728\u001b[0m)              │            │                   │\n",
       "├─────────────────────┼───────────────────┼────────────┼───────────────────┤\n",
       "│ block7_sepconv2_bn  │ (\u001b[38;5;45mNone\u001b[0m, \u001b[38;5;34m14\u001b[0m, \u001b[38;5;34m14\u001b[0m,    │      \u001b[38;5;34m2,912\u001b[0m │ block7_sepconv2[\u001b[38;5;34m…\u001b[0m │\n",
       "│ (\u001b[38;5;33mBatchNormalizatio…\u001b[0m │ \u001b[38;5;34m728\u001b[0m)              │            │                   │\n",
       "├─────────────────────┼───────────────────┼────────────┼───────────────────┤\n",
       "│ block7_sepconv3_act │ (\u001b[38;5;45mNone\u001b[0m, \u001b[38;5;34m14\u001b[0m, \u001b[38;5;34m14\u001b[0m,    │          \u001b[38;5;34m0\u001b[0m │ block7_sepconv2_… │\n",
       "│ (\u001b[38;5;33mActivation\u001b[0m)        │ \u001b[38;5;34m728\u001b[0m)              │            │                   │\n",
       "├─────────────────────┼───────────────────┼────────────┼───────────────────┤\n",
       "│ block7_sepconv3     │ (\u001b[38;5;45mNone\u001b[0m, \u001b[38;5;34m14\u001b[0m, \u001b[38;5;34m14\u001b[0m,    │    \u001b[38;5;34m536,536\u001b[0m │ block7_sepconv3_… │\n",
       "│ (\u001b[38;5;33mSeparableConv2D\u001b[0m)   │ \u001b[38;5;34m728\u001b[0m)              │            │                   │\n",
       "├─────────────────────┼───────────────────┼────────────┼───────────────────┤\n",
       "│ block7_sepconv3_bn  │ (\u001b[38;5;45mNone\u001b[0m, \u001b[38;5;34m14\u001b[0m, \u001b[38;5;34m14\u001b[0m,    │      \u001b[38;5;34m2,912\u001b[0m │ block7_sepconv3[\u001b[38;5;34m…\u001b[0m │\n",
       "│ (\u001b[38;5;33mBatchNormalizatio…\u001b[0m │ \u001b[38;5;34m728\u001b[0m)              │            │                   │\n",
       "├─────────────────────┼───────────────────┼────────────┼───────────────────┤\n",
       "│ add_5 (\u001b[38;5;33mAdd\u001b[0m)         │ (\u001b[38;5;45mNone\u001b[0m, \u001b[38;5;34m14\u001b[0m, \u001b[38;5;34m14\u001b[0m,    │          \u001b[38;5;34m0\u001b[0m │ block7_sepconv3_… │\n",
       "│                     │ \u001b[38;5;34m728\u001b[0m)              │            │ add_4[\u001b[38;5;34m0\u001b[0m][\u001b[38;5;34m0\u001b[0m]       │\n",
       "├─────────────────────┼───────────────────┼────────────┼───────────────────┤\n",
       "│ block8_sepconv1_act │ (\u001b[38;5;45mNone\u001b[0m, \u001b[38;5;34m14\u001b[0m, \u001b[38;5;34m14\u001b[0m,    │          \u001b[38;5;34m0\u001b[0m │ add_5[\u001b[38;5;34m0\u001b[0m][\u001b[38;5;34m0\u001b[0m]       │\n",
       "│ (\u001b[38;5;33mActivation\u001b[0m)        │ \u001b[38;5;34m728\u001b[0m)              │            │                   │\n",
       "├─────────────────────┼───────────────────┼────────────┼───────────────────┤\n",
       "│ block8_sepconv1     │ (\u001b[38;5;45mNone\u001b[0m, \u001b[38;5;34m14\u001b[0m, \u001b[38;5;34m14\u001b[0m,    │    \u001b[38;5;34m536,536\u001b[0m │ block8_sepconv1_… │\n",
       "│ (\u001b[38;5;33mSeparableConv2D\u001b[0m)   │ \u001b[38;5;34m728\u001b[0m)              │            │                   │\n",
       "├─────────────────────┼───────────────────┼────────────┼───────────────────┤\n",
       "│ block8_sepconv1_bn  │ (\u001b[38;5;45mNone\u001b[0m, \u001b[38;5;34m14\u001b[0m, \u001b[38;5;34m14\u001b[0m,    │      \u001b[38;5;34m2,912\u001b[0m │ block8_sepconv1[\u001b[38;5;34m…\u001b[0m │\n",
       "│ (\u001b[38;5;33mBatchNormalizatio…\u001b[0m │ \u001b[38;5;34m728\u001b[0m)              │            │                   │\n",
       "├─────────────────────┼───────────────────┼────────────┼───────────────────┤\n",
       "│ block8_sepconv2_act │ (\u001b[38;5;45mNone\u001b[0m, \u001b[38;5;34m14\u001b[0m, \u001b[38;5;34m14\u001b[0m,    │          \u001b[38;5;34m0\u001b[0m │ block8_sepconv1_… │\n",
       "│ (\u001b[38;5;33mActivation\u001b[0m)        │ \u001b[38;5;34m728\u001b[0m)              │            │                   │\n",
       "├─────────────────────┼───────────────────┼────────────┼───────────────────┤\n",
       "│ block8_sepconv2     │ (\u001b[38;5;45mNone\u001b[0m, \u001b[38;5;34m14\u001b[0m, \u001b[38;5;34m14\u001b[0m,    │    \u001b[38;5;34m536,536\u001b[0m │ block8_sepconv2_… │\n",
       "│ (\u001b[38;5;33mSeparableConv2D\u001b[0m)   │ \u001b[38;5;34m728\u001b[0m)              │            │                   │\n",
       "├─────────────────────┼───────────────────┼────────────┼───────────────────┤\n",
       "│ block8_sepconv2_bn  │ (\u001b[38;5;45mNone\u001b[0m, \u001b[38;5;34m14\u001b[0m, \u001b[38;5;34m14\u001b[0m,    │      \u001b[38;5;34m2,912\u001b[0m │ block8_sepconv2[\u001b[38;5;34m…\u001b[0m │\n",
       "│ (\u001b[38;5;33mBatchNormalizatio…\u001b[0m │ \u001b[38;5;34m728\u001b[0m)              │            │                   │\n",
       "├─────────────────────┼───────────────────┼────────────┼───────────────────┤\n",
       "│ block8_sepconv3_act │ (\u001b[38;5;45mNone\u001b[0m, \u001b[38;5;34m14\u001b[0m, \u001b[38;5;34m14\u001b[0m,    │          \u001b[38;5;34m0\u001b[0m │ block8_sepconv2_… │\n",
       "│ (\u001b[38;5;33mActivation\u001b[0m)        │ \u001b[38;5;34m728\u001b[0m)              │            │                   │\n",
       "├─────────────────────┼───────────────────┼────────────┼───────────────────┤\n",
       "│ block8_sepconv3     │ (\u001b[38;5;45mNone\u001b[0m, \u001b[38;5;34m14\u001b[0m, \u001b[38;5;34m14\u001b[0m,    │    \u001b[38;5;34m536,536\u001b[0m │ block8_sepconv3_… │\n",
       "│ (\u001b[38;5;33mSeparableConv2D\u001b[0m)   │ \u001b[38;5;34m728\u001b[0m)              │            │                   │\n",
       "├─────────────────────┼───────────────────┼────────────┼───────────────────┤\n",
       "│ block8_sepconv3_bn  │ (\u001b[38;5;45mNone\u001b[0m, \u001b[38;5;34m14\u001b[0m, \u001b[38;5;34m14\u001b[0m,    │      \u001b[38;5;34m2,912\u001b[0m │ block8_sepconv3[\u001b[38;5;34m…\u001b[0m │\n",
       "│ (\u001b[38;5;33mBatchNormalizatio…\u001b[0m │ \u001b[38;5;34m728\u001b[0m)              │            │                   │\n",
       "├─────────────────────┼───────────────────┼────────────┼───────────────────┤\n",
       "│ add_6 (\u001b[38;5;33mAdd\u001b[0m)         │ (\u001b[38;5;45mNone\u001b[0m, \u001b[38;5;34m14\u001b[0m, \u001b[38;5;34m14\u001b[0m,    │          \u001b[38;5;34m0\u001b[0m │ block8_sepconv3_… │\n",
       "│                     │ \u001b[38;5;34m728\u001b[0m)              │            │ add_5[\u001b[38;5;34m0\u001b[0m][\u001b[38;5;34m0\u001b[0m]       │\n",
       "├─────────────────────┼───────────────────┼────────────┼───────────────────┤\n",
       "│ block9_sepconv1_act │ (\u001b[38;5;45mNone\u001b[0m, \u001b[38;5;34m14\u001b[0m, \u001b[38;5;34m14\u001b[0m,    │          \u001b[38;5;34m0\u001b[0m │ add_6[\u001b[38;5;34m0\u001b[0m][\u001b[38;5;34m0\u001b[0m]       │\n",
       "│ (\u001b[38;5;33mActivation\u001b[0m)        │ \u001b[38;5;34m728\u001b[0m)              │            │                   │\n",
       "├─────────────────────┼───────────────────┼────────────┼───────────────────┤\n",
       "│ block9_sepconv1     │ (\u001b[38;5;45mNone\u001b[0m, \u001b[38;5;34m14\u001b[0m, \u001b[38;5;34m14\u001b[0m,    │    \u001b[38;5;34m536,536\u001b[0m │ block9_sepconv1_… │\n",
       "│ (\u001b[38;5;33mSeparableConv2D\u001b[0m)   │ \u001b[38;5;34m728\u001b[0m)              │            │                   │\n",
       "├─────────────────────┼───────────────────┼────────────┼───────────────────┤\n",
       "│ block9_sepconv1_bn  │ (\u001b[38;5;45mNone\u001b[0m, \u001b[38;5;34m14\u001b[0m, \u001b[38;5;34m14\u001b[0m,    │      \u001b[38;5;34m2,912\u001b[0m │ block9_sepconv1[\u001b[38;5;34m…\u001b[0m │\n",
       "│ (\u001b[38;5;33mBatchNormalizatio…\u001b[0m │ \u001b[38;5;34m728\u001b[0m)              │            │                   │\n",
       "├─────────────────────┼───────────────────┼────────────┼───────────────────┤\n",
       "│ block9_sepconv2_act │ (\u001b[38;5;45mNone\u001b[0m, \u001b[38;5;34m14\u001b[0m, \u001b[38;5;34m14\u001b[0m,    │          \u001b[38;5;34m0\u001b[0m │ block9_sepconv1_… │\n",
       "│ (\u001b[38;5;33mActivation\u001b[0m)        │ \u001b[38;5;34m728\u001b[0m)              │            │                   │\n",
       "├─────────────────────┼───────────────────┼────────────┼───────────────────┤\n",
       "│ block9_sepconv2     │ (\u001b[38;5;45mNone\u001b[0m, \u001b[38;5;34m14\u001b[0m, \u001b[38;5;34m14\u001b[0m,    │    \u001b[38;5;34m536,536\u001b[0m │ block9_sepconv2_… │\n",
       "│ (\u001b[38;5;33mSeparableConv2D\u001b[0m)   │ \u001b[38;5;34m728\u001b[0m)              │            │                   │\n",
       "├─────────────────────┼───────────────────┼────────────┼───────────────────┤\n",
       "│ block9_sepconv2_bn  │ (\u001b[38;5;45mNone\u001b[0m, \u001b[38;5;34m14\u001b[0m, \u001b[38;5;34m14\u001b[0m,    │      \u001b[38;5;34m2,912\u001b[0m │ block9_sepconv2[\u001b[38;5;34m…\u001b[0m │\n",
       "│ (\u001b[38;5;33mBatchNormalizatio…\u001b[0m │ \u001b[38;5;34m728\u001b[0m)              │            │                   │\n",
       "├─────────────────────┼───────────────────┼────────────┼───────────────────┤\n",
       "│ block9_sepconv3_act │ (\u001b[38;5;45mNone\u001b[0m, \u001b[38;5;34m14\u001b[0m, \u001b[38;5;34m14\u001b[0m,    │          \u001b[38;5;34m0\u001b[0m │ block9_sepconv2_… │\n",
       "│ (\u001b[38;5;33mActivation\u001b[0m)        │ \u001b[38;5;34m728\u001b[0m)              │            │                   │\n",
       "├─────────────────────┼───────────────────┼────────────┼───────────────────┤\n",
       "│ block9_sepconv3     │ (\u001b[38;5;45mNone\u001b[0m, \u001b[38;5;34m14\u001b[0m, \u001b[38;5;34m14\u001b[0m,    │    \u001b[38;5;34m536,536\u001b[0m │ block9_sepconv3_… │\n",
       "│ (\u001b[38;5;33mSeparableConv2D\u001b[0m)   │ \u001b[38;5;34m728\u001b[0m)              │            │                   │\n",
       "├─────────────────────┼───────────────────┼────────────┼───────────────────┤\n",
       "│ block9_sepconv3_bn  │ (\u001b[38;5;45mNone\u001b[0m, \u001b[38;5;34m14\u001b[0m, \u001b[38;5;34m14\u001b[0m,    │      \u001b[38;5;34m2,912\u001b[0m │ block9_sepconv3[\u001b[38;5;34m…\u001b[0m │\n",
       "│ (\u001b[38;5;33mBatchNormalizatio…\u001b[0m │ \u001b[38;5;34m728\u001b[0m)              │            │                   │\n",
       "├─────────────────────┼───────────────────┼────────────┼───────────────────┤\n",
       "│ add_7 (\u001b[38;5;33mAdd\u001b[0m)         │ (\u001b[38;5;45mNone\u001b[0m, \u001b[38;5;34m14\u001b[0m, \u001b[38;5;34m14\u001b[0m,    │          \u001b[38;5;34m0\u001b[0m │ block9_sepconv3_… │\n",
       "│                     │ \u001b[38;5;34m728\u001b[0m)              │            │ add_6[\u001b[38;5;34m0\u001b[0m][\u001b[38;5;34m0\u001b[0m]       │\n",
       "├─────────────────────┼───────────────────┼────────────┼───────────────────┤\n",
       "│ block10_sepconv1_a… │ (\u001b[38;5;45mNone\u001b[0m, \u001b[38;5;34m14\u001b[0m, \u001b[38;5;34m14\u001b[0m,    │          \u001b[38;5;34m0\u001b[0m │ add_7[\u001b[38;5;34m0\u001b[0m][\u001b[38;5;34m0\u001b[0m]       │\n",
       "│ (\u001b[38;5;33mActivation\u001b[0m)        │ \u001b[38;5;34m728\u001b[0m)              │            │                   │\n",
       "├─────────────────────┼───────────────────┼────────────┼───────────────────┤\n",
       "│ block10_sepconv1    │ (\u001b[38;5;45mNone\u001b[0m, \u001b[38;5;34m14\u001b[0m, \u001b[38;5;34m14\u001b[0m,    │    \u001b[38;5;34m536,536\u001b[0m │ block10_sepconv1… │\n",
       "│ (\u001b[38;5;33mSeparableConv2D\u001b[0m)   │ \u001b[38;5;34m728\u001b[0m)              │            │                   │\n",
       "├─────────────────────┼───────────────────┼────────────┼───────────────────┤\n",
       "│ block10_sepconv1_bn │ (\u001b[38;5;45mNone\u001b[0m, \u001b[38;5;34m14\u001b[0m, \u001b[38;5;34m14\u001b[0m,    │      \u001b[38;5;34m2,912\u001b[0m │ block10_sepconv1… │\n",
       "│ (\u001b[38;5;33mBatchNormalizatio…\u001b[0m │ \u001b[38;5;34m728\u001b[0m)              │            │                   │\n",
       "├─────────────────────┼───────────────────┼────────────┼───────────────────┤\n",
       "│ block10_sepconv2_a… │ (\u001b[38;5;45mNone\u001b[0m, \u001b[38;5;34m14\u001b[0m, \u001b[38;5;34m14\u001b[0m,    │          \u001b[38;5;34m0\u001b[0m │ block10_sepconv1… │\n",
       "│ (\u001b[38;5;33mActivation\u001b[0m)        │ \u001b[38;5;34m728\u001b[0m)              │            │                   │\n",
       "├─────────────────────┼───────────────────┼────────────┼───────────────────┤\n",
       "│ block10_sepconv2    │ (\u001b[38;5;45mNone\u001b[0m, \u001b[38;5;34m14\u001b[0m, \u001b[38;5;34m14\u001b[0m,    │    \u001b[38;5;34m536,536\u001b[0m │ block10_sepconv2… │\n",
       "│ (\u001b[38;5;33mSeparableConv2D\u001b[0m)   │ \u001b[38;5;34m728\u001b[0m)              │            │                   │\n",
       "├─────────────────────┼───────────────────┼────────────┼───────────────────┤\n",
       "│ block10_sepconv2_bn │ (\u001b[38;5;45mNone\u001b[0m, \u001b[38;5;34m14\u001b[0m, \u001b[38;5;34m14\u001b[0m,    │      \u001b[38;5;34m2,912\u001b[0m │ block10_sepconv2… │\n",
       "│ (\u001b[38;5;33mBatchNormalizatio…\u001b[0m │ \u001b[38;5;34m728\u001b[0m)              │            │                   │\n",
       "├─────────────────────┼───────────────────┼────────────┼───────────────────┤\n",
       "│ block10_sepconv3_a… │ (\u001b[38;5;45mNone\u001b[0m, \u001b[38;5;34m14\u001b[0m, \u001b[38;5;34m14\u001b[0m,    │          \u001b[38;5;34m0\u001b[0m │ block10_sepconv2… │\n",
       "│ (\u001b[38;5;33mActivation\u001b[0m)        │ \u001b[38;5;34m728\u001b[0m)              │            │                   │\n",
       "├─────────────────────┼───────────────────┼────────────┼───────────────────┤\n",
       "│ block10_sepconv3    │ (\u001b[38;5;45mNone\u001b[0m, \u001b[38;5;34m14\u001b[0m, \u001b[38;5;34m14\u001b[0m,    │    \u001b[38;5;34m536,536\u001b[0m │ block10_sepconv3… │\n",
       "│ (\u001b[38;5;33mSeparableConv2D\u001b[0m)   │ \u001b[38;5;34m728\u001b[0m)              │            │                   │\n",
       "├─────────────────────┼───────────────────┼────────────┼───────────────────┤\n",
       "│ block10_sepconv3_bn │ (\u001b[38;5;45mNone\u001b[0m, \u001b[38;5;34m14\u001b[0m, \u001b[38;5;34m14\u001b[0m,    │      \u001b[38;5;34m2,912\u001b[0m │ block10_sepconv3… │\n",
       "│ (\u001b[38;5;33mBatchNormalizatio…\u001b[0m │ \u001b[38;5;34m728\u001b[0m)              │            │                   │\n",
       "├─────────────────────┼───────────────────┼────────────┼───────────────────┤\n",
       "│ add_8 (\u001b[38;5;33mAdd\u001b[0m)         │ (\u001b[38;5;45mNone\u001b[0m, \u001b[38;5;34m14\u001b[0m, \u001b[38;5;34m14\u001b[0m,    │          \u001b[38;5;34m0\u001b[0m │ block10_sepconv3… │\n",
       "│                     │ \u001b[38;5;34m728\u001b[0m)              │            │ add_7[\u001b[38;5;34m0\u001b[0m][\u001b[38;5;34m0\u001b[0m]       │\n",
       "├─────────────────────┼───────────────────┼────────────┼───────────────────┤\n",
       "│ block11_sepconv1_a… │ (\u001b[38;5;45mNone\u001b[0m, \u001b[38;5;34m14\u001b[0m, \u001b[38;5;34m14\u001b[0m,    │          \u001b[38;5;34m0\u001b[0m │ add_8[\u001b[38;5;34m0\u001b[0m][\u001b[38;5;34m0\u001b[0m]       │\n",
       "│ (\u001b[38;5;33mActivation\u001b[0m)        │ \u001b[38;5;34m728\u001b[0m)              │            │                   │\n",
       "├─────────────────────┼───────────────────┼────────────┼───────────────────┤\n",
       "│ block11_sepconv1    │ (\u001b[38;5;45mNone\u001b[0m, \u001b[38;5;34m14\u001b[0m, \u001b[38;5;34m14\u001b[0m,    │    \u001b[38;5;34m536,536\u001b[0m │ block11_sepconv1… │\n",
       "│ (\u001b[38;5;33mSeparableConv2D\u001b[0m)   │ \u001b[38;5;34m728\u001b[0m)              │            │                   │\n",
       "├─────────────────────┼───────────────────┼────────────┼───────────────────┤\n",
       "│ block11_sepconv1_bn │ (\u001b[38;5;45mNone\u001b[0m, \u001b[38;5;34m14\u001b[0m, \u001b[38;5;34m14\u001b[0m,    │      \u001b[38;5;34m2,912\u001b[0m │ block11_sepconv1… │\n",
       "│ (\u001b[38;5;33mBatchNormalizatio…\u001b[0m │ \u001b[38;5;34m728\u001b[0m)              │            │                   │\n",
       "├─────────────────────┼───────────────────┼────────────┼───────────────────┤\n",
       "│ block11_sepconv2_a… │ (\u001b[38;5;45mNone\u001b[0m, \u001b[38;5;34m14\u001b[0m, \u001b[38;5;34m14\u001b[0m,    │          \u001b[38;5;34m0\u001b[0m │ block11_sepconv1… │\n",
       "│ (\u001b[38;5;33mActivation\u001b[0m)        │ \u001b[38;5;34m728\u001b[0m)              │            │                   │\n",
       "├─────────────────────┼───────────────────┼────────────┼───────────────────┤\n",
       "│ block11_sepconv2    │ (\u001b[38;5;45mNone\u001b[0m, \u001b[38;5;34m14\u001b[0m, \u001b[38;5;34m14\u001b[0m,    │    \u001b[38;5;34m536,536\u001b[0m │ block11_sepconv2… │\n",
       "│ (\u001b[38;5;33mSeparableConv2D\u001b[0m)   │ \u001b[38;5;34m728\u001b[0m)              │            │                   │\n",
       "├─────────────────────┼───────────────────┼────────────┼───────────────────┤\n",
       "│ block11_sepconv2_bn │ (\u001b[38;5;45mNone\u001b[0m, \u001b[38;5;34m14\u001b[0m, \u001b[38;5;34m14\u001b[0m,    │      \u001b[38;5;34m2,912\u001b[0m │ block11_sepconv2… │\n",
       "│ (\u001b[38;5;33mBatchNormalizatio…\u001b[0m │ \u001b[38;5;34m728\u001b[0m)              │            │                   │\n",
       "├─────────────────────┼───────────────────┼────────────┼───────────────────┤\n",
       "│ block11_sepconv3_a… │ (\u001b[38;5;45mNone\u001b[0m, \u001b[38;5;34m14\u001b[0m, \u001b[38;5;34m14\u001b[0m,    │          \u001b[38;5;34m0\u001b[0m │ block11_sepconv2… │\n",
       "│ (\u001b[38;5;33mActivation\u001b[0m)        │ \u001b[38;5;34m728\u001b[0m)              │            │                   │\n",
       "├─────────────────────┼───────────────────┼────────────┼───────────────────┤\n",
       "│ block11_sepconv3    │ (\u001b[38;5;45mNone\u001b[0m, \u001b[38;5;34m14\u001b[0m, \u001b[38;5;34m14\u001b[0m,    │    \u001b[38;5;34m536,536\u001b[0m │ block11_sepconv3… │\n",
       "│ (\u001b[38;5;33mSeparableConv2D\u001b[0m)   │ \u001b[38;5;34m728\u001b[0m)              │            │                   │\n",
       "├─────────────────────┼───────────────────┼────────────┼───────────────────┤\n",
       "│ block11_sepconv3_bn │ (\u001b[38;5;45mNone\u001b[0m, \u001b[38;5;34m14\u001b[0m, \u001b[38;5;34m14\u001b[0m,    │      \u001b[38;5;34m2,912\u001b[0m │ block11_sepconv3… │\n",
       "│ (\u001b[38;5;33mBatchNormalizatio…\u001b[0m │ \u001b[38;5;34m728\u001b[0m)              │            │                   │\n",
       "├─────────────────────┼───────────────────┼────────────┼───────────────────┤\n",
       "│ add_9 (\u001b[38;5;33mAdd\u001b[0m)         │ (\u001b[38;5;45mNone\u001b[0m, \u001b[38;5;34m14\u001b[0m, \u001b[38;5;34m14\u001b[0m,    │          \u001b[38;5;34m0\u001b[0m │ block11_sepconv3… │\n",
       "│                     │ \u001b[38;5;34m728\u001b[0m)              │            │ add_8[\u001b[38;5;34m0\u001b[0m][\u001b[38;5;34m0\u001b[0m]       │\n",
       "├─────────────────────┼───────────────────┼────────────┼───────────────────┤\n",
       "│ block12_sepconv1_a… │ (\u001b[38;5;45mNone\u001b[0m, \u001b[38;5;34m14\u001b[0m, \u001b[38;5;34m14\u001b[0m,    │          \u001b[38;5;34m0\u001b[0m │ add_9[\u001b[38;5;34m0\u001b[0m][\u001b[38;5;34m0\u001b[0m]       │\n",
       "│ (\u001b[38;5;33mActivation\u001b[0m)        │ \u001b[38;5;34m728\u001b[0m)              │            │                   │\n",
       "├─────────────────────┼───────────────────┼────────────┼───────────────────┤\n",
       "│ block12_sepconv1    │ (\u001b[38;5;45mNone\u001b[0m, \u001b[38;5;34m14\u001b[0m, \u001b[38;5;34m14\u001b[0m,    │    \u001b[38;5;34m536,536\u001b[0m │ block12_sepconv1… │\n",
       "│ (\u001b[38;5;33mSeparableConv2D\u001b[0m)   │ \u001b[38;5;34m728\u001b[0m)              │            │                   │\n",
       "├─────────────────────┼───────────────────┼────────────┼───────────────────┤\n",
       "│ block12_sepconv1_bn │ (\u001b[38;5;45mNone\u001b[0m, \u001b[38;5;34m14\u001b[0m, \u001b[38;5;34m14\u001b[0m,    │      \u001b[38;5;34m2,912\u001b[0m │ block12_sepconv1… │\n",
       "│ (\u001b[38;5;33mBatchNormalizatio…\u001b[0m │ \u001b[38;5;34m728\u001b[0m)              │            │                   │\n",
       "├─────────────────────┼───────────────────┼────────────┼───────────────────┤\n",
       "│ block12_sepconv2_a… │ (\u001b[38;5;45mNone\u001b[0m, \u001b[38;5;34m14\u001b[0m, \u001b[38;5;34m14\u001b[0m,    │          \u001b[38;5;34m0\u001b[0m │ block12_sepconv1… │\n",
       "│ (\u001b[38;5;33mActivation\u001b[0m)        │ \u001b[38;5;34m728\u001b[0m)              │            │                   │\n",
       "├─────────────────────┼───────────────────┼────────────┼───────────────────┤\n",
       "│ block12_sepconv2    │ (\u001b[38;5;45mNone\u001b[0m, \u001b[38;5;34m14\u001b[0m, \u001b[38;5;34m14\u001b[0m,    │    \u001b[38;5;34m536,536\u001b[0m │ block12_sepconv2… │\n",
       "│ (\u001b[38;5;33mSeparableConv2D\u001b[0m)   │ \u001b[38;5;34m728\u001b[0m)              │            │                   │\n",
       "├─────────────────────┼───────────────────┼────────────┼───────────────────┤\n",
       "│ block12_sepconv2_bn │ (\u001b[38;5;45mNone\u001b[0m, \u001b[38;5;34m14\u001b[0m, \u001b[38;5;34m14\u001b[0m,    │      \u001b[38;5;34m2,912\u001b[0m │ block12_sepconv2… │\n",
       "│ (\u001b[38;5;33mBatchNormalizatio…\u001b[0m │ \u001b[38;5;34m728\u001b[0m)              │            │                   │\n",
       "├─────────────────────┼───────────────────┼────────────┼───────────────────┤\n",
       "│ block12_sepconv3_a… │ (\u001b[38;5;45mNone\u001b[0m, \u001b[38;5;34m14\u001b[0m, \u001b[38;5;34m14\u001b[0m,    │          \u001b[38;5;34m0\u001b[0m │ block12_sepconv2… │\n",
       "│ (\u001b[38;5;33mActivation\u001b[0m)        │ \u001b[38;5;34m728\u001b[0m)              │            │                   │\n",
       "├─────────────────────┼───────────────────┼────────────┼───────────────────┤\n",
       "│ block12_sepconv3    │ (\u001b[38;5;45mNone\u001b[0m, \u001b[38;5;34m14\u001b[0m, \u001b[38;5;34m14\u001b[0m,    │    \u001b[38;5;34m536,536\u001b[0m │ block12_sepconv3… │\n",
       "│ (\u001b[38;5;33mSeparableConv2D\u001b[0m)   │ \u001b[38;5;34m728\u001b[0m)              │            │                   │\n",
       "├─────────────────────┼───────────────────┼────────────┼───────────────────┤\n",
       "│ block12_sepconv3_bn │ (\u001b[38;5;45mNone\u001b[0m, \u001b[38;5;34m14\u001b[0m, \u001b[38;5;34m14\u001b[0m,    │      \u001b[38;5;34m2,912\u001b[0m │ block12_sepconv3… │\n",
       "│ (\u001b[38;5;33mBatchNormalizatio…\u001b[0m │ \u001b[38;5;34m728\u001b[0m)              │            │                   │\n",
       "├─────────────────────┼───────────────────┼────────────┼───────────────────┤\n",
       "│ add_10 (\u001b[38;5;33mAdd\u001b[0m)        │ (\u001b[38;5;45mNone\u001b[0m, \u001b[38;5;34m14\u001b[0m, \u001b[38;5;34m14\u001b[0m,    │          \u001b[38;5;34m0\u001b[0m │ block12_sepconv3… │\n",
       "│                     │ \u001b[38;5;34m728\u001b[0m)              │            │ add_9[\u001b[38;5;34m0\u001b[0m][\u001b[38;5;34m0\u001b[0m]       │\n",
       "├─────────────────────┼───────────────────┼────────────┼───────────────────┤\n",
       "│ block13_sepconv1_a… │ (\u001b[38;5;45mNone\u001b[0m, \u001b[38;5;34m14\u001b[0m, \u001b[38;5;34m14\u001b[0m,    │          \u001b[38;5;34m0\u001b[0m │ add_10[\u001b[38;5;34m0\u001b[0m][\u001b[38;5;34m0\u001b[0m]      │\n",
       "│ (\u001b[38;5;33mActivation\u001b[0m)        │ \u001b[38;5;34m728\u001b[0m)              │            │                   │\n",
       "├─────────────────────┼───────────────────┼────────────┼───────────────────┤\n",
       "│ block13_sepconv1    │ (\u001b[38;5;45mNone\u001b[0m, \u001b[38;5;34m14\u001b[0m, \u001b[38;5;34m14\u001b[0m,    │    \u001b[38;5;34m536,536\u001b[0m │ block13_sepconv1… │\n",
       "│ (\u001b[38;5;33mSeparableConv2D\u001b[0m)   │ \u001b[38;5;34m728\u001b[0m)              │            │                   │\n",
       "├─────────────────────┼───────────────────┼────────────┼───────────────────┤\n",
       "│ block13_sepconv1_bn │ (\u001b[38;5;45mNone\u001b[0m, \u001b[38;5;34m14\u001b[0m, \u001b[38;5;34m14\u001b[0m,    │      \u001b[38;5;34m2,912\u001b[0m │ block13_sepconv1… │\n",
       "│ (\u001b[38;5;33mBatchNormalizatio…\u001b[0m │ \u001b[38;5;34m728\u001b[0m)              │            │                   │\n",
       "├─────────────────────┼───────────────────┼────────────┼───────────────────┤\n",
       "│ block13_sepconv2_a… │ (\u001b[38;5;45mNone\u001b[0m, \u001b[38;5;34m14\u001b[0m, \u001b[38;5;34m14\u001b[0m,    │          \u001b[38;5;34m0\u001b[0m │ block13_sepconv1… │\n",
       "│ (\u001b[38;5;33mActivation\u001b[0m)        │ \u001b[38;5;34m728\u001b[0m)              │            │                   │\n",
       "├─────────────────────┼───────────────────┼────────────┼───────────────────┤\n",
       "│ block13_sepconv2    │ (\u001b[38;5;45mNone\u001b[0m, \u001b[38;5;34m14\u001b[0m, \u001b[38;5;34m14\u001b[0m,    │    \u001b[38;5;34m752,024\u001b[0m │ block13_sepconv2… │\n",
       "│ (\u001b[38;5;33mSeparableConv2D\u001b[0m)   │ \u001b[38;5;34m1024\u001b[0m)             │            │                   │\n",
       "├─────────────────────┼───────────────────┼────────────┼───────────────────┤\n",
       "│ block13_sepconv2_bn │ (\u001b[38;5;45mNone\u001b[0m, \u001b[38;5;34m14\u001b[0m, \u001b[38;5;34m14\u001b[0m,    │      \u001b[38;5;34m4,096\u001b[0m │ block13_sepconv2… │\n",
       "│ (\u001b[38;5;33mBatchNormalizatio…\u001b[0m │ \u001b[38;5;34m1024\u001b[0m)             │            │                   │\n",
       "├─────────────────────┼───────────────────┼────────────┼───────────────────┤\n",
       "│ conv2d_6 (\u001b[38;5;33mConv2D\u001b[0m)   │ (\u001b[38;5;45mNone\u001b[0m, \u001b[38;5;34m7\u001b[0m, \u001b[38;5;34m7\u001b[0m,      │    \u001b[38;5;34m745,472\u001b[0m │ add_10[\u001b[38;5;34m0\u001b[0m][\u001b[38;5;34m0\u001b[0m]      │\n",
       "│                     │ \u001b[38;5;34m1024\u001b[0m)             │            │                   │\n",
       "├─────────────────────┼───────────────────┼────────────┼───────────────────┤\n",
       "│ block13_pool        │ (\u001b[38;5;45mNone\u001b[0m, \u001b[38;5;34m7\u001b[0m, \u001b[38;5;34m7\u001b[0m,      │          \u001b[38;5;34m0\u001b[0m │ block13_sepconv2… │\n",
       "│ (\u001b[38;5;33mMaxPooling2D\u001b[0m)      │ \u001b[38;5;34m1024\u001b[0m)             │            │                   │\n",
       "├─────────────────────┼───────────────────┼────────────┼───────────────────┤\n",
       "│ batch_normalizatio… │ (\u001b[38;5;45mNone\u001b[0m, \u001b[38;5;34m7\u001b[0m, \u001b[38;5;34m7\u001b[0m,      │      \u001b[38;5;34m4,096\u001b[0m │ conv2d_6[\u001b[38;5;34m0\u001b[0m][\u001b[38;5;34m0\u001b[0m]    │\n",
       "│ (\u001b[38;5;33mBatchNormalizatio…\u001b[0m │ \u001b[38;5;34m1024\u001b[0m)             │            │                   │\n",
       "├─────────────────────┼───────────────────┼────────────┼───────────────────┤\n",
       "│ add_11 (\u001b[38;5;33mAdd\u001b[0m)        │ (\u001b[38;5;45mNone\u001b[0m, \u001b[38;5;34m7\u001b[0m, \u001b[38;5;34m7\u001b[0m,      │          \u001b[38;5;34m0\u001b[0m │ block13_pool[\u001b[38;5;34m0\u001b[0m][\u001b[38;5;34m…\u001b[0m │\n",
       "│                     │ \u001b[38;5;34m1024\u001b[0m)             │            │ batch_normalizat… │\n",
       "├─────────────────────┼───────────────────┼────────────┼───────────────────┤\n",
       "│ block14_sepconv1    │ (\u001b[38;5;45mNone\u001b[0m, \u001b[38;5;34m7\u001b[0m, \u001b[38;5;34m7\u001b[0m,      │  \u001b[38;5;34m1,582,080\u001b[0m │ add_11[\u001b[38;5;34m0\u001b[0m][\u001b[38;5;34m0\u001b[0m]      │\n",
       "│ (\u001b[38;5;33mSeparableConv2D\u001b[0m)   │ \u001b[38;5;34m1536\u001b[0m)             │            │                   │\n",
       "├─────────────────────┼───────────────────┼────────────┼───────────────────┤\n",
       "│ block14_sepconv1_bn │ (\u001b[38;5;45mNone\u001b[0m, \u001b[38;5;34m7\u001b[0m, \u001b[38;5;34m7\u001b[0m,      │      \u001b[38;5;34m6,144\u001b[0m │ block14_sepconv1… │\n",
       "│ (\u001b[38;5;33mBatchNormalizatio…\u001b[0m │ \u001b[38;5;34m1536\u001b[0m)             │            │                   │\n",
       "├─────────────────────┼───────────────────┼────────────┼───────────────────┤\n",
       "│ block14_sepconv1_a… │ (\u001b[38;5;45mNone\u001b[0m, \u001b[38;5;34m7\u001b[0m, \u001b[38;5;34m7\u001b[0m,      │          \u001b[38;5;34m0\u001b[0m │ block14_sepconv1… │\n",
       "│ (\u001b[38;5;33mActivation\u001b[0m)        │ \u001b[38;5;34m1536\u001b[0m)             │            │                   │\n",
       "├─────────────────────┼───────────────────┼────────────┼───────────────────┤\n",
       "│ block14_sepconv2    │ (\u001b[38;5;45mNone\u001b[0m, \u001b[38;5;34m7\u001b[0m, \u001b[38;5;34m7\u001b[0m,      │  \u001b[38;5;34m3,159,552\u001b[0m │ block14_sepconv1… │\n",
       "│ (\u001b[38;5;33mSeparableConv2D\u001b[0m)   │ \u001b[38;5;34m2048\u001b[0m)             │            │                   │\n",
       "├─────────────────────┼───────────────────┼────────────┼───────────────────┤\n",
       "│ block14_sepconv2_bn │ (\u001b[38;5;45mNone\u001b[0m, \u001b[38;5;34m7\u001b[0m, \u001b[38;5;34m7\u001b[0m,      │      \u001b[38;5;34m8,192\u001b[0m │ block14_sepconv2… │\n",
       "│ (\u001b[38;5;33mBatchNormalizatio…\u001b[0m │ \u001b[38;5;34m2048\u001b[0m)             │            │                   │\n",
       "├─────────────────────┼───────────────────┼────────────┼───────────────────┤\n",
       "│ block14_sepconv2_a… │ (\u001b[38;5;45mNone\u001b[0m, \u001b[38;5;34m7\u001b[0m, \u001b[38;5;34m7\u001b[0m,      │          \u001b[38;5;34m0\u001b[0m │ block14_sepconv2… │\n",
       "│ (\u001b[38;5;33mActivation\u001b[0m)        │ \u001b[38;5;34m2048\u001b[0m)             │            │                   │\n",
       "├─────────────────────┼───────────────────┼────────────┼───────────────────┤\n",
       "│ flatten_1 (\u001b[38;5;33mFlatten\u001b[0m) │ (\u001b[38;5;45mNone\u001b[0m, \u001b[38;5;34m100352\u001b[0m)    │          \u001b[38;5;34m0\u001b[0m │ block14_sepconv2… │\n",
       "├─────────────────────┼───────────────────┼────────────┼───────────────────┤\n",
       "│ dense_3 (\u001b[38;5;33mDense\u001b[0m)     │ (\u001b[38;5;45mNone\u001b[0m, \u001b[38;5;34m64\u001b[0m)        │  \u001b[38;5;34m6,422,592\u001b[0m │ flatten_1[\u001b[38;5;34m0\u001b[0m][\u001b[38;5;34m0\u001b[0m]   │\n",
       "├─────────────────────┼───────────────────┼────────────┼───────────────────┤\n",
       "│ dropout (\u001b[38;5;33mDropout\u001b[0m)   │ (\u001b[38;5;45mNone\u001b[0m, \u001b[38;5;34m64\u001b[0m)        │          \u001b[38;5;34m0\u001b[0m │ dense_3[\u001b[38;5;34m0\u001b[0m][\u001b[38;5;34m0\u001b[0m]     │\n",
       "├─────────────────────┼───────────────────┼────────────┼───────────────────┤\n",
       "│ dense_4 (\u001b[38;5;33mDense\u001b[0m)     │ (\u001b[38;5;45mNone\u001b[0m, \u001b[38;5;34m64\u001b[0m)        │      \u001b[38;5;34m4,160\u001b[0m │ dropout[\u001b[38;5;34m0\u001b[0m][\u001b[38;5;34m0\u001b[0m]     │\n",
       "├─────────────────────┼───────────────────┼────────────┼───────────────────┤\n",
       "│ dense_5 (\u001b[38;5;33mDense\u001b[0m)     │ (\u001b[38;5;45mNone\u001b[0m, \u001b[38;5;34m1\u001b[0m)         │         \u001b[38;5;34m65\u001b[0m │ dense_4[\u001b[38;5;34m0\u001b[0m][\u001b[38;5;34m0\u001b[0m]     │\n",
       "└─────────────────────┴───────────────────┴────────────┴───────────────────┘\n"
      ]
     },
     "metadata": {},
     "output_type": "display_data"
    },
    {
     "data": {
      "text/html": [
       "<pre style=\"white-space:pre;overflow-x:auto;line-height:normal;font-family:Menlo,'DejaVu Sans Mono',consolas,'Courier New',monospace\"><span style=\"font-weight: bold\"> Total params: </span><span style=\"color: #00af00; text-decoration-color: #00af00\">40,141,933</span> (153.13 MB)\n",
       "</pre>\n"
      ],
      "text/plain": [
       "\u001b[1m Total params: \u001b[0m\u001b[38;5;34m40,141,933\u001b[0m (153.13 MB)\n"
      ]
     },
     "metadata": {},
     "output_type": "display_data"
    },
    {
     "data": {
      "text/html": [
       "<pre style=\"white-space:pre;overflow-x:auto;line-height:normal;font-family:Menlo,'DejaVu Sans Mono',consolas,'Courier New',monospace\"><span style=\"font-weight: bold\"> Trainable params: </span><span style=\"color: #00af00; text-decoration-color: #00af00\">6,426,817</span> (24.52 MB)\n",
       "</pre>\n"
      ],
      "text/plain": [
       "\u001b[1m Trainable params: \u001b[0m\u001b[38;5;34m6,426,817\u001b[0m (24.52 MB)\n"
      ]
     },
     "metadata": {},
     "output_type": "display_data"
    },
    {
     "data": {
      "text/html": [
       "<pre style=\"white-space:pre;overflow-x:auto;line-height:normal;font-family:Menlo,'DejaVu Sans Mono',consolas,'Courier New',monospace\"><span style=\"font-weight: bold\"> Non-trainable params: </span><span style=\"color: #00af00; text-decoration-color: #00af00\">20,861,480</span> (79.58 MB)\n",
       "</pre>\n"
      ],
      "text/plain": [
       "\u001b[1m Non-trainable params: \u001b[0m\u001b[38;5;34m20,861,480\u001b[0m (79.58 MB)\n"
      ]
     },
     "metadata": {},
     "output_type": "display_data"
    },
    {
     "data": {
      "text/html": [
       "<pre style=\"white-space:pre;overflow-x:auto;line-height:normal;font-family:Menlo,'DejaVu Sans Mono',consolas,'Courier New',monospace\"><span style=\"font-weight: bold\"> Optimizer params: </span><span style=\"color: #00af00; text-decoration-color: #00af00\">12,853,636</span> (49.03 MB)\n",
       "</pre>\n"
      ],
      "text/plain": [
       "\u001b[1m Optimizer params: \u001b[0m\u001b[38;5;34m12,853,636\u001b[0m (49.03 MB)\n"
      ]
     },
     "metadata": {},
     "output_type": "display_data"
    }
   ],
   "source": [
    "model_Xception.summary()"
   ]
  },
  {
   "cell_type": "code",
   "execution_count": 36,
   "id": "b03f6d3d",
   "metadata": {
    "execution": {
     "iopub.execute_input": "2024-04-26T19:21:01.884115Z",
     "iopub.status.busy": "2024-04-26T19:21:01.883722Z",
     "iopub.status.idle": "2024-04-26T19:21:01.888444Z",
     "shell.execute_reply": "2024-04-26T19:21:01.887368Z"
    },
    "papermill": {
     "duration": 0.064627,
     "end_time": "2024-04-26T19:21:01.891017",
     "exception": false,
     "start_time": "2024-04-26T19:21:01.826390",
     "status": "completed"
    },
    "tags": []
   },
   "outputs": [],
   "source": [
    "#!git clone https://github.com/RagabHassan1/tantawy_project_final.git"
   ]
  },
  {
   "cell_type": "code",
   "execution_count": 37,
   "id": "4771b6c8",
   "metadata": {
    "execution": {
     "iopub.execute_input": "2024-04-26T19:21:02.003914Z",
     "iopub.status.busy": "2024-04-26T19:21:02.003448Z",
     "iopub.status.idle": "2024-04-26T19:21:02.008410Z",
     "shell.execute_reply": "2024-04-26T19:21:02.007234Z"
    },
    "papermill": {
     "duration": 0.063752,
     "end_time": "2024-04-26T19:21:02.010679",
     "exception": false,
     "start_time": "2024-04-26T19:21:01.946927",
     "status": "completed"
    },
    "tags": []
   },
   "outputs": [],
   "source": [
    "#!mv /kaggle/working/brain_tumor.h5 /kaggle/working/tantawy_project_final"
   ]
  },
  {
   "cell_type": "code",
   "execution_count": 38,
   "id": "dcf89017",
   "metadata": {
    "execution": {
     "iopub.execute_input": "2024-04-26T19:21:02.123306Z",
     "iopub.status.busy": "2024-04-26T19:21:02.122938Z",
     "iopub.status.idle": "2024-04-26T19:21:02.127606Z",
     "shell.execute_reply": "2024-04-26T19:21:02.126448Z"
    },
    "papermill": {
     "duration": 0.063421,
     "end_time": "2024-04-26T19:21:02.130030",
     "exception": false,
     "start_time": "2024-04-26T19:21:02.066609",
     "status": "completed"
    },
    "tags": []
   },
   "outputs": [],
   "source": [
    "#!git add /kaggle/working/tantawy_project_final/brain_tumor.h5\n"
   ]
  },
  {
   "cell_type": "code",
   "execution_count": 39,
   "id": "97879327",
   "metadata": {
    "execution": {
     "iopub.execute_input": "2024-04-26T19:21:02.243994Z",
     "iopub.status.busy": "2024-04-26T19:21:02.243271Z",
     "iopub.status.idle": "2024-04-26T19:21:02.248084Z",
     "shell.execute_reply": "2024-04-26T19:21:02.247047Z"
    },
    "papermill": {
     "duration": 0.063463,
     "end_time": "2024-04-26T19:21:02.250270",
     "exception": false,
     "start_time": "2024-04-26T19:21:02.186807",
     "status": "completed"
    },
    "tags": []
   },
   "outputs": [],
   "source": [
    "#%cd tantawy_project_final/"
   ]
  },
  {
   "cell_type": "code",
   "execution_count": 40,
   "id": "7e0dd8d4",
   "metadata": {
    "execution": {
     "iopub.execute_input": "2024-04-26T19:21:02.368331Z",
     "iopub.status.busy": "2024-04-26T19:21:02.367918Z",
     "iopub.status.idle": "2024-04-26T19:21:02.372596Z",
     "shell.execute_reply": "2024-04-26T19:21:02.371539Z"
    },
    "papermill": {
     "duration": 0.062784,
     "end_time": "2024-04-26T19:21:02.374886",
     "exception": false,
     "start_time": "2024-04-26T19:21:02.312102",
     "status": "completed"
    },
    "tags": []
   },
   "outputs": [],
   "source": [
    "#!pwd"
   ]
  },
  {
   "cell_type": "code",
   "execution_count": 41,
   "id": "8b6c0e3b",
   "metadata": {
    "execution": {
     "iopub.execute_input": "2024-04-26T19:21:02.488561Z",
     "iopub.status.busy": "2024-04-26T19:21:02.488150Z",
     "iopub.status.idle": "2024-04-26T19:21:02.492697Z",
     "shell.execute_reply": "2024-04-26T19:21:02.491662Z"
    },
    "papermill": {
     "duration": 0.064298,
     "end_time": "2024-04-26T19:21:02.494897",
     "exception": false,
     "start_time": "2024-04-26T19:21:02.430599",
     "status": "completed"
    },
    "tags": []
   },
   "outputs": [],
   "source": [
    "#! git add brain_tumor.h5"
   ]
  },
  {
   "cell_type": "code",
   "execution_count": 42,
   "id": "d9dbc676",
   "metadata": {
    "execution": {
     "iopub.execute_input": "2024-04-26T19:21:02.608732Z",
     "iopub.status.busy": "2024-04-26T19:21:02.607822Z",
     "iopub.status.idle": "2024-04-26T19:21:02.612446Z",
     "shell.execute_reply": "2024-04-26T19:21:02.611368Z"
    },
    "papermill": {
     "duration": 0.064451,
     "end_time": "2024-04-26T19:21:02.614859",
     "exception": false,
     "start_time": "2024-04-26T19:21:02.550408",
     "status": "completed"
    },
    "tags": []
   },
   "outputs": [],
   "source": [
    "#!git commit -m \"Added Keras brain_tumor.h5\"\n"
   ]
  },
  {
   "cell_type": "code",
   "execution_count": 43,
   "id": "6a1cba4e",
   "metadata": {
    "execution": {
     "iopub.execute_input": "2024-04-26T19:21:02.728038Z",
     "iopub.status.busy": "2024-04-26T19:21:02.727645Z",
     "iopub.status.idle": "2024-04-26T19:21:02.732262Z",
     "shell.execute_reply": "2024-04-26T19:21:02.731218Z"
    },
    "papermill": {
     "duration": 0.064205,
     "end_time": "2024-04-26T19:21:02.734440",
     "exception": false,
     "start_time": "2024-04-26T19:21:02.670235",
     "status": "completed"
    },
    "tags": []
   },
   "outputs": [],
   "source": [
    "#!git push"
   ]
  },
  {
   "cell_type": "code",
   "execution_count": 44,
   "id": "1188030e",
   "metadata": {
    "execution": {
     "iopub.execute_input": "2024-04-26T19:21:02.847788Z",
     "iopub.status.busy": "2024-04-26T19:21:02.847334Z",
     "iopub.status.idle": "2024-04-26T19:21:02.851928Z",
     "shell.execute_reply": "2024-04-26T19:21:02.850914Z"
    },
    "papermill": {
     "duration": 0.063891,
     "end_time": "2024-04-26T19:21:02.854184",
     "exception": false,
     "start_time": "2024-04-26T19:21:02.790293",
     "status": "completed"
    },
    "tags": []
   },
   "outputs": [],
   "source": [
    "#!git config --global user.email \"ragabhassan716@gmail.com\""
   ]
  },
  {
   "cell_type": "code",
   "execution_count": 45,
   "id": "cdedd143",
   "metadata": {
    "execution": {
     "iopub.execute_input": "2024-04-26T19:21:02.967135Z",
     "iopub.status.busy": "2024-04-26T19:21:02.966335Z",
     "iopub.status.idle": "2024-04-26T19:21:02.970871Z",
     "shell.execute_reply": "2024-04-26T19:21:02.969809Z"
    },
    "papermill": {
     "duration": 0.063538,
     "end_time": "2024-04-26T19:21:02.973147",
     "exception": false,
     "start_time": "2024-04-26T19:21:02.909609",
     "status": "completed"
    },
    "tags": []
   },
   "outputs": [],
   "source": [
    "#!pwd"
   ]
  },
  {
   "cell_type": "markdown",
   "id": "3684bc63",
   "metadata": {
    "papermill": {
     "duration": 0.053787,
     "end_time": "2024-04-26T19:21:03.082817",
     "exception": false,
     "start_time": "2024-04-26T19:21:03.029030",
     "status": "completed"
    },
    "tags": []
   },
   "source": []
  },
  {
   "cell_type": "code",
   "execution_count": 46,
   "id": "856c8d20",
   "metadata": {
    "execution": {
     "iopub.execute_input": "2024-04-26T19:21:03.196406Z",
     "iopub.status.busy": "2024-04-26T19:21:03.195423Z",
     "iopub.status.idle": "2024-04-26T19:21:03.200764Z",
     "shell.execute_reply": "2024-04-26T19:21:03.199621Z"
    },
    "papermill": {
     "duration": 0.066889,
     "end_time": "2024-04-26T19:21:03.203236",
     "exception": false,
     "start_time": "2024-04-26T19:21:03.136347",
     "status": "completed"
    },
    "tags": []
   },
   "outputs": [],
   "source": [
    "#!git remote add origin https://github.com/RagabHassan1/tantawy_project_final.git\n"
   ]
  },
  {
   "cell_type": "code",
   "execution_count": 47,
   "id": "88bc981b",
   "metadata": {
    "execution": {
     "iopub.execute_input": "2024-04-26T19:21:03.318516Z",
     "iopub.status.busy": "2024-04-26T19:21:03.317814Z",
     "iopub.status.idle": "2024-04-26T19:21:03.322307Z",
     "shell.execute_reply": "2024-04-26T19:21:03.321231Z"
    },
    "papermill": {
     "duration": 0.064616,
     "end_time": "2024-04-26T19:21:03.324734",
     "exception": false,
     "start_time": "2024-04-26T19:21:03.260118",
     "status": "completed"
    },
    "tags": []
   },
   "outputs": [],
   "source": [
    "\n",
    "#!git  config --global user.name \"RagabHassan1\" \n",
    "#! git push origin main"
   ]
  },
  {
   "cell_type": "code",
   "execution_count": 48,
   "id": "a7b9cb88",
   "metadata": {
    "execution": {
     "iopub.execute_input": "2024-04-26T19:21:03.437295Z",
     "iopub.status.busy": "2024-04-26T19:21:03.436925Z",
     "iopub.status.idle": "2024-04-26T19:21:04.650722Z",
     "shell.execute_reply": "2024-04-26T19:21:04.649383Z"
    },
    "papermill": {
     "duration": 1.273242,
     "end_time": "2024-04-26T19:21:04.653559",
     "exception": false,
     "start_time": "2024-04-26T19:21:03.380317",
     "status": "completed"
    },
    "tags": []
   },
   "outputs": [
    {
     "name": "stdout",
     "output_type": "stream",
     "text": [
      "fatal: not a git repository (or any parent up to mount point /kaggle)\r\n",
      "Stopping at filesystem boundary (GIT_DISCOVERY_ACROSS_FILESYSTEM not set).\r\n"
     ]
    }
   ],
   "source": [
    "! git push origin main"
   ]
  },
  {
   "cell_type": "code",
   "execution_count": null,
   "id": "896c0458",
   "metadata": {
    "papermill": {
     "duration": 0.055868,
     "end_time": "2024-04-26T19:21:04.766071",
     "exception": false,
     "start_time": "2024-04-26T19:21:04.710203",
     "status": "completed"
    },
    "tags": []
   },
   "outputs": [],
   "source": []
  }
 ],
 "metadata": {
  "kaggle": {
   "accelerator": "gpu",
   "dataSources": [
    {
     "datasetId": 165566,
     "sourceId": 377107,
     "sourceType": "datasetVersion"
    }
   ],
   "dockerImageVersionId": 30699,
   "isGpuEnabled": true,
   "isInternetEnabled": true,
   "language": "python",
   "sourceType": "notebook"
  },
  "kernelspec": {
   "display_name": "Python 3",
   "language": "python",
   "name": "python3"
  },
  "language_info": {
   "codemirror_mode": {
    "name": "ipython",
    "version": 3
   },
   "file_extension": ".py",
   "mimetype": "text/x-python",
   "name": "python",
   "nbconvert_exporter": "python",
   "pygments_lexer": "ipython3",
   "version": "3.10.13"
  },
  "papermill": {
   "default_parameters": {},
   "duration": 351.620674,
   "end_time": "2024-04-26T19:21:08.567173",
   "environment_variables": {},
   "exception": null,
   "input_path": "__notebook__.ipynb",
   "output_path": "__notebook__.ipynb",
   "parameters": {},
   "start_time": "2024-04-26T19:15:16.946499",
   "version": "2.5.0"
  }
 },
 "nbformat": 4,
 "nbformat_minor": 5
}
